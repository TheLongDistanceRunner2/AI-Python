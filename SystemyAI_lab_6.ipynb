{
  "nbformat": 4,
  "nbformat_minor": 0,
  "metadata": {
    "colab": {
      "name": "SystemyAI_lab_6.ipynb",
      "provenance": [],
      "collapsed_sections": []
    },
    "kernelspec": {
      "name": "python3",
      "display_name": "Python 3"
    }
  },
  "cells": [
    {
      "cell_type": "markdown",
      "metadata": {
        "id": "9gT7d462Dw06"
      },
      "source": [
        "Import biblioteki **TensorFlow** ([https://www.tensorflow.org/](https://www.tensorflow.org/)) z której będziemy korzystali w **uczeniu maszynowym**:"
      ]
    },
    {
      "cell_type": "code",
      "metadata": {
        "id": "6_Ec9f9O1DIv"
      },
      "source": [
        "import tensorflow as tf\n",
        "import matplotlib.pyplot as plt \n",
        "import numpy as np"
      ],
      "execution_count": null,
      "outputs": []
    },
    {
      "cell_type": "code",
      "metadata": {
        "id": "UvrFkdXPUSc_"
      },
      "source": [
        "number_of_points = 1000\n",
        "x_point = []\n",
        "y_point = []"
      ],
      "execution_count": null,
      "outputs": []
    },
    {
      "cell_type": "code",
      "metadata": {
        "id": "xpi57b1lUVuM"
      },
      "source": [
        "a = 0.22\n",
        "b = 0.78"
      ],
      "execution_count": null,
      "outputs": []
    },
    {
      "cell_type": "code",
      "metadata": {
        "id": "mvup3_mSTXwO"
      },
      "source": [
        "for i in range(number_of_points):\n",
        "    x = np.random.normal(0.0,0.5)\n",
        "    y = (a*x+b)+np.random.normal(0.0,0.1)\n",
        "    x_point.append(x)\n",
        "    y_point.append(y)"
      ],
      "execution_count": null,
      "outputs": []
    },
    {
      "cell_type": "code",
      "metadata": {
        "id": "ZSkQtZSQTnGL",
        "colab": {
          "base_uri": "https://localhost:8080/",
          "height": 265
        },
        "outputId": "651d0aef-ea29-4528-f5e4-c9c037a7cbcb"
      },
      "source": [
        "plt.scatter(x_point,y_point,c='b')\n",
        "plt.show()"
      ],
      "execution_count": null,
      "outputs": [
        {
          "output_type": "display_data",
          "data": {
            "image/png": "[encoded data removed]",
            "text/plain": [
              "<Figure size 432x288 with 1 Axes>"
            ]
          },
          "metadata": {
            "tags": [],
            "needs_background": "light"
          }
        }
      ]
    },
    {
      "cell_type": "code",
      "metadata": {
        "id": "ahy5fxZBT5a7"
      },
      "source": [
        "real_x = np.array(x_point)\n",
        "real_y = np.array(y_point)"
      ],
      "execution_count": null,
      "outputs": []
    },
    {
      "cell_type": "markdown",
      "metadata": {
        "id": "e2YcU-vD0MjT"
      },
      "source": [
        "**batch Stochastic Gradient Descent** - wykorzystujemy **cały zbiór danych**"
      ]
    },
    {
      "cell_type": "markdown",
      "metadata": {
        "id": "4wAv1ZEGRcoU"
      },
      "source": [
        "Definicja błędu:"
      ]
    },
    {
      "cell_type": "code",
      "metadata": {
        "id": "SQcbFmeFRblY"
      },
      "source": [
        "def loss_fn(real_y, pred_y):\n",
        "    return tf.reduce_mean((real_y - pred_y)**2)"
      ],
      "execution_count": null,
      "outputs": []
    },
    {
      "cell_type": "code",
      "metadata": {
        "id": "ZfgTRblnQv3a"
      },
      "source": [
        "import random\n",
        "a = tf.Variable(random.random())\n",
        "b = tf.Variable(random.random())"
      ],
      "execution_count": null,
      "outputs": []
    },
    {
      "cell_type": "code",
      "metadata": {
        "id": "hQZfN5Q-TX0h"
      },
      "source": [
        "Loss = []\n",
        "grad_a_list = []\n",
        "grad_b_list = []\n",
        "epochs = 50\n",
        "learning_rate = 0.6\n",
        "\n",
        "for _ in range(epochs):\n",
        "  with tf.GradientTape() as tape:\n",
        "    pred_y = a * real_x + b\n",
        "    loss = loss_fn(real_y, pred_y)\n",
        "    Loss.append(loss.numpy())\n",
        "\n",
        "  grad_a, grad_b = tape.gradient(loss,(a, b))\n",
        "  \n",
        "  grad_a_list.append(grad_a.numpy())\n",
        "  grad_b_list.append(grad_b.numpy())\n",
        "\n",
        "  a.assign_sub(learning_rate*grad_a)\n",
        "  b.assign_sub(learning_rate*grad_b)"
      ],
      "execution_count": null,
      "outputs": []
    },
    {
      "cell_type": "code",
      "metadata": {
        "colab": {
          "base_uri": "https://localhost:8080/"
        },
        "id": "794-h9OrYdGI",
        "outputId": "20b826d5-8ced-45de-ed81-88041acba53c"
      },
      "source": [
        "np.max(Loss),np.min(Loss)"
      ],
      "execution_count": null,
      "outputs": [
        {
          "output_type": "execute_result",
          "data": {
            "text/plain": [
              "(0.27569404, 0.0106868595)"
            ]
          },
          "metadata": {
            "tags": []
          },
          "execution_count": 11
        }
      ]
    },
    {
      "cell_type": "code",
      "metadata": {
        "colab": {
          "base_uri": "https://localhost:8080/"
        },
        "id": "Xf9n-GA4TyxU",
        "outputId": "a56ad332-4d7e-4280-bff3-3893892dcaee"
      },
      "source": [
        "print(a.numpy())\n",
        "print(b.numpy())"
      ],
      "execution_count": null,
      "outputs": [
        {
          "output_type": "stream",
          "text": [
            "0.22263427\n",
            "0.7760439\n"
          ],
          "name": "stdout"
        }
      ]
    },
    {
      "cell_type": "code",
      "metadata": {
        "colab": {
          "base_uri": "https://localhost:8080/",
          "height": 265
        },
        "id": "h7qbn6REXGUK",
        "outputId": "71dcd772-15ab-4b87-d4a7-dacfde08d22d"
      },
      "source": [
        "plt.scatter(np.arange(epochs),Loss)\n",
        "plt.show()"
      ],
      "execution_count": null,
      "outputs": [
        {
          "output_type": "display_data",
          "data": {
            "image/png": "[encoded data removed]",
            "text/plain": [
              "<Figure size 432x288 with 1 Axes>"
            ]
          },
          "metadata": {
            "tags": [],
            "needs_background": "light"
          }
        }
      ]
    },
    {
      "cell_type": "code",
      "metadata": {
        "id": "y0IbOLZHVVnP"
      },
      "source": [
        "max = np.max(x_point)\n",
        "min = np.min(x_point)"
      ],
      "execution_count": null,
      "outputs": []
    },
    {
      "cell_type": "code",
      "metadata": {
        "colab": {
          "base_uri": "https://localhost:8080/",
          "height": 265
        },
        "id": "ak3bUqElU6_V",
        "outputId": "cf3cfb40-6ea5-4933-b794-2aceda448d22"
      },
      "source": [
        "X = np.linspace(min, max, num=10)\n",
        "plt.plot(X,a.numpy()*X+b.numpy(),c='r')\n",
        "plt.scatter(x_point,y_point,c=\"b\")\n",
        "plt.show()"
      ],
      "execution_count": null,
      "outputs": [
        {
          "output_type": "display_data",
          "data": {
            "image/png": "[encoded data removed]",
            "text/plain": [
              "<Figure size 432x288 with 1 Axes>"
            ]
          },
          "metadata": {
            "tags": [],
            "needs_background": "light"
          }
        }
      ]
    },
    {
      "cell_type": "code",
      "metadata": {
        "colab": {
          "base_uri": "https://localhost:8080/",
          "height": 265
        },
        "id": "WHTQ62dXnaL0",
        "outputId": "8e741a49-f91b-4b0f-b4cc-24efd6a5df37"
      },
      "source": [
        "plt.scatter(np.arange(epochs),grad_a_list,c=\"r\")\n",
        "plt.scatter(np.arange(epochs),grad_b_list)\n",
        "plt.show()"
      ],
      "execution_count": null,
      "outputs": [
        {
          "output_type": "display_data",
          "data": {
            "image/png": "[encoded data removed]",
            "text/plain": [
              "<Figure size 432x288 with 1 Axes>"
            ]
          },
          "metadata": {
            "tags": [],
            "needs_background": "light"
          }
        }
      ]
    },
    {
      "cell_type": "markdown",
      "metadata": {
        "id": "suUXjM5z0k-S"
      },
      "source": [
        "**Mini-batch Stochastic Gradient Descent** - wykorzystujemy **część zbióru danych**"
      ]
    },
    {
      "cell_type": "code",
      "metadata": {
        "id": "XGa36-ZTtc_p"
      },
      "source": [
        "import random\n",
        "a = tf.Variable(random.random())\n",
        "b = tf.Variable(random.random())"
      ],
      "execution_count": null,
      "outputs": []
    },
    {
      "cell_type": "code",
      "metadata": {
        "id": "hJKY-CK5yT7p"
      },
      "source": [
        "def subset_dataset(x_dataset, y_dataset, subset_size):\n",
        "    arr = np.arange(len(x_dataset)) \n",
        "    np.random.shuffle(arr) \n",
        "    x_train = [x_dataset[i] for i in arr[0:subset_size]]\n",
        "    y_train = [y_dataset[i] for i in arr[0:subset_size]]\n",
        "    return x_train,y_train"
      ],
      "execution_count": null,
      "outputs": []
    },
    {
      "cell_type": "code",
      "metadata": {
        "id": "Za3TYgFhtc_p"
      },
      "source": [
        "Loss = []\n",
        "epochs = 50\n",
        "learning_rate = 0.2\n",
        "batch_size = 1\n",
        "\n",
        "for i in range(epochs):\n",
        "\n",
        "  real_x_batch,real_y_batch = subset_dataset(real_x, real_y, batch_size)\n",
        "\n",
        "  with tf.GradientTape() as tape:\n",
        "    pred_y = a * real_x_batch + b\n",
        "    loss = loss_fn(real_y_batch, pred_y)\n",
        "    Loss.append(loss.numpy())\n",
        "    \n",
        "    grad_a, grad_b = tape.gradient(loss,(a, b))\n",
        "\n",
        "  a.assign_sub(learning_rate*grad_a)\n",
        "  b.assign_sub(learning_rate*grad_b)  "
      ],
      "execution_count": null,
      "outputs": []
    },
    {
      "cell_type": "code",
      "metadata": {
        "colab": {
          "base_uri": "https://localhost:8080/"
        },
        "id": "J09JkMFJtc_p",
        "outputId": "c105b2e6-846c-433b-f2a1-d8e43b6ca4a8"
      },
      "source": [
        "np.max(Loss),np.min(Loss)"
      ],
      "execution_count": null,
      "outputs": [
        {
          "output_type": "execute_result",
          "data": {
            "text/plain": [
              "(0.11951862, 5.3063e-06)"
            ]
          },
          "metadata": {
            "tags": []
          },
          "execution_count": 20
        }
      ]
    },
    {
      "cell_type": "code",
      "metadata": {
        "colab": {
          "base_uri": "https://localhost:8080/"
        },
        "id": "6dGvt73Mtc_r",
        "outputId": "d0766d3e-fe59-4386-a969-925eaade9c6b"
      },
      "source": [
        "print(a.numpy())\n",
        "print(b.numpy())"
      ],
      "execution_count": null,
      "outputs": [
        {
          "output_type": "stream",
          "text": [
            "0.17872274\n",
            "0.76846695\n"
          ],
          "name": "stdout"
        }
      ]
    },
    {
      "cell_type": "code",
      "metadata": {
        "colab": {
          "base_uri": "https://localhost:8080/",
          "height": 265
        },
        "id": "z_2Eq0l6tc_s",
        "outputId": "b301ea57-34a4-4bb9-f442-c7cbefdda88f"
      },
      "source": [
        "plt.scatter(np.arange(epochs),Loss)\n",
        "plt.show()"
      ],
      "execution_count": null,
      "outputs": [
        {
          "output_type": "display_data",
          "data": {
            "image/png": "[encoded data removed]",
            "text/plain": [
              "<Figure size 432x288 with 1 Axes>"
            ]
          },
          "metadata": {
            "tags": [],
            "needs_background": "light"
          }
        }
      ]
    },
    {
      "cell_type": "markdown",
      "metadata": {
        "id": "VXKxv2V_c8MJ"
      },
      "source": [
        "A teraz bardziej formalnie:"
      ]
    },
    {
      "cell_type": "code",
      "metadata": {
        "id": "iLuXM-9Rbki_"
      },
      "source": [
        "import keras\n",
        "from keras.models import Sequential\n",
        "from keras.layers import Dense"
      ],
      "execution_count": null,
      "outputs": []
    },
    {
      "cell_type": "markdown",
      "metadata": {
        "id": "hI8qEUW3dE8U"
      },
      "source": [
        "Definiujemy model:"
      ]
    },
    {
      "cell_type": "code",
      "metadata": {
        "id": "RQ_JJ453buzg"
      },
      "source": [
        "model = Sequential()"
      ],
      "execution_count": null,
      "outputs": []
    },
    {
      "cell_type": "markdown",
      "metadata": {
        "id": "NGVRpbuJdLyJ"
      },
      "source": [
        "Dodajemy **jedną warstwę** (Dense) z **jednym neuronem** (units=1) z **biasem** (use_bias=True) i **liniową funkcją aktywacji** (activation=\"linear\"):"
      ]
    },
    {
      "cell_type": "code",
      "metadata": {
        "id": "1jlZOdW4dJid"
      },
      "source": [
        "model.add(Dense(units = 1, use_bias=True, input_dim=1, activation = \"linear\"))"
      ],
      "execution_count": null,
      "outputs": []
    },
    {
      "cell_type": "markdown",
      "metadata": {
        "id": "t-JY2rCMdRqw"
      },
      "source": [
        "Definiujemy **optymalizator** i **błąd** (średni błąd kwadratowy - MSE). **Współczynnik uczenia = 0.1**"
      ]
    },
    {
      "cell_type": "code",
      "metadata": {
        "id": "_fEydWn5erHN"
      },
      "source": [
        "opt = keras.optimizers.Adam(learning_rate=0.1)"
      ],
      "execution_count": null,
      "outputs": []
    },
    {
      "cell_type": "code",
      "metadata": {
        "id": "YTBIDd5db9TB"
      },
      "source": [
        "model.compile(loss='MSE',optimizer=opt)"
      ],
      "execution_count": null,
      "outputs": []
    },
    {
      "cell_type": "markdown",
      "metadata": {
        "id": "CJOaG2WTBZFz"
      },
      "source": [
        "Informacja o modelu:"
      ]
    },
    {
      "cell_type": "code",
      "metadata": {
        "id": "bCgve_WMBTTC",
        "colab": {
          "base_uri": "https://localhost:8080/"
        },
        "outputId": "992d9534-9709-4fa2-b81f-1be1e5af8f82"
      },
      "source": [
        "model.summary()"
      ],
      "execution_count": null,
      "outputs": [
        {
          "output_type": "stream",
          "text": [
            "Model: \"sequential\"\n",
            "_________________________________________________________________\n",
            "Layer (type)                 Output Shape              Param #   \n",
            "=================================================================\n",
            "dense (Dense)                (None, 1)                 2         \n",
            "=================================================================\n",
            "Total params: 2\n",
            "Trainable params: 2\n",
            "Non-trainable params: 0\n",
            "_________________________________________________________________\n"
          ],
          "name": "stdout"
        }
      ]
    },
    {
      "cell_type": "markdown",
      "metadata": {
        "id": "lAisShP0dfFy"
      },
      "source": [
        "Proces **uczenia**:"
      ]
    },
    {
      "cell_type": "code",
      "metadata": {
        "id": "ZCFkWb3ycHsO"
      },
      "source": [
        "epochs = 50\n",
        "h = model.fit(real_x,real_y, verbose=0, epochs=epochs, batch_size=1000)"
      ],
      "execution_count": null,
      "outputs": []
    },
    {
      "cell_type": "code",
      "metadata": {
        "id": "Rmq_AfNN5L4i"
      },
      "source": [
        "Loss = h.history['loss']"
      ],
      "execution_count": null,
      "outputs": []
    },
    {
      "cell_type": "markdown",
      "metadata": {
        "id": "GaNq99hUdjoT"
      },
      "source": [
        "Sprawdźmy jakie są **wartości wag**:"
      ]
    },
    {
      "cell_type": "code",
      "metadata": {
        "colab": {
          "base_uri": "https://localhost:8080/"
        },
        "id": "nJJ4yvgUa0gz",
        "outputId": "d245d676-ad7c-4535-f261-74a7b32a2afd"
      },
      "source": [
        "weights = model.get_weights()\n",
        "\n",
        "print(weights[0])\n",
        "print(weights[1])    #bias"
      ],
      "execution_count": null,
      "outputs": [
        {
          "output_type": "stream",
          "text": [
            "[[0.23555873]]\n",
            "[0.8206232]\n"
          ],
          "name": "stdout"
        }
      ]
    },
    {
      "cell_type": "code",
      "metadata": {
        "colab": {
          "base_uri": "https://localhost:8080/",
          "height": 265
        },
        "id": "SVWC5XLq5zwo",
        "outputId": "f492090d-9a28-4ffa-e725-6d3228e8542e"
      },
      "source": [
        "plt.scatter(np.arange(epochs),Loss)\n",
        "plt.show()"
      ],
      "execution_count": null,
      "outputs": [
        {
          "output_type": "display_data",
          "data": {
            "image/png": "[encoded data removed]",
            "text/plain": [
              "<Figure size 432x288 with 1 Axes>"
            ]
          },
          "metadata": {
            "tags": [],
            "needs_background": "light"
          }
        }
      ]
    }
  ]
}