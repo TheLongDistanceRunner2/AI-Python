{
  "nbformat": 4,
  "nbformat_minor": 0,
  "metadata": {
    "colab": {
      "name": "Zestaw_5.ipynb",
      "provenance": [],
      "collapsed_sections": []
    },
    "kernelspec": {
      "name": "python3",
      "display_name": "Python 3"
    }
  },
  "cells": [
    {
      "cell_type": "markdown",
      "metadata": {
        "id": "aZpummgAtaZg"
      },
      "source": [
        "**Zestaw 5:**"
      ]
    },
    {
      "cell_type": "markdown",
      "metadata": {
        "id": "dtFwW-H7tfih"
      },
      "source": [
        "**Zad 1:**"
      ]
    },
    {
      "cell_type": "code",
      "metadata": {
        "id": "4S79VCaWtjlh"
      },
      "source": [
        "import tensorflow as tf"
      ],
      "execution_count": null,
      "outputs": []
    },
    {
      "cell_type": "code",
      "metadata": {
        "colab": {
          "base_uri": "https://localhost:8080/"
        },
        "id": "7JZSYAi4tWMx",
        "outputId": "247746b4-d552-4005-b7c8-c27255b6c622"
      },
      "source": [
        "x = tf.Variable(4.0)\n",
        "\n",
        "with tf.GradientTape() as tape:\n",
        "    f = 2*x**2+3*x+4              #definicja funkcji f(x)\n",
        "    df_dx = tape.gradient(f, x)  #gradient 'f' ze względu na zmienną 'x'\n",
        "\n",
        "df_dx.numpy()"
      ],
      "execution_count": null,
      "outputs": [
        {
          "output_type": "execute_result",
          "data": {
            "text/plain": [
              "19.0"
            ]
          },
          "metadata": {
            "tags": []
          },
          "execution_count": 2
        }
      ]
    },
    {
      "cell_type": "code",
      "metadata": {
        "colab": {
          "base_uri": "https://localhost:8080/"
        },
        "id": "ZzG42yy1uDfz",
        "outputId": "c2602304-10e1-4053-8d72-b142e3b3dedc"
      },
      "source": [
        "x = tf.Variable(4.0)\n",
        "y = tf.Variable(5.0)\n",
        "\n",
        "with tf.GradientTape() as tape:\n",
        "    f = 2 * x**3 + 3 * y**2 + 4           #definicja funkcji f(x,y)\n",
        "    df_dx,df_dy = tape.gradient(f,(x,y))  #gradient 'f' ze względu na zmienną 'x' i ze względu na zmienną 'x'\n",
        "\n",
        "print(df_dx)\n",
        "print(df_dy)"
      ],
      "execution_count": null,
      "outputs": [
        {
          "output_type": "stream",
          "text": [
            "tf.Tensor(96.0, shape=(), dtype=float32)\n",
            "tf.Tensor(30.0, shape=(), dtype=float32)\n"
          ],
          "name": "stdout"
        }
      ]
    },
    {
      "cell_type": "code",
      "metadata": {
        "colab": {
          "base_uri": "https://localhost:8080/"
        },
        "id": "-M7A8C5Vup32",
        "outputId": "97024099-979a-436e-b348-976afb14118a"
      },
      "source": [
        "x = tf.Variable([1.0,3.0])\n",
        "y = tf.Variable([2.0,1.0])\n",
        "\n",
        "with tf.GradientTape() as tape:\n",
        "    f = 2 * x**3 + 3 * y**2 + 4            #definicja funkcji f(x)\n",
        "    df_dx,df_dy = tape.gradient(f,(x,y))  #gradient 'f' ze względu na zmienną 'x'\n",
        "\n",
        "print(df_dx)\n",
        "print(df_dy)"
      ],
      "execution_count": null,
      "outputs": [
        {
          "output_type": "stream",
          "text": [
            "tf.Tensor([ 6. 54.], shape=(2,), dtype=float32)\n",
            "tf.Tensor([12.  6.], shape=(2,), dtype=float32)\n"
          ],
          "name": "stdout"
        }
      ]
    },
    {
      "cell_type": "code",
      "metadata": {
        "colab": {
          "base_uri": "https://localhost:8080/"
        },
        "id": "PgUO2Kjgu8CC",
        "outputId": "8a077006-7590-463c-8c9f-2a5961face99"
      },
      "source": [
        "x = tf.random.normal([3, 4, 2])\n",
        "y = tf.random.normal([3, 4, 2])\n",
        "z = tf.random.normal([3, 4, 2])\n",
        "\n",
        "print('=> tensor x: \\n', x, '\\n\\n')\n",
        "print('=> tensor y: \\n', y, '\\n\\n')\n",
        "print('=> tensor z: \\n', z, '\\n\\n')\n",
        "\n",
        "_exp = x**2 + z**2 - 5\n",
        "_e = tf.math.exp(_exp)\n",
        "print('=> tensor _e: \\n', _e, '\\n\\n')\n",
        "\n",
        "with tf.GradientTape() as tape:\n",
        "    tape.watch(x)\n",
        "    tape.watch(y)\n",
        "    tape.watch(z)\n",
        "    f = x * y * _e                      #definicja funkcji f(x)\n",
        "    df_dx,df_dy,df_dz = tape.gradient(f,(x,y,z))  #gradient 'f' ze względu na zmienne 'x', 'y', 'z'\n",
        "\n",
        "print('\\n==========================\\n\\n=> pochodna df_dx:\\n\\n',df_dx)\n",
        "print('\\n=> pochodna df_dy:\\n\\n', df_dy)\n",
        "print('\\n=> pochodna df_dz:\\n\\n', df_dz)"
      ],
      "execution_count": null,
      "outputs": [
        {
          "output_type": "stream",
          "text": [
            "=> tensor x: \n",
            " tf.Tensor(\n",
            "[[[-0.6241922  -0.88233554]\n",
            "  [-1.4742103  -1.2047563 ]\n",
            "  [ 0.12779945  0.02699744]\n",
            "  [-0.14584678  0.14225496]]\n",
            "\n",
            " [[-2.5053823   1.2019627 ]\n",
            "  [-1.5077909   0.1560512 ]\n",
            "  [-1.4118606   0.01501423]\n",
            "  [-0.1923457  -0.25356963]]\n",
            "\n",
            " [[-0.5261999   0.7224696 ]\n",
            "  [-0.32106787 -1.3999425 ]\n",
            "  [-0.9199234   1.3781135 ]\n",
            "  [ 0.18952388  0.00510399]]], shape=(3, 4, 2), dtype=float32) \n",
            "\n",
            "\n",
            "=> tensor y: \n",
            " tf.Tensor(\n",
            "[[[-0.25662118  2.6356351 ]\n",
            "  [-0.74407274 -0.11726227]\n",
            "  [ 1.3819668   0.4916273 ]\n",
            "  [ 0.3097506  -0.14380592]]\n",
            "\n",
            " [[-0.36382312 -0.7520356 ]\n",
            "  [-0.37920928 -0.9221801 ]\n",
            "  [-0.41654682  0.89528686]\n",
            "  [-0.6385987  -0.56144327]]\n",
            "\n",
            " [[ 1.4223757   0.8174126 ]\n",
            "  [-0.32040754 -0.04707819]\n",
            "  [-0.7069834  -0.52827346]\n",
            "  [-1.5281708   0.83598495]]], shape=(3, 4, 2), dtype=float32) \n",
            "\n",
            "\n",
            "=> tensor z: \n",
            " tf.Tensor(\n",
            "[[[-0.16403037 -0.42235583]\n",
            "  [-0.60583645  0.73491096]\n",
            "  [-1.7724104   0.6887392 ]\n",
            "  [-0.23257907  0.12474833]]\n",
            "\n",
            " [[-0.9608378  -0.13485068]\n",
            "  [-0.54345626  0.3895327 ]\n",
            "  [-0.45374417 -0.37626377]\n",
            "  [-1.6853861   1.4710534 ]]\n",
            "\n",
            " [[ 0.11329725  0.43158796]\n",
            "  [-0.17900333 -1.2854137 ]\n",
            "  [-0.6893936   0.20640422]\n",
            "  [-0.7444871  -2.002983  ]]], shape=(3, 4, 2), dtype=float32) \n",
            "\n",
            "\n",
            "=> tensor _e: \n",
            " tf.Tensor(\n",
            "[[[1.02192918e-02 1.75430160e-02]\n",
            "  [8.54634717e-02 4.93672453e-02]\n",
            "  [1.58463836e-01 1.08356951e-02]\n",
            "  [7.26537127e-03 6.98352512e-03]]\n",
            "\n",
            " [[9.02636337e+00 2.90975589e-02]\n",
            "  [8.79293233e-02 8.03529005e-03]\n",
            "  [6.07635006e-02 7.76444701e-03]\n",
            "  [1.19734675e-01 6.25552759e-02]]\n",
            "\n",
            " [[9.00227856e-03 1.36806965e-02]\n",
            "  [7.71280471e-03 2.49605790e-01]\n",
            "  [2.52614114e-02 4.69721518e-02]\n",
            "  [1.21573713e-02 3.72308552e-01]]], shape=(3, 4, 2), dtype=float32) \n",
            "\n",
            "\n",
            "\n",
            "==========================\n",
            "\n",
            "=> pochodna df_dx:\n",
            "\n",
            " tf.Tensor(\n",
            "[[[-2.6224868e-03  4.6236988e-02]\n",
            "  [-6.3591041e-02 -5.7889153e-03]\n",
            "  [ 2.1899177e-01  5.3271237e-03]\n",
            "  [ 2.2504530e-03 -1.0042723e-03]]\n",
            "\n",
            " [[-3.2839997e+00 -2.1882400e-02]\n",
            "  [-3.3343617e-02 -7.4099847e-03]\n",
            "  [-2.5310842e-02  6.9514075e-03]\n",
            "  [-7.6462403e-02 -3.5121240e-02]]\n",
            "\n",
            " [[ 1.2804622e-02  1.1182774e-02]\n",
            "  [-2.4712407e-03 -1.1750989e-02]\n",
            "  [-1.7859397e-02 -2.4814142e-02]\n",
            "  [-1.8578541e-02  3.1124434e-01]]], shape=(3, 4, 2), dtype=float32)\n",
            "\n",
            "=> pochodna df_dy:\n",
            "\n",
            " tf.Tensor(\n",
            "[[[-6.3788020e-03 -1.5478826e-02]\n",
            "  [-1.2599112e-01 -5.9475496e-02]\n",
            "  [ 2.0251591e-02  2.9253607e-04]\n",
            "  [-1.0596310e-03  9.9344109e-04]]\n",
            "\n",
            " [[-2.2614491e+01  3.4974180e-02]\n",
            "  [-1.3257903e-01  1.2539166e-03]\n",
            "  [-8.5789591e-02  1.1657721e-04]\n",
            "  [-2.3030449e-02 -1.5862118e-02]]\n",
            "\n",
            " [[-4.7369977e-03  9.8838881e-03]\n",
            "  [-2.4763339e-03 -3.4943375e-01]\n",
            "  [-2.3238564e-02  6.4732954e-02]\n",
            "  [ 2.3041121e-03  1.9002596e-03]]], shape=(3, 4, 2), dtype=float32)\n",
            "\n",
            "=> pochodna df_dz:\n",
            "\n",
            " None\n"
          ],
          "name": "stdout"
        }
      ]
    },
    {
      "cell_type": "markdown",
      "metadata": {
        "id": "rMscZjszzwAa"
      },
      "source": [
        "**Zad 2:**\n",
        "Otrzymujemy gradient z obiema pochodnymi > 0, więc musimy poruszać się w kierunku przeciwnym do gradientu, zatem od zmiennych x i y odejmujemy ich wartość pomnożoną przez mały współczynnik uczenia, czyli:\n",
        "new_x = x - 0.001\n",
        "new_y = y - 0.001"
      ]
    },
    {
      "cell_type": "code",
      "metadata": {
        "colab": {
          "base_uri": "https://localhost:8080/"
        },
        "id": "-3BShWjrzygx",
        "outputId": "ef215fe7-2da5-44f2-9096-797fa2c5ee36"
      },
      "source": [
        "x = tf.Variable(4.0)\n",
        "y = tf.Variable(5.0)\n",
        "\n",
        "wynik1 = 2 * x**3 + 3 * y**2 + 4\n",
        "print('wynik1 = ', wynik1, '\\n\\n')\n",
        "\n",
        "with tf.GradientTape() as tape:\n",
        "    f = 2 * x**3 + 3 * y**2 + 4           #definicja funkcji f(x,y)\n",
        "    df_dx,df_dy = tape.gradient(f,(x,y))  #gradient 'f' ze względu na zmienną 'x' i ze względu na zmienną 'x'\n",
        "\n",
        "print(df_dx)\n",
        "print(df_dy)\n",
        "\n",
        "wspolczynnik_uczenia = tf.Variable(0.0001)\n",
        "\n",
        "new_x = x - wspolczynnik_uczenia * df_dx\n",
        "new_y = y - wspolczynnik_uczenia * df_dy\n",
        "\n",
        "wynik2 = 2 * new_x**3 + 3 * new_y**2 + 4\n",
        "print('\\n\\nwynik2 = ', wynik2, '\\n\\n')"
      ],
      "execution_count": null,
      "outputs": [
        {
          "output_type": "stream",
          "text": [
            "wynik1 =  tf.Tensor(207.0, shape=(), dtype=float32) \n",
            "\n",
            "\n",
            "tf.Tensor(96.0, shape=(), dtype=float32)\n",
            "tf.Tensor(30.0, shape=(), dtype=float32)\n",
            "\n",
            "\n",
            "wynik2 =  tf.Tensor(197.10611, shape=(), dtype=float32) \n",
            "\n",
            "\n"
          ],
          "name": "stdout"
        }
      ]
    },
    {
      "cell_type": "markdown",
      "metadata": {
        "id": "_W7tVhynKE2v"
      },
      "source": [
        "**Zad 3:**"
      ]
    },
    {
      "cell_type": "code",
      "metadata": {
        "id": "us9VZipqKxWq"
      },
      "source": [
        "import matplotlib.pyplot as plt \n",
        "import numpy as np"
      ],
      "execution_count": null,
      "outputs": []
    },
    {
      "cell_type": "code",
      "metadata": {
        "id": "3GgwwycDLTZZ"
      },
      "source": [
        "number_of_points = 1000\n",
        "x_point = []\n",
        "y_point = []"
      ],
      "execution_count": null,
      "outputs": []
    },
    {
      "cell_type": "code",
      "metadata": {
        "id": "0mFPaysFK-qt"
      },
      "source": [
        "a = -0.22\n",
        "b = 0.78"
      ],
      "execution_count": null,
      "outputs": []
    },
    {
      "cell_type": "code",
      "metadata": {
        "id": "kpYwDybxLFRg"
      },
      "source": [
        "for i in range(number_of_points):\n",
        "    x = np.random.normal(0.0,0.5)\n",
        "    y = (a*x+b)+np.random.normal(0.0,0.1)\n",
        "    x_point.append(x)\n",
        "    y_point.append(y)"
      ],
      "execution_count": null,
      "outputs": []
    },
    {
      "cell_type": "code",
      "metadata": {
        "colab": {
          "base_uri": "https://localhost:8080/",
          "height": 267
        },
        "id": "jWa3eZSDLP7d",
        "outputId": "67476e67-0401-48d2-9bc5-bf89606f596e"
      },
      "source": [
        "plt.scatter(x_point,y_point,c='b')\n",
        "plt.show()"
      ],
      "execution_count": null,
      "outputs": [
        {
          "output_type": "display_data",
          "data": {
            "image/png": "[encoded data removed]",
            "text/plain": [
              "<Figure size 432x288 with 1 Axes>"
            ]
          },
          "metadata": {
            "tags": [],
            "needs_background": "light"
          }
        }
      ]
    },
    {
      "cell_type": "markdown",
      "metadata": {
        "id": "_LaX0fAEM6fg"
      },
      "source": [
        "Definicja błędu:"
      ]
    },
    {
      "cell_type": "code",
      "metadata": {
        "id": "FaY_7SXZNN_O"
      },
      "source": [
        "real_x = np.array(x_point)\n",
        "real_y = np.array(y_point)"
      ],
      "execution_count": null,
      "outputs": []
    },
    {
      "cell_type": "code",
      "metadata": {
        "colab": {
          "base_uri": "https://localhost:8080/"
        },
        "id": "vihgAlQoM0iI",
        "outputId": "be0a280f-02de-45c6-e5a1-4c53529f8e20"
      },
      "source": [
        "x = tf.constant([1.0, 2.0, 3.0, 4.0])\n",
        "tf.reduce_mean(x)"
      ],
      "execution_count": null,
      "outputs": [
        {
          "output_type": "execute_result",
          "data": {
            "text/plain": [
              "<tf.Tensor: shape=(), dtype=float32, numpy=2.5>"
            ]
          },
          "metadata": {
            "tags": []
          },
          "execution_count": 243
        }
      ]
    },
    {
      "cell_type": "code",
      "metadata": {
        "id": "zSpcI-kCNBE2"
      },
      "source": [
        "def loss_fn(real_y, pred_y):\n",
        "    return tf.reduce_mean((real_y - pred_y)**2)"
      ],
      "execution_count": null,
      "outputs": []
    },
    {
      "cell_type": "code",
      "metadata": {
        "id": "k6UTt3SvNEnO"
      },
      "source": [
        "import random\n",
        "a = tf.Variable(random.random())\n",
        "b = tf.Variable(random.random())"
      ],
      "execution_count": null,
      "outputs": []
    },
    {
      "cell_type": "code",
      "metadata": {
        "id": "_YvHJ9CXNF-V"
      },
      "source": [
        "Loss = []\n",
        "epochs = 200\n",
        "\n",
        "for _ in range(epochs):\n",
        "  with tf.GradientTape() as tape:\n",
        "    pred_y = a * real_x + b\n",
        "    loss = loss_fn(real_y, pred_y)\n",
        "    Loss.append(loss.numpy())\n",
        "\n",
        "  dloss_da, dloss_db = tape.gradient(loss,(a, b))\n",
        "\n",
        "  a.assign_sub(0.9*dloss_da)\n",
        "  b.assign_sub(0.9*dloss_db)"
      ],
      "execution_count": null,
      "outputs": []
    },
    {
      "cell_type": "code",
      "metadata": {
        "colab": {
          "base_uri": "https://localhost:8080/"
        },
        "id": "3PaaYoZ-Nf6Z",
        "outputId": "692c6833-a9af-47b5-84dd-2f193811e720"
      },
      "source": [
        "np.max(Loss),np.min(Loss)"
      ],
      "execution_count": null,
      "outputs": [
        {
          "output_type": "execute_result",
          "data": {
            "text/plain": [
              "(0.29348502, 0.010497986)"
            ]
          },
          "metadata": {
            "tags": []
          },
          "execution_count": 434
        }
      ]
    },
    {
      "cell_type": "code",
      "metadata": {
        "colab": {
          "base_uri": "https://localhost:8080/"
        },
        "id": "V5HBdnGmNi4T",
        "outputId": "e2b6aa57-6df6-4443-befa-a906034ed1e6"
      },
      "source": [
        "print(a.numpy())\n",
        "print(b.numpy())"
      ],
      "execution_count": null,
      "outputs": [
        {
          "output_type": "stream",
          "text": [
            "-0.22580066\n",
            "0.7814632\n"
          ],
          "name": "stdout"
        }
      ]
    },
    {
      "cell_type": "code",
      "metadata": {
        "colab": {
          "base_uri": "https://localhost:8080/",
          "height": 265
        },
        "id": "08ZkkGsZNpvs",
        "outputId": "f90e1b7d-5908-432c-9445-381b0b8b61b2"
      },
      "source": [
        "plt.scatter(np.arange(epochs),Loss)\n",
        "plt.show()"
      ],
      "execution_count": null,
      "outputs": [
        {
          "output_type": "display_data",
          "data": {
            "image/png": "[encoded data removed]",
            "text/plain": [
              "<Figure size 432x288 with 1 Axes>"
            ]
          },
          "metadata": {
            "tags": [],
            "needs_background": "light"
          }
        }
      ]
    },
    {
      "cell_type": "code",
      "metadata": {
        "id": "34PifObCNsuh"
      },
      "source": [
        "max = np.max(x_point)\n",
        "min = np.min(x_point)"
      ],
      "execution_count": null,
      "outputs": []
    },
    {
      "cell_type": "code",
      "metadata": {
        "colab": {
          "base_uri": "https://localhost:8080/",
          "height": 267
        },
        "id": "LjGAv9IUNugQ",
        "outputId": "79b8c9e8-7481-49ba-eed3-c17d0350d6ca"
      },
      "source": [
        "X = np.linspace(min, max, num=10)\n",
        "plt.plot(X,a.numpy()*X+b.numpy(),c='r')\n",
        "plt.scatter(x_point,y_point,c=\"b\")\n",
        "plt.show()"
      ],
      "execution_count": null,
      "outputs": [
        {
          "output_type": "display_data",
          "data": {
            "image/png": "[encoded data removed]",
            "text/plain": [
              "<Figure size 432x288 with 1 Axes>"
            ]
          },
          "metadata": {
            "tags": [],
            "needs_background": "light"
          }
        }
      ]
    }
  ]
}