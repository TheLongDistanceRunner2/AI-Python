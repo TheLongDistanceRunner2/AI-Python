{
  "nbformat": 4,
  "nbformat_minor": 0,
  "metadata": {
    "colab": {
      "name": "Zestaw 3.ipynb",
      "provenance": [],
      "collapsed_sections": []
    },
    "kernelspec": {
      "name": "python3",
      "display_name": "Python 3"
    }
  },
  "cells": [
    {
      "cell_type": "markdown",
      "metadata": {
        "id": "FNp7DuyROW20"
      },
      "source": [
        "**ZESTAW 3**\n",
        "\n",
        "**Zad 3**"
      ]
    },
    {
      "cell_type": "code",
      "metadata": {
        "id": "9rMY1ltUWyfO",
        "colab": {
          "base_uri": "https://localhost:8080/"
        },
        "outputId": "6b02a414-031c-487c-c295-d04f4478606f"
      },
      "source": [
        "from google.colab import drive\n",
        "drive.mount('/content/drive',force_remount=True)"
      ],
      "execution_count": null,
      "outputs": [
        {
          "output_type": "stream",
          "text": [
            "Mounted at /content/drive\n"
          ],
          "name": "stdout"
        }
      ]
    },
    {
      "cell_type": "code",
      "metadata": {
        "id": "f3aKsO26XAYo"
      },
      "source": [
        "import os\n",
        "os.chdir('/content/drive/My Drive/Colab Notebooks/DM')"
      ],
      "execution_count": null,
      "outputs": []
    },
    {
      "cell_type": "code",
      "metadata": {
        "id": "iBE_JJ0WYUEO",
        "colab": {
          "base_uri": "https://localhost:8080/"
        },
        "outputId": "cfbc2239-66af-478e-a429-9d33a945d408"
      },
      "source": [
        "import pandas as pd\n",
        "import numpy as np\n",
        "data = pd.read_csv('simple_dataset.csv')\n",
        "print(data)"
      ],
      "execution_count": null,
      "outputs": [
        {
          "output_type": "stream",
          "text": [
            "   X   B   C  D   E\n",
            "0  1  12   6  5  -4\n",
            "1  2  11  -4  7  -2\n",
            "2  3  21   8 -2   9\n",
            "3  4   4  12  1  10\n"
          ],
          "name": "stdout"
        }
      ]
    },
    {
      "cell_type": "code",
      "metadata": {
        "id": "Fl5asF7-NAEN",
        "colab": {
          "base_uri": "https://localhost:8080/"
        },
        "outputId": "b3ae7c1c-0db5-4dec-ca62-4eeefc67fe78"
      },
      "source": [
        "#loc - indeks wprost\n",
        "S1 = data.loc[1,:]\n",
        "S1"
      ],
      "execution_count": null,
      "outputs": [
        {
          "output_type": "execute_result",
          "data": {
            "text/plain": [
              "X     2\n",
              "B    11\n",
              "C    -4\n",
              "D     7\n",
              "E    -2\n",
              "Name: 1, dtype: int64"
            ]
          },
          "metadata": {
            "tags": []
          },
          "execution_count": 9
        }
      ]
    },
    {
      "cell_type": "code",
      "metadata": {
        "id": "SdnmwXLeNnaK",
        "colab": {
          "base_uri": "https://localhost:8080/",
          "height": 175
        },
        "outputId": "584a9a95-76ea-4a42-daff-118f27d092f9"
      },
      "source": [
        "S5 = data.iloc[:,1:4]\n",
        "S5"
      ],
      "execution_count": null,
      "outputs": [
        {
          "output_type": "execute_result",
          "data": {
            "text/html": [
              "<div>\n",
              "<style scoped>\n",
              "    .dataframe tbody tr th:only-of-type {\n",
              "        vertical-align: middle;\n",
              "    }\n",
              "\n",
              "    .dataframe tbody tr th {\n",
              "        vertical-align: top;\n",
              "    }\n",
              "\n",
              "    .dataframe thead th {\n",
              "        text-align: right;\n",
              "    }\n",
              "</style>\n",
              "<table border=\"1\" class=\"dataframe\">\n",
              "  <thead>\n",
              "    <tr style=\"text-align: right;\">\n",
              "      <th></th>\n",
              "      <th>B</th>\n",
              "      <th>C</th>\n",
              "      <th>D</th>\n",
              "    </tr>\n",
              "  </thead>\n",
              "  <tbody>\n",
              "    <tr>\n",
              "      <th>0</th>\n",
              "      <td>12</td>\n",
              "      <td>6</td>\n",
              "      <td>5</td>\n",
              "    </tr>\n",
              "    <tr>\n",
              "      <th>1</th>\n",
              "      <td>11</td>\n",
              "      <td>-4</td>\n",
              "      <td>7</td>\n",
              "    </tr>\n",
              "    <tr>\n",
              "      <th>2</th>\n",
              "      <td>21</td>\n",
              "      <td>8</td>\n",
              "      <td>-2</td>\n",
              "    </tr>\n",
              "    <tr>\n",
              "      <th>3</th>\n",
              "      <td>4</td>\n",
              "      <td>12</td>\n",
              "      <td>1</td>\n",
              "    </tr>\n",
              "  </tbody>\n",
              "</table>\n",
              "</div>"
            ],
            "text/plain": [
              "    B   C  D\n",
              "0  12   6  5\n",
              "1  11  -4  7\n",
              "2  21   8 -2\n",
              "3   4  12  1"
            ]
          },
          "metadata": {
            "tags": []
          },
          "execution_count": 13
        }
      ]
    },
    {
      "cell_type": "code",
      "metadata": {
        "id": "srfcQ0OUOZ_2",
        "colab": {
          "base_uri": "https://localhost:8080/",
          "height": 81
        },
        "outputId": "4a89aa5a-043a-4f88-bd34-5b3308297d03"
      },
      "source": [
        "T1 = data.iloc[1:2,:].copy()\n",
        "T1"
      ],
      "execution_count": null,
      "outputs": [
        {
          "output_type": "execute_result",
          "data": {
            "text/html": [
              "<div>\n",
              "<style scoped>\n",
              "    .dataframe tbody tr th:only-of-type {\n",
              "        vertical-align: middle;\n",
              "    }\n",
              "\n",
              "    .dataframe tbody tr th {\n",
              "        vertical-align: top;\n",
              "    }\n",
              "\n",
              "    .dataframe thead th {\n",
              "        text-align: right;\n",
              "    }\n",
              "</style>\n",
              "<table border=\"1\" class=\"dataframe\">\n",
              "  <thead>\n",
              "    <tr style=\"text-align: right;\">\n",
              "      <th></th>\n",
              "      <th>X</th>\n",
              "      <th>B</th>\n",
              "      <th>C</th>\n",
              "      <th>D</th>\n",
              "      <th>E</th>\n",
              "    </tr>\n",
              "  </thead>\n",
              "  <tbody>\n",
              "    <tr>\n",
              "      <th>1</th>\n",
              "      <td>2</td>\n",
              "      <td>11</td>\n",
              "      <td>-4</td>\n",
              "      <td>7</td>\n",
              "      <td>-2</td>\n",
              "    </tr>\n",
              "  </tbody>\n",
              "</table>\n",
              "</div>"
            ],
            "text/plain": [
              "   X   B  C  D  E\n",
              "1  2  11 -4  7 -2"
            ]
          },
          "metadata": {
            "tags": []
          },
          "execution_count": 14
        }
      ]
    },
    {
      "cell_type": "code",
      "metadata": {
        "id": "y0zhJ93RO5_f",
        "colab": {
          "base_uri": "https://localhost:8080/",
          "height": 112
        },
        "outputId": "64e980f0-2636-4837-9a56-81c1d8f43abd"
      },
      "source": [
        "T2 = data.iloc[1:3,:].copy()\n",
        "T2"
      ],
      "execution_count": null,
      "outputs": [
        {
          "output_type": "execute_result",
          "data": {
            "text/html": [
              "<div>\n",
              "<style scoped>\n",
              "    .dataframe tbody tr th:only-of-type {\n",
              "        vertical-align: middle;\n",
              "    }\n",
              "\n",
              "    .dataframe tbody tr th {\n",
              "        vertical-align: top;\n",
              "    }\n",
              "\n",
              "    .dataframe thead th {\n",
              "        text-align: right;\n",
              "    }\n",
              "</style>\n",
              "<table border=\"1\" class=\"dataframe\">\n",
              "  <thead>\n",
              "    <tr style=\"text-align: right;\">\n",
              "      <th></th>\n",
              "      <th>X</th>\n",
              "      <th>B</th>\n",
              "      <th>C</th>\n",
              "      <th>D</th>\n",
              "      <th>E</th>\n",
              "    </tr>\n",
              "  </thead>\n",
              "  <tbody>\n",
              "    <tr>\n",
              "      <th>1</th>\n",
              "      <td>2</td>\n",
              "      <td>11</td>\n",
              "      <td>-4</td>\n",
              "      <td>7</td>\n",
              "      <td>-2</td>\n",
              "    </tr>\n",
              "    <tr>\n",
              "      <th>2</th>\n",
              "      <td>3</td>\n",
              "      <td>21</td>\n",
              "      <td>8</td>\n",
              "      <td>-2</td>\n",
              "      <td>9</td>\n",
              "    </tr>\n",
              "  </tbody>\n",
              "</table>\n",
              "</div>"
            ],
            "text/plain": [
              "   X   B  C  D  E\n",
              "1  2  11 -4  7 -2\n",
              "2  3  21  8 -2  9"
            ]
          },
          "metadata": {
            "tags": []
          },
          "execution_count": 16
        }
      ]
    },
    {
      "cell_type": "code",
      "metadata": {
        "id": "wqzLQ_qbPMBu",
        "colab": {
          "base_uri": "https://localhost:8080/",
          "height": 112
        },
        "outputId": "28e0257c-fdde-47b9-bd1e-93078a30c66c"
      },
      "source": [
        "T3 = data.loc[2:4,'B':'D'].copy()\n",
        "T3"
      ],
      "execution_count": null,
      "outputs": [
        {
          "output_type": "execute_result",
          "data": {
            "text/html": [
              "<div>\n",
              "<style scoped>\n",
              "    .dataframe tbody tr th:only-of-type {\n",
              "        vertical-align: middle;\n",
              "    }\n",
              "\n",
              "    .dataframe tbody tr th {\n",
              "        vertical-align: top;\n",
              "    }\n",
              "\n",
              "    .dataframe thead th {\n",
              "        text-align: right;\n",
              "    }\n",
              "</style>\n",
              "<table border=\"1\" class=\"dataframe\">\n",
              "  <thead>\n",
              "    <tr style=\"text-align: right;\">\n",
              "      <th></th>\n",
              "      <th>B</th>\n",
              "      <th>C</th>\n",
              "      <th>D</th>\n",
              "    </tr>\n",
              "  </thead>\n",
              "  <tbody>\n",
              "    <tr>\n",
              "      <th>2</th>\n",
              "      <td>21</td>\n",
              "      <td>8</td>\n",
              "      <td>-2</td>\n",
              "    </tr>\n",
              "    <tr>\n",
              "      <th>3</th>\n",
              "      <td>4</td>\n",
              "      <td>12</td>\n",
              "      <td>1</td>\n",
              "    </tr>\n",
              "  </tbody>\n",
              "</table>\n",
              "</div>"
            ],
            "text/plain": [
              "    B   C  D\n",
              "2  21   8 -2\n",
              "3   4  12  1"
            ]
          },
          "metadata": {
            "tags": []
          },
          "execution_count": 18
        }
      ]
    },
    {
      "cell_type": "markdown",
      "metadata": {
        "id": "B_Rk6r9zQYCC"
      },
      "source": [
        "**funkcja iloc[] pozwala na odwoływanie się do kolumn nie po ich nazwach, ale po domyślnych indexach (0,1,2, ...)**"
      ]
    },
    {
      "cell_type": "code",
      "metadata": {
        "id": "JV6oGQ2vPbjW",
        "colab": {
          "base_uri": "https://localhost:8080/",
          "height": 175
        },
        "outputId": "67374211-057e-40ce-fd31-9d46a2a0a1e0"
      },
      "source": [
        "T4 = data.loc[:,['B','D']].copy()\n",
        "T4"
      ],
      "execution_count": null,
      "outputs": [
        {
          "output_type": "execute_result",
          "data": {
            "text/html": [
              "<div>\n",
              "<style scoped>\n",
              "    .dataframe tbody tr th:only-of-type {\n",
              "        vertical-align: middle;\n",
              "    }\n",
              "\n",
              "    .dataframe tbody tr th {\n",
              "        vertical-align: top;\n",
              "    }\n",
              "\n",
              "    .dataframe thead th {\n",
              "        text-align: right;\n",
              "    }\n",
              "</style>\n",
              "<table border=\"1\" class=\"dataframe\">\n",
              "  <thead>\n",
              "    <tr style=\"text-align: right;\">\n",
              "      <th></th>\n",
              "      <th>B</th>\n",
              "      <th>D</th>\n",
              "    </tr>\n",
              "  </thead>\n",
              "  <tbody>\n",
              "    <tr>\n",
              "      <th>0</th>\n",
              "      <td>12</td>\n",
              "      <td>5</td>\n",
              "    </tr>\n",
              "    <tr>\n",
              "      <th>1</th>\n",
              "      <td>11</td>\n",
              "      <td>7</td>\n",
              "    </tr>\n",
              "    <tr>\n",
              "      <th>2</th>\n",
              "      <td>21</td>\n",
              "      <td>-2</td>\n",
              "    </tr>\n",
              "    <tr>\n",
              "      <th>3</th>\n",
              "      <td>4</td>\n",
              "      <td>1</td>\n",
              "    </tr>\n",
              "  </tbody>\n",
              "</table>\n",
              "</div>"
            ],
            "text/plain": [
              "    B  D\n",
              "0  12  5\n",
              "1  11  7\n",
              "2  21 -2\n",
              "3   4  1"
            ]
          },
          "metadata": {
            "tags": []
          },
          "execution_count": 23
        }
      ]
    },
    {
      "cell_type": "markdown",
      "metadata": {
        "id": "SyUdDU9ORkMb"
      },
      "source": [
        "**Zad 4:**"
      ]
    },
    {
      "cell_type": "code",
      "metadata": {
        "id": "woL13-CkRqQO",
        "colab": {
          "base_uri": "https://localhost:8080/"
        },
        "outputId": "b1deea57-36b1-48bd-fb30-7dccc2819228"
      },
      "source": [
        "import pandas as pd\n",
        "import numpy as np\n",
        "data = pd.read_csv('president_heights.csv')\n",
        "print(data)"
      ],
      "execution_count": null,
      "outputs": [
        {
          "output_type": "stream",
          "text": [
            "    order                    name  height(cm)\n",
            "0       1       George Washington         189\n",
            "1       2              John Adams         170\n",
            "2       3        Thomas Jefferson         189\n",
            "3       4           James Madison         163\n",
            "4       5            James Monroe         183\n",
            "5       6       John Quincy Adams         171\n",
            "6       7          Andrew Jackson         185\n",
            "7       8        Martin Van Buren         168\n",
            "8       9  William Henry Harrison         173\n",
            "9      10              John Tyler         183\n",
            "10     11           James K. Polk         173\n",
            "11     12          Zachary Taylor         173\n",
            "12     13        Millard Fillmore         175\n",
            "13     14         Franklin Pierce         178\n",
            "14     15          James Buchanan         183\n",
            "15     16         Abraham Lincoln         193\n",
            "16     17          Andrew Johnson         178\n",
            "17     18        Ulysses S. Grant         173\n",
            "18     19     Rutherford B. Hayes         174\n",
            "19     20       James A. Garfield         183\n",
            "20     21       Chester A. Arthur         183\n",
            "21     23       Benjamin Harrison         168\n",
            "22     25        William McKinley         170\n",
            "23     26      Theodore Roosevelt         178\n",
            "24     27     William Howard Taft         182\n",
            "25     28          Woodrow Wilson         180\n",
            "26     29       Warren G. Harding         183\n",
            "27     30         Calvin Coolidge         178\n",
            "28     31          Herbert Hoover         182\n",
            "29     32   Franklin D. Roosevelt         188\n",
            "30     33         Harry S. Truman         175\n",
            "31     34    Dwight D. Eisenhower         179\n",
            "32     35         John F. Kennedy         183\n",
            "33     36       Lyndon B. Johnson         193\n",
            "34     37           Richard Nixon         182\n",
            "35     38             Gerald Ford         183\n",
            "36     39            Jimmy Carter         177\n",
            "37     40           Ronald Reagan         185\n",
            "38     41       George H. W. Bush         188\n",
            "39     42            Bill Clinton         188\n",
            "40     43          George W. Bush         182\n",
            "41     44            Barack Obama         185\n"
          ],
          "name": "stdout"
        }
      ]
    },
    {
      "cell_type": "code",
      "metadata": {
        "id": "m8Am7o8gS2P_",
        "colab": {
          "base_uri": "https://localhost:8080/"
        },
        "outputId": "8e38dd90-fa2e-44b9-81e7-301c0a32fb5a"
      },
      "source": [
        "print(data['height(cm)'].mean())\n",
        "print(data['height(cm)'].std())\n",
        "print(data['height(cm)'].median())\n",
        "print(data['height(cm)'].min())"
      ],
      "execution_count": null,
      "outputs": [
        {
          "output_type": "stream",
          "text": [
            "179.73809523809524\n",
            "7.015868855358296\n",
            "182.0\n",
            "163\n"
          ],
          "name": "stdout"
        }
      ]
    },
    {
      "cell_type": "code",
      "metadata": {
        "id": "NRiXI1_9TJFh",
        "colab": {
          "base_uri": "https://localhost:8080/",
          "height": 295
        },
        "outputId": "b62f434b-5fe5-4ecc-a70b-5a6d530fdb7e"
      },
      "source": [
        "import matplotlib.pyplot as plt\n",
        "plt.hist(data['height(cm)'],10,color='red')\n",
        "plt.title('opis wykresu')\n",
        "plt.xlabel('opis osi X')\n",
        "plt.ylabel('opis osi Y')\n",
        "plt.show()"
      ],
      "execution_count": null,
      "outputs": [
        {
          "output_type": "display_data",
          "data": {
            "image/png": "[encoded data removed]",
            "text/plain": [
              "<Figure size 432x288 with 1 Axes>"
            ]
          },
          "metadata": {
            "tags": [],
            "needs_background": "light"
          }
        }
      ]
    },
    {
      "cell_type": "code",
      "metadata": {
        "id": "kbhdtL6HXkWR"
      },
      "source": [
        "heights = data['height(cm)']"
      ],
      "execution_count": null,
      "outputs": []
    },
    {
      "cell_type": "code",
      "metadata": {
        "id": "jj_JEt2AXf6T",
        "colab": {
          "base_uri": "https://localhost:8080/",
          "height": 295
        },
        "outputId": "26d0aeb8-11b2-4764-b8b3-1302fef24e30"
      },
      "source": [
        "import matplotlib.pyplot as plt\n",
        "plt.hist(heights,10,color='red')\n",
        "plt.title('opis wykresu')\n",
        "plt.xlabel('opis osi X')\n",
        "plt.ylabel('opis osi Y')\n",
        "plt.show()"
      ],
      "execution_count": null,
      "outputs": [
        {
          "output_type": "display_data",
          "data": {
            "image/png": "[encoded data removed]",
            "text/plain": [
              "<Figure size 432x288 with 1 Axes>"
            ]
          },
          "metadata": {
            "tags": [],
            "needs_background": "light"
          }
        }
      ]
    },
    {
      "cell_type": "markdown",
      "metadata": {
        "id": "FvipupJUTw1z"
      },
      "source": [
        "**Zad 5:**"
      ]
    },
    {
      "cell_type": "code",
      "metadata": {
        "id": "HDBRZ3C3TvC0"
      },
      "source": [
        "number_of_points = 1000\n",
        "x_point = []\n",
        "y_point = []\n",
        "\n",
        "# współczynniki prostej:\n",
        "a = 0.72\n",
        "b = 0.78\n",
        "\n",
        "for i in range(number_of_points):\n",
        "  x = np.random.normal(0.0,0.5)\n",
        "  y = a*x+b+np.random.normal(0.0,0.1)\n",
        "  x_point.append(x)\n",
        "  y_point.append(y)\n"
      ],
      "execution_count": null,
      "outputs": []
    },
    {
      "cell_type": "code",
      "metadata": {
        "id": "RIMJGw3AUxqH",
        "colab": {
          "base_uri": "https://localhost:8080/",
          "height": 265
        },
        "outputId": "56de766b-4591-4a9d-f5c7-bd387f37f8bc"
      },
      "source": [
        "import matplotlib.pyplot as plt\n",
        "plt.scatter(x_point,y_point,c='b')\n",
        "# c='g' -> kolor zielony wykresu\n",
        "plt.show()"
      ],
      "execution_count": null,
      "outputs": [
        {
          "output_type": "display_data",
          "data": {
            "image/png": "[encoded data removed]",
            "text/plain": [
              "<Figure size 432x288 with 1 Axes>"
            ]
          },
          "metadata": {
            "tags": [],
            "needs_background": "light"
          }
        }
      ]
    },
    {
      "cell_type": "markdown",
      "metadata": {
        "id": "T76-m-H3VP71"
      },
      "source": [
        "**Zad 6:**"
      ]
    },
    {
      "cell_type": "code",
      "metadata": {
        "id": "4MR561ieVa0a",
        "colab": {
          "base_uri": "https://localhost:8080/"
        },
        "outputId": "9eb88a2c-f652-4f9d-a414-546c18cb52a4"
      },
      "source": [
        "number_of_points = 1000\n",
        "x_point = []\n",
        "y_point = []\n",
        "\n",
        "# współczynniki prostej:\n",
        "a = 0.72\n",
        "b = 0.78\n",
        "\n",
        "for i in range(number_of_points):\n",
        "  x = np.random.normal(0.0,0.5)\n",
        "  y = a*x+b+np.random.normal(0.0,0.1)\n",
        "  x_point.append(x)\n",
        "  y_point.append(y)\n",
        "\n",
        "# konwersja list do tablic:\n",
        "x = np.array(x_point)\n",
        "y = np.array(y_point)\n",
        "\n",
        "A = (x*x).sum()\n",
        "print(\"A: \",A)\n",
        "B = np.sum(x)\n",
        "print(\"B: \",B)\n",
        "D = 1000.0\n",
        "\n",
        "M = np.array([[A,B],\n",
        "             [B,D]])\n",
        "print(\"Macierz: \\n\", M)\n",
        "invM = np.linalg.inv(M)\n",
        "print(\"Odwrotność macierzy: \\n\",invM)\n",
        "\n",
        "V1 = (x*y).sum();\n",
        "V2 = y.sum();\n",
        "V = np.array([[V1],[V2]])\n",
        "print(\"Wektor V[a,b]: \\n\",V)\n",
        "wynik = np.dot(invM, V)\n",
        "print(\"Wynik (mnożenie odwrotności macierzy M i wektora V[a,b]): \\n\",wynik)\n",
        "\n",
        "\n"
      ],
      "execution_count": null,
      "outputs": [
        {
          "output_type": "stream",
          "text": [
            "A:  248.89465549928514\n",
            "B:  10.365843260807024\n",
            "Macierz: \n",
            " [[ 248.8946555    10.36584326]\n",
            " [  10.36584326 1000.        ]]\n",
            "Odwrotność macierzy: \n",
            " [[ 4.01949932e-03 -4.16654999e-05]\n",
            " [-4.16654999e-05  1.00043190e-03]]\n",
            "Wektor V[a,b]: \n",
            " [[190.61744676]\n",
            " [791.98879691]]\n",
            "Wynik (mnożenie odwrotności macierzy M i wektora V[a,b]): \n",
            " [[0.73318809]\n",
            " [0.78438868]]\n"
          ],
          "name": "stdout"
        }
      ]
    },
    {
      "cell_type": "code",
      "metadata": {
        "id": "wD9OWgKEca9w",
        "colab": {
          "base_uri": "https://localhost:8080/",
          "height": 265
        },
        "outputId": "c03c0573-434e-4dc4-c704-f4754fc8c503"
      },
      "source": [
        "max = np.max(x_point)\n",
        "min = np.min(x_point)\n",
        "\n",
        "import matplotlib.pyplot as plt\n",
        "X = np.linspace(min, max, num=10)\n",
        "#plt.plot(X,a*X+b,c=\"r\")\n",
        "# a i b to są współrzędne z wyniku: \n",
        "plt.plot(X,wynik[0]*X+wynik[1],c=\"r\")\n",
        "plt.scatter(x_point,y_point,c=\"b\")\n",
        "plt.show()"
      ],
      "execution_count": null,
      "outputs": [
        {
          "output_type": "display_data",
          "data": {
            "image/png": "[encoded data removed]",
            "text/plain": [
              "<Figure size 432x288 with 1 Axes>"
            ]
          },
          "metadata": {
            "tags": [],
            "needs_background": "light"
          }
        }
      ]
    },
    {
      "cell_type": "markdown",
      "metadata": {
        "id": "HPA_PQaevRjc"
      },
      "source": [
        "**Zadanie 8:**"
      ]
    },
    {
      "cell_type": "code",
      "metadata": {
        "colab": {
          "base_uri": "https://localhost:8080/"
        },
        "id": "uRZUjnBavhkU",
        "outputId": "f1379327-823c-47e5-d104-dae25328e0dd"
      },
      "source": [
        "import pandas as pd\n",
        "import numpy as np\n",
        "data = pd.read_csv('Boston.csv')\n",
        "print(data)"
      ],
      "execution_count": null,
      "outputs": [
        {
          "output_type": "stream",
          "text": [
            "     Unnamed: 0     crim    zn  indus  chas  ...  tax  ptratio   black  lstat  medv\n",
            "0             1  0.00632  18.0   2.31     0  ...  296     15.3  396.90   4.98  24.0\n",
            "1             2  0.02731   0.0   7.07     0  ...  242     17.8  396.90   9.14  21.6\n",
            "2             3  0.02729   0.0   7.07     0  ...  242     17.8  392.83   4.03  34.7\n",
            "3             4  0.03237   0.0   2.18     0  ...  222     18.7  394.63   2.94  33.4\n",
            "4             5  0.06905   0.0   2.18     0  ...  222     18.7  396.90   5.33  36.2\n",
            "..          ...      ...   ...    ...   ...  ...  ...      ...     ...    ...   ...\n",
            "501         502  0.06263   0.0  11.93     0  ...  273     21.0  391.99   9.67  22.4\n",
            "502         503  0.04527   0.0  11.93     0  ...  273     21.0  396.90   9.08  20.6\n",
            "503         504  0.06076   0.0  11.93     0  ...  273     21.0  396.90   5.64  23.9\n",
            "504         505  0.10959   0.0  11.93     0  ...  273     21.0  393.45   6.48  22.0\n",
            "505         506  0.04741   0.0  11.93     0  ...  273     21.0  396.90   7.88  11.9\n",
            "\n",
            "[506 rows x 15 columns]\n"
          ],
          "name": "stdout"
        }
      ]
    },
    {
      "cell_type": "code",
      "metadata": {
        "colab": {
          "base_uri": "https://localhost:8080/"
        },
        "id": "RVCobQwovXZK",
        "outputId": "d8c7988d-1303-499b-fce6-5d00b316c44a"
      },
      "source": [
        "number_of_points = 506\n",
        "_rm = []\n",
        "_medv = []\n",
        "\n",
        "# współczynniki prostej:\n",
        "a = 10.0\n",
        "b = 1.0\n",
        "\n",
        "for i in range(number_of_points):\n",
        "  x = data.rm[i]\n",
        "  y = a*x+b+data.medv[i]\n",
        "  _rm.append(x)\n",
        "  _medv.append(y)\n",
        "\n",
        "print(_rm)\n",
        "print(_medv)\n",
        "\n",
        "# konwersja list do tablic:\n",
        "rmTab = np.array(_rm)\n",
        "medvTab = np.array(_medv)\n",
        "\n",
        "A = (rmTab*rmTab).sum()\n",
        "print(\"A: \",A)\n",
        "B = np.sum(rmTab)\n",
        "print(\"B: \",B)\n",
        "D = 1000.0\n",
        "\n",
        "M = np.array([[A,B],\n",
        "             [B,D]])\n",
        "print(\"Macierz: \\n\", M)\n",
        "invM = np.linalg.inv(M)\n",
        "print(\"Odwrotność macierzy: \\n\",invM)\n",
        "\n",
        "V1 = (rmTab*medvTab).sum();\n",
        "V2 = medvTab.sum();\n",
        "V = np.array([[V1],[V2]])\n",
        "print(\"Wektor V[a,b]: \\n\",V)\n",
        "wynik = np.dot(invM, V)\n",
        "print(\"Wynik (mnożenie odwrotności macierzy M i wektora V[a,b]): \\n\",wynik)\n"
      ],
      "execution_count": null,
      "outputs": [
        {
          "output_type": "stream",
          "text": [
            "[6.575, 6.421, 7.185, 6.997999999999999, 7.147, 6.43, 6.0120000000000005, 6.172000000000001, 5.631, 6.004, 6.377000000000001, 6.0089999999999995, 5.888999999999999, 5.949, 6.096, 5.834, 5.935, 5.99, 5.456, 5.727, 5.57, 5.965, 6.142, 5.813, 5.9239999999999995, 5.599, 5.813, 6.047000000000001, 6.495, 6.6739999999999995, 5.712999999999999, 6.072, 5.95, 5.7010000000000005, 6.096, 5.933, 5.841, 5.85, 5.966, 6.595, 7.024, 6.77, 6.169, 6.211, 6.069, 5.682, 5.7860000000000005, 6.03, 5.399, 5.602, 5.962999999999999, 6.115, 6.511, 5.997999999999999, 5.888, 7.249, 6.382999999999999, 6.816, 6.145, 5.9270000000000005, 5.7410000000000005, 5.966, 6.456, 6.7620000000000005, 7.104, 6.29, 5.787000000000001, 5.877999999999999, 5.593999999999999, 5.885, 6.417000000000001, 5.961, 6.065, 6.245, 6.273, 6.2860000000000005, 6.279, 6.14, 6.232, 5.874, 6.727, 6.619, 6.3020000000000005, 6.167000000000001, 6.388999999999999, 6.63, 6.015, 6.121, 7.007000000000001, 7.079, 6.417000000000001, 6.405, 6.442, 6.211, 6.249, 6.625, 6.162999999999999, 8.068999999999999, 7.82, 7.416, 6.727, 6.781000000000001, 6.405, 6.1370000000000005, 6.167000000000001, 5.851, 5.836, 6.127000000000001, 6.474, 6.229, 6.195, 6.715, 5.912999999999999, 6.0920000000000005, 6.254, 5.928, 6.176, 6.021, 5.872000000000001, 5.731, 5.87, 6.004, 5.961, 5.856, 5.879, 5.986000000000001, 5.6129999999999995, 5.693, 6.431, 5.6370000000000005, 6.457999999999999, 6.3260000000000005, 6.372000000000001, 5.822, 5.757000000000001, 6.335, 5.942, 6.454, 5.857, 6.151, 6.1739999999999995, 5.019, 5.403, 5.468, 4.9030000000000005, 6.13, 5.627999999999999, 4.926, 5.186, 5.597, 6.122000000000001, 5.404, 5.012, 5.709, 6.129, 6.152, 5.272, 6.943, 6.066, 6.51, 6.25, 7.489, 7.8020000000000005, 8.375, 5.854, 6.101, 7.928999999999999, 5.877000000000001, 6.319, 6.402, 5.875, 5.88, 5.572, 6.416, 5.859, 6.546, 6.02, 6.315, 6.86, 6.98, 7.765, 6.144, 7.155, 6.563, 5.604, 6.153, 7.831, 6.782, 6.556, 7.185, 6.9510000000000005, 6.739, 7.178, 6.8, 6.604, 7.875, 7.287000000000001, 7.107, 7.274, 6.975, 7.135, 6.162000000000001, 7.61, 7.853, 8.033999999999999, 5.891, 6.3260000000000005, 5.7829999999999995, 6.064, 5.343999999999999, 5.96, 5.404, 5.807, 6.375, 5.412000000000001, 6.182, 5.888, 6.642, 5.9510000000000005, 6.372999999999999, 6.9510000000000005, 6.164, 6.879, 6.617999999999999, 8.266, 8.725, 8.04, 7.162999999999999, 7.686, 6.5520000000000005, 5.981, 7.412000000000001, 8.337, 8.247, 6.726, 6.086, 6.631, 7.358, 6.481, 6.606, 6.897, 6.095, 6.358, 6.393, 5.593, 5.605, 6.108, 6.226, 6.433, 6.718, 6.487, 6.438, 6.957000000000001, 8.259, 6.108, 5.876, 7.454, 8.704, 7.332999999999999, 6.8420000000000005, 7.202999999999999, 7.52, 8.398, 7.327000000000001, 7.206, 5.56, 7.013999999999999, 8.297, 7.47, 5.92, 5.856, 6.24, 6.537999999999999, 7.691, 6.757999999999999, 6.854, 7.267, 6.8260000000000005, 6.482, 6.812, 7.82, 6.968, 7.645, 7.922999999999999, 7.087999999999999, 6.452999999999999, 6.23, 6.209, 6.315, 6.565, 6.861000000000001, 7.148, 6.63, 6.127000000000001, 6.0089999999999995, 6.678, 6.5489999999999995, 5.79, 6.345, 7.041, 6.871, 6.59, 6.495, 6.982, 7.236000000000001, 6.6160000000000005, 7.42, 6.849, 6.635, 5.972, 4.973, 6.122000000000001, 6.023, 6.266, 6.567, 5.705, 5.914, 5.782, 6.382000000000001, 6.1129999999999995, 6.426, 6.376, 6.041, 5.707999999999999, 6.415, 6.431, 6.312, 6.082999999999999, 5.867999999999999, 6.332999999999999, 6.144, 5.706, 6.031000000000001, 6.316, 6.31, 6.037000000000001, 5.869, 5.895, 6.059, 5.985, 5.968, 7.2410000000000005, 6.54, 6.696000000000001, 6.874, 6.013999999999999, 5.898, 6.516, 6.635, 6.939, 6.49, 6.579, 5.8839999999999995, 6.728, 5.662999999999999, 5.936, 6.212000000000001, 6.395, 6.127000000000001, 6.112, 6.398, 6.251, 5.362, 5.803, 8.78, 3.5610000000000004, 4.963, 3.863, 4.97, 6.683, 7.016, 6.216, 5.875, 4.906000000000001, 4.138, 7.313, 6.649, 6.794, 6.38, 6.223, 6.968, 6.545, 5.5360000000000005, 5.52, 4.368, 5.277, 4.652, 5.0, 4.88, 5.39, 5.712999999999999, 6.051, 5.0360000000000005, 6.193, 5.8870000000000005, 6.471, 6.405, 5.747000000000001, 5.452999999999999, 5.852, 5.987, 6.343, 6.404, 5.349, 5.531000000000001, 5.683, 4.138, 5.608, 5.617000000000001, 6.852, 5.757000000000001, 6.657, 4.628, 5.155, 4.519, 6.434, 6.782, 5.303999999999999, 5.957000000000001, 6.824, 6.4110000000000005, 6.006, 5.648, 6.103, 5.565, 5.896, 5.837000000000001, 6.202000000000001, 6.193, 6.38, 6.348, 6.832999999999999, 6.425, 6.436, 6.207999999999999, 6.629, 6.461, 6.152, 5.935, 5.627000000000001, 5.818, 6.406000000000001, 6.218999999999999, 6.485, 5.854, 6.459, 6.341, 6.251, 6.185, 6.417000000000001, 6.749, 6.655, 6.297000000000001, 7.393, 6.728, 6.525, 5.976, 5.936, 6.301, 6.081, 6.7010000000000005, 6.376, 6.317, 6.513, 6.209, 5.7589999999999995, 5.952000000000001, 6.002999999999999, 5.926, 5.712999999999999, 6.167000000000001, 6.229, 6.437, 6.98, 5.4270000000000005, 6.162000000000001, 6.484, 5.303999999999999, 6.185, 6.229, 6.242000000000001, 6.75, 7.061, 5.7620000000000005, 5.871, 6.312, 6.114, 5.905, 5.454, 5.414, 5.093, 5.983, 5.983, 5.707000000000001, 5.926, 5.67, 5.39, 5.794, 6.019, 5.569, 6.027, 6.593, 6.12, 6.976, 6.794, 6.03]\n",
            "[90.75, 86.81, 107.55, 104.38, 108.67, 94.0, 84.02000000000001, 89.82000000000001, 73.81, 79.94, 79.77000000000001, 79.99, 81.58999999999999, 80.88999999999999, 80.16, 79.24, 83.44999999999999, 78.4, 75.76, 76.47, 70.3, 80.25, 77.62, 73.63, 75.83999999999999, 70.89, 75.72999999999999, 76.27000000000001, 84.35, 88.74, 70.83, 76.22, 73.7, 71.11, 75.46000000000001, 79.22999999999999, 79.41, 80.5, 85.36, 97.75, 106.13999999999999, 95.29999999999998, 87.99, 87.81, 82.89, 77.12, 78.86000000000001, 77.9, 69.39, 76.42, 80.33, 82.65, 91.11, 84.38, 78.78, 108.88999999999999, 89.52999999999999, 100.75999999999999, 85.75, 79.87, 77.11, 76.66, 87.76, 93.62, 105.04, 87.4, 78.27000000000001, 81.78, 74.34, 80.75, 89.37, 82.31, 84.45, 86.85, 87.83, 85.26, 83.78999999999999, 83.2, 84.52, 80.03999999999999, 96.27000000000001, 91.09, 88.82000000000001, 85.57000000000001, 88.78999999999999, 93.9, 83.65, 84.41000000000001, 94.67000000000002, 100.49, 87.77000000000001, 87.05, 88.32, 88.11, 84.09, 95.65, 84.03, 120.39, 123.0, 108.36, 95.77000000000001, 95.31, 83.65, 81.67, 82.77000000000001, 79.00999999999999, 78.86, 82.67000000000002, 85.54, 82.69, 84.65, 90.95, 78.92999999999999, 80.62, 82.03999999999999, 78.58, 83.96000000000001, 80.41, 80.12, 77.61, 81.7, 81.33999999999999, 81.11, 76.86, 78.58999999999999, 82.26, 72.83, 74.13, 83.31, 71.67, 84.78, 83.86000000000001, 87.72, 77.62, 74.17, 82.44999999999999, 77.82, 82.63999999999999, 72.87, 80.31, 76.74, 65.59, 68.42999999999999, 71.28, 61.83, 76.1, 72.88, 64.86, 70.66, 72.37, 83.72, 74.64, 66.42, 77.49, 79.28999999999999, 78.12, 66.82, 111.72999999999999, 85.96, 89.39999999999999, 90.5, 125.89, 129.02, 134.75, 82.24, 87.00999999999999, 130.29, 83.57000000000001, 87.99, 87.32, 77.15, 78.9, 79.82, 88.75999999999999, 82.19, 95.86000000000001, 84.39999999999999, 88.75, 99.5, 108.00000000000001, 118.44999999999999, 98.64, 110.44999999999999, 99.13, 83.44, 92.13, 129.31, 100.82, 96.36, 107.75, 107.51, 98.89, 109.18, 100.1, 96.14000000000001, 129.75, 107.17, 102.37, 108.34, 105.65, 105.25, 86.72, 119.4, 128.03, 131.33999999999997, 82.50999999999999, 88.66, 81.33, 86.03999999999999, 74.44, 82.3, 74.34, 81.47, 92.85, 78.82000000000001, 87.82000000000001, 83.17999999999999, 96.12, 82.01, 87.72999999999999, 97.21000000000001, 84.34, 97.28999999999999, 97.28, 128.45999999999998, 138.25, 119.0, 104.22999999999999, 124.56, 98.02000000000001, 85.11, 106.82000000000001, 126.07000000000001, 131.76999999999998, 97.26, 85.86, 92.41, 106.08, 89.51, 90.36, 91.97, 82.05, 86.78, 88.63000000000001, 74.53, 75.55000000000001, 86.38, 83.75999999999999, 89.83, 94.38000000000001, 90.27000000000001, 90.17999999999999, 100.17000000000002, 126.39, 83.97999999999999, 80.66, 119.53999999999999, 138.04000000000002, 110.33, 99.52000000000001, 106.83, 119.29999999999998, 133.77999999999997, 105.27000000000001, 109.56, 79.39999999999999, 101.83999999999999, 133.97, 119.2, 80.9, 80.66, 88.60000000000001, 90.78, 113.11, 100.97999999999999, 101.54, 106.87, 102.36000000000001, 94.92000000000002, 104.22, 124.6, 106.08000000000001, 123.44999999999999, 130.23, 104.08, 87.53, 83.4, 86.28999999999999, 86.45, 91.45, 98.11000000000001, 109.77999999999999, 95.19999999999999, 86.17000000000002, 82.78999999999999, 96.38, 93.59, 79.2, 86.94999999999999, 100.41, 94.51, 88.9, 92.35, 103.92000000000002, 109.46000000000001, 95.56, 108.6, 97.69000000000001, 90.14999999999999, 81.02000000000001, 66.83, 84.32000000000001, 80.63, 85.25999999999999, 90.47, 74.25, 77.94, 78.62, 87.92000000000002, 83.13, 89.06, 87.86000000000001, 81.81, 76.57999999999998, 90.15, 89.91, 87.12, 84.02999999999999, 78.97999999999999, 86.92999999999998, 82.24, 75.16, 80.71000000000001, 86.36, 84.8, 82.47, 79.19, 78.44999999999999, 82.19, 79.85, 79.38, 106.11000000000001, 82.9, 91.86000000000001, 100.94, 78.63999999999999, 77.17999999999999, 89.25999999999999, 91.85, 96.99000000000001, 88.80000000000001, 90.88999999999999, 78.44, 98.38, 75.83, 80.96000000000001, 80.92, 86.64999999999999, 84.97000000000001, 84.72, 89.97999999999999, 83.41, 75.42, 75.83, 110.69999999999999, 64.11000000000001, 72.53, 62.730000000000004, 100.69999999999999, 117.83, 121.16, 113.16, 109.75, 63.86, 56.17999999999999, 89.13, 81.39, 82.24, 77.89999999999999, 73.42999999999999, 81.08000000000001, 77.35000000000001, 67.66000000000001, 68.5, 53.480000000000004, 60.970000000000006, 58.02, 58.4, 60.0, 66.4, 73.22999999999999, 84.71000000000001, 61.06, 76.72999999999999, 72.57000000000001, 78.81, 77.55, 66.97, 60.529999999999994, 65.82000000000001, 66.47, 71.63000000000001, 77.13999999999999, 62.790000000000006, 64.81, 62.83, 54.279999999999994, 84.97999999999999, 74.37, 97.02000000000001, 73.57000000000001, 84.77, 65.18, 68.85000000000001, 53.19, 72.54, 76.32, 64.44, 69.37, 77.64, 81.81, 75.26, 78.28, 75.43, 68.35000000000001, 68.26, 69.57000000000001, 73.92000000000002, 73.92999999999999, 74.3, 78.97999999999999, 83.42999999999999, 81.35, 79.66, 74.77999999999999, 80.69, 75.21, 71.22, 68.75, 70.07000000000001, 69.67999999999999, 82.16, 81.59, 81.25000000000001, 70.34, 77.39, 79.31, 76.11, 76.94999999999999, 78.17, 81.89, 82.75, 80.07000000000001, 92.72999999999999, 83.18, 80.35, 73.46, 73.86, 78.91000000000001, 81.81, 84.41, 82.46000000000001, 83.67, 86.33, 84.49, 78.49, 79.52000000000001, 80.13, 79.36000000000001, 78.22999999999999, 82.57000000000001, 82.89, 88.57000000000001, 100.60000000000001, 69.07000000000001, 75.92, 82.54, 66.03999999999999, 77.44999999999999, 84.69, 86.42000000000002, 92.2, 96.61, 80.42, 80.31, 85.32000000000001, 81.24000000000001, 80.65, 70.74, 62.14, 60.03, 74.42999999999999, 80.93, 79.87, 84.76, 80.80000000000001, 74.6, 77.24, 82.39, 74.19, 78.07000000000001, 89.33000000000001, 82.80000000000001, 94.66, 90.94, 73.2]\n",
            "A:  20234.598246999998\n",
            "B:  3180.025\n",
            "Macierz: \n",
            " [[20234.598247  3180.025   ]\n",
            " [ 3180.025     1000.      ]]\n",
            "Odwrotność macierzy: \n",
            " [[ 9.87943215e-05 -3.14168412e-04]\n",
            " [-3.14168412e-04  1.99906341e-03]]\n",
            "Wektor V[a,b]: \n",
            " [[279450.08507]\n",
            " [ 43707.85   ]]\n",
            "Wynik (mnożenie odwrotności macierzy M i wektora V[a,b]): \n",
            " [[13.87645572]\n",
            " [-0.41962609]]\n"
          ],
          "name": "stdout"
        }
      ]
    },
    {
      "cell_type": "code",
      "metadata": {
        "colab": {
          "base_uri": "https://localhost:8080/",
          "height": 265
        },
        "id": "VBfsapYixsAS",
        "outputId": "813339d8-242b-4b22-d758-4c26a9e20622"
      },
      "source": [
        "max = np.max(_rm)\n",
        "min = np.min(_medv)\n",
        "\n",
        "import matplotlib.pyplot as plt\n",
        "X = np.linspace(min, max, num=10)\n",
        "#plt.plot(X,a*X+b,c=\"r\")\n",
        "# a i b to są współrzędne z wyniku: \n",
        "plt.plot(X,wynik[0]*X+wynik[1],c=\"r\")\n",
        "plt.scatter(_rm,_medv,c=\"b\")\n",
        "plt.show()"
      ],
      "execution_count": null,
      "outputs": [
        {
          "output_type": "display_data",
          "data": {
            "image/png": "[encoded data removed]",
            "text/plain": [
              "<Figure size 432x288 with 1 Axes>"
            ]
          },
          "metadata": {
            "tags": [],
            "needs_background": "light"
          }
        }
      ]
    }
  ]
}