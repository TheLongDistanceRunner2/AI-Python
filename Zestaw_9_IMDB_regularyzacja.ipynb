{
  "nbformat": 4,
  "nbformat_minor": 0,
  "metadata": {
    "colab": {
      "name": "SystemyAI_lab_9_IMDB_regularyzacja.ipynb",
      "provenance": [],
      "collapsed_sections": []
    },
    "kernelspec": {
      "name": "python3",
      "display_name": "Python 3"
    },
    "accelerator": "GPU"
  },
  "cells": [
    {
      "cell_type": "markdown",
      "metadata": {
        "id": "JyHWTnq8BuKe"
      },
      "source": [
        "# Zbiór IMDB"
      ]
    },
    {
      "cell_type": "markdown",
      "metadata": {
        "id": "9mGdIPIeD3Jx"
      },
      "source": [
        "Pobranie zbioru IMDB. Ograniczamy się do 10000 słów. "
      ]
    },
    {
      "cell_type": "code",
      "metadata": {
        "id": "yrpFVOiJDvxr",
        "colab": {
          "base_uri": "https://localhost:8080/"
        },
        "outputId": "654ad844-d5ec-4c7a-b451-3dea45b2c2c0"
      },
      "source": [
        "from keras.datasets import imdb\n",
        "(train_data, train_labels), (test_data, test_labels) = imdb.load_data(num_words=10000)"
      ],
      "execution_count": null,
      "outputs": [
        {
          "output_type": "stream",
          "text": [
            "<string>:6: VisibleDeprecationWarning: Creating an ndarray from ragged nested sequences (which is a list-or-tuple of lists-or-tuples-or ndarrays with different lengths or shapes) is deprecated. If you meant to do this, you must specify 'dtype=object' when creating the ndarray\n",
            "/usr/local/lib/python3.6/dist-packages/tensorflow/python/keras/datasets/imdb.py:159: VisibleDeprecationWarning: Creating an ndarray from ragged nested sequences (which is a list-or-tuple of lists-or-tuples-or ndarrays with different lengths or shapes) is deprecated. If you meant to do this, you must specify 'dtype=object' when creating the ndarray\n",
            "  x_train, y_train = np.array(xs[:idx]), np.array(labels[:idx])\n",
            "/usr/local/lib/python3.6/dist-packages/tensorflow/python/keras/datasets/imdb.py:160: VisibleDeprecationWarning: Creating an ndarray from ragged nested sequences (which is a list-or-tuple of lists-or-tuples-or ndarrays with different lengths or shapes) is deprecated. If you meant to do this, you must specify 'dtype=object' when creating the ndarray\n",
            "  x_test, y_test = np.array(xs[idx:]), np.array(labels[idx:])\n"
          ],
          "name": "stderr"
        }
      ]
    },
    {
      "cell_type": "markdown",
      "metadata": {
        "id": "5q_Wlc_WxolT"
      },
      "source": [
        "**deklaracja hiperparametrów:**"
      ]
    },
    {
      "cell_type": "code",
      "metadata": {
        "id": "YaylxCidtqZG"
      },
      "source": [
        "_learningRate = 0.01\n",
        "_epochs = 70\n",
        "_batchSize = 678"
      ],
      "execution_count": null,
      "outputs": []
    },
    {
      "cell_type": "markdown",
      "metadata": {
        "id": "enz2fm0HoDHg"
      },
      "source": [
        "Wielkości zbiorów treningowych i testowych ustalamy na 10000:"
      ]
    },
    {
      "cell_type": "code",
      "metadata": {
        "id": "djYdb0msl_EY"
      },
      "source": [
        "data = train_data[:1000]\n",
        "labels = train_labels[:1000]"
      ],
      "execution_count": null,
      "outputs": []
    },
    {
      "cell_type": "code",
      "metadata": {
        "colab": {
          "base_uri": "https://localhost:8080/"
        },
        "id": "kT0wruown2kb",
        "outputId": "ca757aad-d9cc-4340-d179-70863b44a9e5"
      },
      "source": [
        "data.shape,labels.shape"
      ],
      "execution_count": null,
      "outputs": [
        {
          "output_type": "execute_result",
          "data": {
            "text/plain": [
              "((1000,), (1000,))"
            ]
          },
          "metadata": {
            "tags": []
          },
          "execution_count": 4
        }
      ]
    },
    {
      "cell_type": "markdown",
      "metadata": {
        "id": "GuRwONcRE2rS"
      },
      "source": [
        "Zapisujemy recenzje w macierzy binarnej:"
      ]
    },
    {
      "cell_type": "code",
      "metadata": {
        "id": "5A5g7_7DExwy"
      },
      "source": [
        "import numpy as np\n",
        "def vectorize_sequences(sequences, dimension=10000):\n",
        "  results = np.zeros((len(sequences), dimension))\n",
        "  for i, sequence in enumerate(sequences):\n",
        "    results[i, sequence] = 1.\n",
        "  return results\n",
        "\n",
        "x_train = vectorize_sequences(data)\n",
        "x_test = vectorize_sequences(test_data)"
      ],
      "execution_count": null,
      "outputs": []
    },
    {
      "cell_type": "code",
      "metadata": {
        "id": "ygpXi8yAFEna",
        "colab": {
          "base_uri": "https://localhost:8080/"
        },
        "outputId": "1af95eaa-68d2-4888-ac53-6d3a354885ca"
      },
      "source": [
        "x_train[0]"
      ],
      "execution_count": null,
      "outputs": [
        {
          "output_type": "execute_result",
          "data": {
            "text/plain": [
              "array([0., 1., 1., ..., 0., 0., 0.])"
            ]
          },
          "metadata": {
            "tags": []
          },
          "execution_count": 6
        }
      ]
    },
    {
      "cell_type": "markdown",
      "metadata": {
        "id": "W2hQvYYnFKuD"
      },
      "source": [
        "Jeszcze ustalenie typu wartości oczekiwanych:"
      ]
    },
    {
      "cell_type": "code",
      "metadata": {
        "id": "sonm-SvSFMXN"
      },
      "source": [
        "y_train = np.asarray(labels).astype('float32')\n",
        "y_test = np.asarray(test_labels).astype('float32')"
      ],
      "execution_count": null,
      "outputs": []
    },
    {
      "cell_type": "code",
      "metadata": {
        "colab": {
          "base_uri": "https://localhost:8080/"
        },
        "id": "t-O3TBCth66L",
        "outputId": "5c670b01-1b0a-4334-98ae-797e77493805"
      },
      "source": [
        "y_train[0]"
      ],
      "execution_count": null,
      "outputs": [
        {
          "output_type": "execute_result",
          "data": {
            "text/plain": [
              "1.0"
            ]
          },
          "metadata": {
            "tags": []
          },
          "execution_count": 8
        }
      ]
    },
    {
      "cell_type": "markdown",
      "metadata": {
        "id": "-KqKb5yKFwyV"
      },
      "source": [
        "Z częsci danych testowych tworzymy **dane walidacyjne**:"
      ]
    },
    {
      "cell_type": "code",
      "metadata": {
        "id": "NkN3R909F78z"
      },
      "source": [
        "x_val = x_test[:5000]\n",
        "y_val = y_test[:5000]"
      ],
      "execution_count": null,
      "outputs": []
    },
    {
      "cell_type": "markdown",
      "metadata": {
        "id": "tJELnXMqFUjR"
      },
      "source": [
        "Definiujemy model:"
      ]
    },
    {
      "cell_type": "code",
      "metadata": {
        "id": "s0zf31OhFWPi"
      },
      "source": [
        "import keras\n",
        "from keras import models\n",
        "from keras import layers\n",
        "model = models.Sequential()\n",
        "model.add(layers.Dense(32, activation='relu', input_shape=(10000,)))\n",
        "model.add(layers.Dense(32, activation='relu'))\n",
        "model.add(layers.Dense(1, activation='sigmoid'))"
      ],
      "execution_count": null,
      "outputs": []
    },
    {
      "cell_type": "markdown",
      "metadata": {
        "id": "Rq6cm8i8FeZy"
      },
      "source": [
        "Optymalizator i kompilacja modelu:"
      ]
    },
    {
      "cell_type": "code",
      "metadata": {
        "id": "UejMCEpiFnDd"
      },
      "source": [
        "opt=keras.optimizers.RMSprop(lr = _learningRate)\n",
        "model.compile(optimizer=opt,loss='binary_crossentropy',metrics=['accuracy'])"
      ],
      "execution_count": null,
      "outputs": []
    },
    {
      "cell_type": "markdown",
      "metadata": {
        "id": "P00RXGdNGHPa"
      },
      "source": [
        "Trenujemy model:"
      ]
    },
    {
      "cell_type": "code",
      "metadata": {
        "id": "l-dItPdbGGTt",
        "colab": {
          "base_uri": "https://localhost:8080/"
        },
        "outputId": "e2bcc905-b391-4415-f277-02cfbf4b0876"
      },
      "source": [
        "history = model.fit(x_train,y_train, epochs = _epochs, batch_size = _batchSize, validation_data=(x_val, y_val))"
      ],
      "execution_count": null,
      "outputs": [
        {
          "output_type": "stream",
          "text": [
            "Epoch 1/70\n",
            "2/2 [==============================] - 1s 528ms/step - loss: 0.6800 - accuracy: 0.5338 - val_loss: 0.7725 - val_accuracy: 0.5258\n",
            "Epoch 2/70\n",
            "2/2 [==============================] - 0s 138ms/step - loss: 1.2661 - accuracy: 0.6283 - val_loss: 0.5336 - val_accuracy: 0.7676\n",
            "Epoch 3/70\n",
            "2/2 [==============================] - 0s 343ms/step - loss: 0.5510 - accuracy: 0.8300 - val_loss: 1.4473 - val_accuracy: 0.5168\n",
            "Epoch 4/70\n",
            "2/2 [==============================] - 0s 131ms/step - loss: 0.8865 - accuracy: 0.6364 - val_loss: 0.4370 - val_accuracy: 0.8138\n",
            "Epoch 5/70\n",
            "2/2 [==============================] - 0s 132ms/step - loss: 0.1648 - accuracy: 0.9758 - val_loss: 0.4283 - val_accuracy: 0.8158\n",
            "Epoch 6/70\n",
            "2/2 [==============================] - 0s 132ms/step - loss: 0.0949 - accuracy: 0.9922 - val_loss: 0.4196 - val_accuracy: 0.8206\n",
            "Epoch 7/70\n",
            "2/2 [==============================] - 0s 133ms/step - loss: 0.0618 - accuracy: 0.9970 - val_loss: 0.4263 - val_accuracy: 0.8226\n",
            "Epoch 8/70\n",
            "2/2 [==============================] - 0s 141ms/step - loss: 0.0418 - accuracy: 0.9993 - val_loss: 0.4429 - val_accuracy: 0.8246\n",
            "Epoch 9/70\n",
            "2/2 [==============================] - 0s 136ms/step - loss: 0.0288 - accuracy: 0.9993 - val_loss: 0.4505 - val_accuracy: 0.8266\n",
            "Epoch 10/70\n",
            "2/2 [==============================] - 0s 141ms/step - loss: 0.0210 - accuracy: 0.9993 - val_loss: 0.4530 - val_accuracy: 0.8278\n",
            "Epoch 11/70\n",
            "2/2 [==============================] - 0s 137ms/step - loss: 0.0159 - accuracy: 1.0000 - val_loss: 0.4603 - val_accuracy: 0.8284\n",
            "Epoch 12/70\n",
            "2/2 [==============================] - 0s 136ms/step - loss: 0.0122 - accuracy: 1.0000 - val_loss: 0.4631 - val_accuracy: 0.8286\n",
            "Epoch 13/70\n",
            "2/2 [==============================] - 0s 127ms/step - loss: 0.0101 - accuracy: 1.0000 - val_loss: 0.4731 - val_accuracy: 0.8284\n",
            "Epoch 14/70\n",
            "2/2 [==============================] - 0s 135ms/step - loss: 0.0081 - accuracy: 1.0000 - val_loss: 0.4816 - val_accuracy: 0.8292\n",
            "Epoch 15/70\n",
            "2/2 [==============================] - 0s 133ms/step - loss: 0.0067 - accuracy: 1.0000 - val_loss: 0.4966 - val_accuracy: 0.8282\n",
            "Epoch 16/70\n",
            "2/2 [==============================] - 0s 132ms/step - loss: 0.0054 - accuracy: 1.0000 - val_loss: 0.4980 - val_accuracy: 0.8308\n",
            "Epoch 17/70\n",
            "2/2 [==============================] - 0s 143ms/step - loss: 0.0046 - accuracy: 1.0000 - val_loss: 0.5069 - val_accuracy: 0.8300\n",
            "Epoch 18/70\n",
            "2/2 [==============================] - 0s 135ms/step - loss: 0.0038 - accuracy: 1.0000 - val_loss: 0.5139 - val_accuracy: 0.8302\n",
            "Epoch 19/70\n",
            "2/2 [==============================] - 0s 139ms/step - loss: 0.0031 - accuracy: 1.0000 - val_loss: 0.5218 - val_accuracy: 0.8302\n",
            "Epoch 20/70\n",
            "2/2 [==============================] - 0s 130ms/step - loss: 0.0027 - accuracy: 1.0000 - val_loss: 0.5301 - val_accuracy: 0.8302\n",
            "Epoch 21/70\n",
            "2/2 [==============================] - 0s 132ms/step - loss: 0.0022 - accuracy: 1.0000 - val_loss: 0.5356 - val_accuracy: 0.8302\n",
            "Epoch 22/70\n",
            "2/2 [==============================] - 0s 136ms/step - loss: 0.0018 - accuracy: 1.0000 - val_loss: 0.5456 - val_accuracy: 0.8304\n",
            "Epoch 23/70\n",
            "2/2 [==============================] - 0s 131ms/step - loss: 0.0016 - accuracy: 1.0000 - val_loss: 0.5534 - val_accuracy: 0.8310\n",
            "Epoch 24/70\n",
            "2/2 [==============================] - 0s 137ms/step - loss: 0.0014 - accuracy: 1.0000 - val_loss: 0.5608 - val_accuracy: 0.8312\n",
            "Epoch 25/70\n",
            "2/2 [==============================] - 0s 135ms/step - loss: 0.0011 - accuracy: 1.0000 - val_loss: 0.5689 - val_accuracy: 0.8298\n",
            "Epoch 26/70\n",
            "2/2 [==============================] - 0s 134ms/step - loss: 0.0010 - accuracy: 1.0000 - val_loss: 0.5776 - val_accuracy: 0.8300\n",
            "Epoch 27/70\n",
            "2/2 [==============================] - 0s 135ms/step - loss: 8.3629e-04 - accuracy: 1.0000 - val_loss: 0.5863 - val_accuracy: 0.8298\n",
            "Epoch 28/70\n",
            "2/2 [==============================] - 0s 134ms/step - loss: 7.1746e-04 - accuracy: 1.0000 - val_loss: 0.5937 - val_accuracy: 0.8306\n",
            "Epoch 29/70\n",
            "2/2 [==============================] - 0s 132ms/step - loss: 6.4630e-04 - accuracy: 1.0000 - val_loss: 0.6009 - val_accuracy: 0.8308\n",
            "Epoch 30/70\n",
            "2/2 [==============================] - 0s 130ms/step - loss: 5.6845e-04 - accuracy: 1.0000 - val_loss: 0.6085 - val_accuracy: 0.8306\n",
            "Epoch 31/70\n",
            "2/2 [==============================] - 0s 133ms/step - loss: 4.8118e-04 - accuracy: 1.0000 - val_loss: 0.6149 - val_accuracy: 0.8300\n",
            "Epoch 32/70\n",
            "2/2 [==============================] - 0s 140ms/step - loss: 4.3366e-04 - accuracy: 1.0000 - val_loss: 0.6215 - val_accuracy: 0.8300\n",
            "Epoch 33/70\n",
            "2/2 [==============================] - 0s 147ms/step - loss: 3.6933e-04 - accuracy: 1.0000 - val_loss: 0.6278 - val_accuracy: 0.8302\n",
            "Epoch 34/70\n",
            "2/2 [==============================] - 0s 135ms/step - loss: 3.2580e-04 - accuracy: 1.0000 - val_loss: 0.6339 - val_accuracy: 0.8302\n",
            "Epoch 35/70\n",
            "2/2 [==============================] - 0s 133ms/step - loss: 2.7429e-04 - accuracy: 1.0000 - val_loss: 0.6404 - val_accuracy: 0.8306\n",
            "Epoch 36/70\n",
            "2/2 [==============================] - 0s 133ms/step - loss: 2.4804e-04 - accuracy: 1.0000 - val_loss: 0.6468 - val_accuracy: 0.8298\n",
            "Epoch 37/70\n",
            "2/2 [==============================] - 0s 132ms/step - loss: 2.2014e-04 - accuracy: 1.0000 - val_loss: 0.6531 - val_accuracy: 0.8302\n",
            "Epoch 38/70\n",
            "2/2 [==============================] - 0s 130ms/step - loss: 1.8355e-04 - accuracy: 1.0000 - val_loss: 0.6589 - val_accuracy: 0.8310\n",
            "Epoch 39/70\n",
            "2/2 [==============================] - 0s 137ms/step - loss: 1.7021e-04 - accuracy: 1.0000 - val_loss: 0.6646 - val_accuracy: 0.8318\n",
            "Epoch 40/70\n",
            "2/2 [==============================] - 0s 133ms/step - loss: 1.4740e-04 - accuracy: 1.0000 - val_loss: 0.6705 - val_accuracy: 0.8312\n",
            "Epoch 41/70\n",
            "2/2 [==============================] - 0s 131ms/step - loss: 1.2803e-04 - accuracy: 1.0000 - val_loss: 0.6766 - val_accuracy: 0.8316\n",
            "Epoch 42/70\n",
            "2/2 [==============================] - 0s 138ms/step - loss: 1.1418e-04 - accuracy: 1.0000 - val_loss: 0.6829 - val_accuracy: 0.8320\n",
            "Epoch 43/70\n",
            "2/2 [==============================] - 0s 138ms/step - loss: 1.0036e-04 - accuracy: 1.0000 - val_loss: 0.6888 - val_accuracy: 0.8326\n",
            "Epoch 44/70\n",
            "2/2 [==============================] - 0s 127ms/step - loss: 8.8959e-05 - accuracy: 1.0000 - val_loss: 0.6946 - val_accuracy: 0.8324\n",
            "Epoch 45/70\n",
            "2/2 [==============================] - 0s 135ms/step - loss: 7.6536e-05 - accuracy: 1.0000 - val_loss: 0.7012 - val_accuracy: 0.8318\n",
            "Epoch 46/70\n",
            "2/2 [==============================] - 0s 135ms/step - loss: 6.6384e-05 - accuracy: 1.0000 - val_loss: 0.7066 - val_accuracy: 0.8314\n",
            "Epoch 47/70\n",
            "2/2 [==============================] - 0s 139ms/step - loss: 5.6955e-05 - accuracy: 1.0000 - val_loss: 0.7132 - val_accuracy: 0.8316\n",
            "Epoch 48/70\n",
            "2/2 [==============================] - 0s 136ms/step - loss: 5.2888e-05 - accuracy: 1.0000 - val_loss: 0.7189 - val_accuracy: 0.8312\n",
            "Epoch 49/70\n",
            "2/2 [==============================] - 0s 139ms/step - loss: 4.7964e-05 - accuracy: 1.0000 - val_loss: 0.7247 - val_accuracy: 0.8314\n",
            "Epoch 50/70\n",
            "2/2 [==============================] - 0s 136ms/step - loss: 4.0738e-05 - accuracy: 1.0000 - val_loss: 0.7301 - val_accuracy: 0.8314\n",
            "Epoch 51/70\n",
            "2/2 [==============================] - 0s 339ms/step - loss: 3.6545e-05 - accuracy: 1.0000 - val_loss: 0.7357 - val_accuracy: 0.8316\n",
            "Epoch 52/70\n",
            "2/2 [==============================] - 0s 130ms/step - loss: 3.2275e-05 - accuracy: 1.0000 - val_loss: 0.7424 - val_accuracy: 0.8312\n",
            "Epoch 53/70\n",
            "2/2 [==============================] - 0s 132ms/step - loss: 2.7173e-05 - accuracy: 1.0000 - val_loss: 0.7485 - val_accuracy: 0.8314\n",
            "Epoch 54/70\n",
            "2/2 [==============================] - 0s 142ms/step - loss: 2.5293e-05 - accuracy: 1.0000 - val_loss: 0.7544 - val_accuracy: 0.8314\n",
            "Epoch 55/70\n",
            "2/2 [==============================] - 0s 132ms/step - loss: 2.1416e-05 - accuracy: 1.0000 - val_loss: 0.7605 - val_accuracy: 0.8304\n",
            "Epoch 56/70\n",
            "2/2 [==============================] - 0s 132ms/step - loss: 1.9348e-05 - accuracy: 1.0000 - val_loss: 0.7652 - val_accuracy: 0.8312\n",
            "Epoch 57/70\n",
            "2/2 [==============================] - 0s 134ms/step - loss: 1.7159e-05 - accuracy: 1.0000 - val_loss: 0.7727 - val_accuracy: 0.8296\n",
            "Epoch 58/70\n",
            "2/2 [==============================] - 0s 135ms/step - loss: 1.5164e-05 - accuracy: 1.0000 - val_loss: 0.7779 - val_accuracy: 0.8300\n",
            "Epoch 59/70\n",
            "2/2 [==============================] - 0s 136ms/step - loss: 1.3819e-05 - accuracy: 1.0000 - val_loss: 0.7848 - val_accuracy: 0.8292\n",
            "Epoch 60/70\n",
            "2/2 [==============================] - 0s 143ms/step - loss: 1.2418e-05 - accuracy: 1.0000 - val_loss: 0.7895 - val_accuracy: 0.8294\n",
            "Epoch 61/70\n",
            "2/2 [==============================] - 0s 142ms/step - loss: 1.0767e-05 - accuracy: 1.0000 - val_loss: 0.7950 - val_accuracy: 0.8294\n",
            "Epoch 62/70\n",
            "2/2 [==============================] - 0s 136ms/step - loss: 9.9406e-06 - accuracy: 1.0000 - val_loss: 0.7997 - val_accuracy: 0.8286\n",
            "Epoch 63/70\n",
            "2/2 [==============================] - 0s 147ms/step - loss: 8.3773e-06 - accuracy: 1.0000 - val_loss: 0.8075 - val_accuracy: 0.8300\n",
            "Epoch 64/70\n",
            "2/2 [==============================] - 0s 144ms/step - loss: 7.5162e-06 - accuracy: 1.0000 - val_loss: 0.8128 - val_accuracy: 0.8298\n",
            "Epoch 65/70\n",
            "2/2 [==============================] - 0s 137ms/step - loss: 6.4829e-06 - accuracy: 1.0000 - val_loss: 0.8179 - val_accuracy: 0.8300\n",
            "Epoch 66/70\n",
            "2/2 [==============================] - 0s 137ms/step - loss: 6.0554e-06 - accuracy: 1.0000 - val_loss: 0.8238 - val_accuracy: 0.8298\n",
            "Epoch 67/70\n",
            "2/2 [==============================] - 0s 136ms/step - loss: 5.2863e-06 - accuracy: 1.0000 - val_loss: 0.8289 - val_accuracy: 0.8298\n",
            "Epoch 68/70\n",
            "2/2 [==============================] - 0s 147ms/step - loss: 4.7301e-06 - accuracy: 1.0000 - val_loss: 0.8349 - val_accuracy: 0.8296\n",
            "Epoch 69/70\n",
            "2/2 [==============================] - 0s 135ms/step - loss: 4.4157e-06 - accuracy: 1.0000 - val_loss: 0.8411 - val_accuracy: 0.8300\n",
            "Epoch 70/70\n",
            "2/2 [==============================] - 0s 137ms/step - loss: 3.5219e-06 - accuracy: 1.0000 - val_loss: 0.8473 - val_accuracy: 0.8300\n"
          ],
          "name": "stdout"
        }
      ]
    },
    {
      "cell_type": "code",
      "metadata": {
        "id": "9EjtmOJoGmJH",
        "colab": {
          "base_uri": "https://localhost:8080/"
        },
        "outputId": "60663ee0-d0cc-44c2-8bbb-abb0183834e5"
      },
      "source": [
        "history_dict = history.history\n",
        "history_dict.keys()"
      ],
      "execution_count": null,
      "outputs": [
        {
          "output_type": "execute_result",
          "data": {
            "text/plain": [
              "dict_keys(['loss', 'accuracy', 'val_loss', 'val_accuracy'])"
            ]
          },
          "metadata": {
            "tags": []
          },
          "execution_count": 13
        }
      ]
    },
    {
      "cell_type": "markdown",
      "metadata": {
        "id": "OjQPsvT8G73y"
      },
      "source": [
        "Błąd treningowy i walidacyjny:"
      ]
    },
    {
      "cell_type": "code",
      "metadata": {
        "id": "mSuRYVGiG9BZ",
        "colab": {
          "base_uri": "https://localhost:8080/",
          "height": 295
        },
        "outputId": "ad46bf24-2f24-42fa-f952-f365a5abd555"
      },
      "source": [
        "import matplotlib.pyplot as plt\n",
        "history_dict = history.history\n",
        "loss_values = history_dict['loss']\n",
        "val_loss_values = history_dict['val_loss']\n",
        "epochs = range(1, len(loss_values) + 1)\n",
        "plt.plot(epochs, loss_values, 'bo', label='Training loss')\n",
        "plt.plot(epochs, val_loss_values, 'b', label='Validation loss')\n",
        "plt.title('Training and validation loss')\n",
        "plt.xlabel('Epochs')\n",
        "plt.ylabel('Loss')\n",
        "plt.legend()\n",
        "plt.show()"
      ],
      "execution_count": null,
      "outputs": [
        {
          "output_type": "display_data",
          "data": {
            "image/png": "[encoded data removed]",
            "text/plain": [
              "<Figure size 432x288 with 1 Axes>"
            ]
          },
          "metadata": {
            "tags": [],
            "needs_background": "light"
          }
        }
      ]
    },
    {
      "cell_type": "code",
      "metadata": {
        "colab": {
          "base_uri": "https://localhost:8080/"
        },
        "id": "zdX8C4UEz-R3",
        "outputId": "b42f33c2-322d-47fe-f704-9af58505581b"
      },
      "source": [
        "loss_values[:10]"
      ],
      "execution_count": null,
      "outputs": [
        {
          "output_type": "execute_result",
          "data": {
            "text/plain": [
              "[0.6723741888999939,\n",
              " 1.6286338567733765,\n",
              " 0.6456830501556396,\n",
              " 0.7991800308227539,\n",
              " 0.15996050834655762,\n",
              " 0.09434229880571365,\n",
              " 0.06011440232396126,\n",
              " 0.04125693440437317,\n",
              " 0.02899915724992752,\n",
              " 0.021095264703035355]"
            ]
          },
          "metadata": {
            "tags": []
          },
          "execution_count": 15
        }
      ]
    },
    {
      "cell_type": "markdown",
      "metadata": {
        "id": "yF-5BZpMu3mM"
      },
      "source": [
        "# **Regularyzacja** - metoda 1"
      ]
    },
    {
      "cell_type": "markdown",
      "metadata": {
        "id": "rNcj7rqVuWzF"
      },
      "source": [
        "Zwiększamy zbiór treningowy z **1000** do **250000** (20% to zbiór walidacyjny)"
      ]
    },
    {
      "cell_type": "code",
      "metadata": {
        "id": "kcv0zxukvDP_"
      },
      "source": [
        "data = train_data[:25000]\n",
        "labels = train_labels[:25000]"
      ],
      "execution_count": null,
      "outputs": []
    },
    {
      "cell_type": "code",
      "metadata": {
        "id": "oCgxRoxvvMs7"
      },
      "source": [
        "x_train = vectorize_sequences(data)\n",
        "y_train = np.asarray(labels).astype('float32')"
      ],
      "execution_count": null,
      "outputs": []
    },
    {
      "cell_type": "markdown",
      "metadata": {
        "id": "A9E45ORNvWMG"
      },
      "source": [
        "Model taki sam:"
      ]
    },
    {
      "cell_type": "code",
      "metadata": {
        "id": "zzhNBBQivYf6"
      },
      "source": [
        "model = models.Sequential()\n",
        "model.add(layers.Dense(32, activation='relu', input_shape=(10000,)))\n",
        "model.add(layers.Dense(32, activation='relu'))\n",
        "model.add(layers.Dense(1, activation='sigmoid'))\n",
        "\n",
        "opt=keras.optimizers.RMSprop(lr = _learningRate)\n",
        "model.compile(optimizer=opt,loss='binary_crossentropy',metrics=['accuracy'])"
      ],
      "execution_count": null,
      "outputs": []
    },
    {
      "cell_type": "markdown",
      "metadata": {
        "id": "5BHFbzrxvnA6"
      },
      "source": [
        "Pętla ucząca:"
      ]
    },
    {
      "cell_type": "code",
      "metadata": {
        "colab": {
          "base_uri": "https://localhost:8080/"
        },
        "id": "RhTQJXd3vmfu",
        "outputId": "3563afb0-2d5c-41ba-a529-d141d4c3c141"
      },
      "source": [
        "history = model.fit(x_train,y_train, epochs = _epochs, batch_size = _batchSize, validation_data=(x_val, y_val))"
      ],
      "execution_count": null,
      "outputs": [
        {
          "output_type": "stream",
          "text": [
            "Epoch 1/70\n",
            "37/37 [==============================] - 1s 23ms/step - loss: 0.7086 - accuracy: 0.6624 - val_loss: 0.3199 - val_accuracy: 0.8646\n",
            "Epoch 2/70\n",
            "37/37 [==============================] - 1s 18ms/step - loss: 0.2633 - accuracy: 0.8921 - val_loss: 0.2793 - val_accuracy: 0.8836\n",
            "Epoch 3/70\n",
            "37/37 [==============================] - 1s 18ms/step - loss: 0.1897 - accuracy: 0.9239 - val_loss: 0.3161 - val_accuracy: 0.8850\n",
            "Epoch 4/70\n",
            "37/37 [==============================] - 1s 18ms/step - loss: 0.1613 - accuracy: 0.9343 - val_loss: 0.3560 - val_accuracy: 0.8798\n",
            "Epoch 5/70\n",
            "37/37 [==============================] - 1s 18ms/step - loss: 0.1459 - accuracy: 0.9420 - val_loss: 0.4372 - val_accuracy: 0.8704\n",
            "Epoch 6/70\n",
            "37/37 [==============================] - 1s 18ms/step - loss: 0.0820 - accuracy: 0.9647 - val_loss: 0.4346 - val_accuracy: 0.8742\n",
            "Epoch 7/70\n",
            "37/37 [==============================] - 1s 18ms/step - loss: 0.0532 - accuracy: 0.9767 - val_loss: 1.1266 - val_accuracy: 0.7724\n",
            "Epoch 8/70\n",
            "37/37 [==============================] - 1s 19ms/step - loss: 0.1055 - accuracy: 0.9632 - val_loss: 0.5496 - val_accuracy: 0.8664\n",
            "Epoch 9/70\n",
            "37/37 [==============================] - 1s 18ms/step - loss: 0.0305 - accuracy: 0.9900 - val_loss: 0.6167 - val_accuracy: 0.8642\n",
            "Epoch 10/70\n",
            "37/37 [==============================] - 1s 18ms/step - loss: 0.0130 - accuracy: 0.9956 - val_loss: 1.3092 - val_accuracy: 0.8354\n",
            "Epoch 11/70\n",
            "37/37 [==============================] - 1s 18ms/step - loss: 0.1513 - accuracy: 0.9660 - val_loss: 0.8640 - val_accuracy: 0.8688\n",
            "Epoch 12/70\n",
            "37/37 [==============================] - 1s 18ms/step - loss: 0.0206 - accuracy: 0.9944 - val_loss: 0.8341 - val_accuracy: 0.8636\n",
            "Epoch 13/70\n",
            "37/37 [==============================] - 1s 19ms/step - loss: 0.0055 - accuracy: 0.9983 - val_loss: 1.0136 - val_accuracy: 0.8708\n",
            "Epoch 14/70\n",
            "37/37 [==============================] - 1s 19ms/step - loss: 0.0027 - accuracy: 0.9991 - val_loss: 1.2383 - val_accuracy: 0.8684\n",
            "Epoch 15/70\n",
            "37/37 [==============================] - 1s 18ms/step - loss: 0.0921 - accuracy: 0.9885 - val_loss: 1.0986 - val_accuracy: 0.8674\n",
            "Epoch 16/70\n",
            "37/37 [==============================] - 1s 18ms/step - loss: 0.0028 - accuracy: 0.9991 - val_loss: 1.2192 - val_accuracy: 0.8674\n",
            "Epoch 17/70\n",
            "37/37 [==============================] - 1s 18ms/step - loss: 0.0105 - accuracy: 0.9980 - val_loss: 0.9798 - val_accuracy: 0.8560\n",
            "Epoch 18/70\n",
            "37/37 [==============================] - 1s 18ms/step - loss: 0.0061 - accuracy: 0.9983 - val_loss: 1.3495 - val_accuracy: 0.8664\n",
            "Epoch 19/70\n",
            "37/37 [==============================] - 1s 18ms/step - loss: 0.0029 - accuracy: 0.9991 - val_loss: 1.3330 - val_accuracy: 0.8622\n",
            "Epoch 20/70\n",
            "37/37 [==============================] - 1s 18ms/step - loss: 0.0397 - accuracy: 0.9953 - val_loss: 1.1891 - val_accuracy: 0.8650\n",
            "Epoch 21/70\n",
            "37/37 [==============================] - 1s 18ms/step - loss: 0.0024 - accuracy: 0.9993 - val_loss: 1.3634 - val_accuracy: 0.8652\n",
            "Epoch 22/70\n",
            "37/37 [==============================] - 1s 19ms/step - loss: 0.0017 - accuracy: 0.9994 - val_loss: 1.5520 - val_accuracy: 0.8642\n",
            "Epoch 23/70\n",
            "37/37 [==============================] - 1s 19ms/step - loss: 0.0788 - accuracy: 0.9923 - val_loss: 1.3027 - val_accuracy: 0.8604\n",
            "Epoch 24/70\n",
            "37/37 [==============================] - 1s 18ms/step - loss: 0.0020 - accuracy: 0.9994 - val_loss: 1.4370 - val_accuracy: 0.8642\n",
            "Epoch 25/70\n",
            "37/37 [==============================] - 1s 18ms/step - loss: 0.0018 - accuracy: 0.9993 - val_loss: 1.6029 - val_accuracy: 0.8620\n",
            "Epoch 26/70\n",
            "37/37 [==============================] - 1s 18ms/step - loss: 0.0686 - accuracy: 0.9932 - val_loss: 1.4738 - val_accuracy: 0.8620\n",
            "Epoch 27/70\n",
            "37/37 [==============================] - 1s 18ms/step - loss: 0.0019 - accuracy: 0.9995 - val_loss: 1.5991 - val_accuracy: 0.8616\n",
            "Epoch 28/70\n",
            "37/37 [==============================] - 1s 19ms/step - loss: 0.0019 - accuracy: 0.9994 - val_loss: 1.6911 - val_accuracy: 0.8596\n",
            "Epoch 29/70\n",
            "37/37 [==============================] - 1s 18ms/step - loss: 0.0660 - accuracy: 0.9924 - val_loss: 1.4808 - val_accuracy: 0.8612\n",
            "Epoch 30/70\n",
            "37/37 [==============================] - 1s 18ms/step - loss: 0.0018 - accuracy: 0.9995 - val_loss: 1.5248 - val_accuracy: 0.8606\n",
            "Epoch 31/70\n",
            "37/37 [==============================] - 1s 25ms/step - loss: 0.0018 - accuracy: 0.9993 - val_loss: 1.7438 - val_accuracy: 0.8664\n",
            "Epoch 32/70\n",
            "37/37 [==============================] - 1s 19ms/step - loss: 0.0956 - accuracy: 0.9912 - val_loss: 1.4712 - val_accuracy: 0.8602\n",
            "Epoch 33/70\n",
            "37/37 [==============================] - 1s 18ms/step - loss: 0.0020 - accuracy: 0.9994 - val_loss: 1.5402 - val_accuracy: 0.8574\n",
            "Epoch 34/70\n",
            "37/37 [==============================] - 1s 18ms/step - loss: 0.0014 - accuracy: 0.9996 - val_loss: 1.7530 - val_accuracy: 0.8656\n",
            "Epoch 35/70\n",
            "37/37 [==============================] - 1s 18ms/step - loss: 0.0307 - accuracy: 0.9973 - val_loss: 1.6296 - val_accuracy: 0.8608\n",
            "Epoch 36/70\n",
            "37/37 [==============================] - 1s 18ms/step - loss: 0.0018 - accuracy: 0.9993 - val_loss: 1.6823 - val_accuracy: 0.8604\n",
            "Epoch 37/70\n",
            "37/37 [==============================] - 1s 18ms/step - loss: 0.0012 - accuracy: 0.9996 - val_loss: 1.7762 - val_accuracy: 0.8608\n",
            "Epoch 38/70\n",
            "37/37 [==============================] - 1s 18ms/step - loss: 0.0016 - accuracy: 0.9995 - val_loss: 1.9411 - val_accuracy: 0.8622\n",
            "Epoch 39/70\n",
            "37/37 [==============================] - 1s 18ms/step - loss: 0.0682 - accuracy: 0.9940 - val_loss: 1.8554 - val_accuracy: 0.8564\n",
            "Epoch 40/70\n",
            "37/37 [==============================] - 1s 18ms/step - loss: 6.7961e-04 - accuracy: 0.9998 - val_loss: 1.8832 - val_accuracy: 0.8568\n",
            "Epoch 41/70\n",
            "37/37 [==============================] - 1s 18ms/step - loss: 0.0015 - accuracy: 0.9995 - val_loss: 1.9049 - val_accuracy: 0.8576\n",
            "Epoch 42/70\n",
            "37/37 [==============================] - 1s 18ms/step - loss: 0.0011 - accuracy: 0.9997 - val_loss: 1.9655 - val_accuracy: 0.8594\n",
            "Epoch 43/70\n",
            "37/37 [==============================] - 1s 18ms/step - loss: 0.0423 - accuracy: 0.9963 - val_loss: 1.6738 - val_accuracy: 0.8530\n",
            "Epoch 44/70\n",
            "37/37 [==============================] - 1s 18ms/step - loss: 0.0017 - accuracy: 0.9994 - val_loss: 1.7581 - val_accuracy: 0.8526\n",
            "Epoch 45/70\n",
            "37/37 [==============================] - 1s 18ms/step - loss: 0.0011 - accuracy: 0.9996 - val_loss: 1.9550 - val_accuracy: 0.8534\n",
            "Epoch 46/70\n",
            "37/37 [==============================] - 1s 18ms/step - loss: 0.0017 - accuracy: 0.9994 - val_loss: 3.0762 - val_accuracy: 0.7944\n",
            "Epoch 47/70\n",
            "37/37 [==============================] - 1s 18ms/step - loss: 0.2690 - accuracy: 0.9773 - val_loss: 1.7395 - val_accuracy: 0.8492\n",
            "Epoch 48/70\n",
            "37/37 [==============================] - 1s 18ms/step - loss: 0.0013 - accuracy: 0.9995 - val_loss: 1.8206 - val_accuracy: 0.8500\n",
            "Epoch 49/70\n",
            "37/37 [==============================] - 1s 19ms/step - loss: 0.0010 - accuracy: 0.9997 - val_loss: 1.9203 - val_accuracy: 0.8516\n",
            "Epoch 50/70\n",
            "37/37 [==============================] - 1s 18ms/step - loss: 0.0225 - accuracy: 0.9972 - val_loss: 1.7482 - val_accuracy: 0.8460\n",
            "Epoch 51/70\n",
            "37/37 [==============================] - 1s 19ms/step - loss: 0.0013 - accuracy: 0.9997 - val_loss: 1.8816 - val_accuracy: 0.8506\n",
            "Epoch 52/70\n",
            "37/37 [==============================] - 1s 19ms/step - loss: 0.0012 - accuracy: 0.9996 - val_loss: 1.9497 - val_accuracy: 0.8488\n",
            "Epoch 53/70\n",
            "37/37 [==============================] - 1s 18ms/step - loss: 6.5322e-04 - accuracy: 0.9998 - val_loss: 2.0464 - val_accuracy: 0.8538\n",
            "Epoch 54/70\n",
            "37/37 [==============================] - 1s 18ms/step - loss: 0.0543 - accuracy: 0.9961 - val_loss: 1.8811 - val_accuracy: 0.8488\n",
            "Epoch 55/70\n",
            "37/37 [==============================] - 1s 19ms/step - loss: 7.8044e-04 - accuracy: 0.9998 - val_loss: 1.9514 - val_accuracy: 0.8498\n",
            "Epoch 56/70\n",
            "37/37 [==============================] - 1s 19ms/step - loss: 8.2968e-04 - accuracy: 0.9997 - val_loss: 2.0367 - val_accuracy: 0.8514\n",
            "Epoch 57/70\n",
            "37/37 [==============================] - 1s 19ms/step - loss: 0.0011 - accuracy: 0.9996 - val_loss: 2.2226 - val_accuracy: 0.8530\n",
            "Epoch 58/70\n",
            "37/37 [==============================] - 1s 18ms/step - loss: 8.5542e-04 - accuracy: 0.9998 - val_loss: 2.3524 - val_accuracy: 0.8548\n",
            "Epoch 59/70\n",
            "37/37 [==============================] - 1s 17ms/step - loss: 0.0746 - accuracy: 0.9941 - val_loss: 2.1990 - val_accuracy: 0.8484\n",
            "Epoch 60/70\n",
            "37/37 [==============================] - 1s 18ms/step - loss: 8.0468e-04 - accuracy: 0.9998 - val_loss: 2.2613 - val_accuracy: 0.8488\n",
            "Epoch 61/70\n",
            "37/37 [==============================] - 1s 18ms/step - loss: 0.0010 - accuracy: 0.9997 - val_loss: 2.3500 - val_accuracy: 0.8492\n",
            "Epoch 62/70\n",
            "37/37 [==============================] - 1s 18ms/step - loss: 7.8607e-04 - accuracy: 0.9998 - val_loss: 2.4240 - val_accuracy: 0.8536\n",
            "Epoch 63/70\n",
            "37/37 [==============================] - 1s 18ms/step - loss: 9.1726e-04 - accuracy: 0.9997 - val_loss: 2.6521 - val_accuracy: 0.8544\n",
            "Epoch 64/70\n",
            "37/37 [==============================] - 1s 18ms/step - loss: 0.1621 - accuracy: 0.9907 - val_loss: 2.1390 - val_accuracy: 0.8534\n",
            "Epoch 65/70\n",
            "37/37 [==============================] - 1s 18ms/step - loss: 9.6373e-04 - accuracy: 0.9997 - val_loss: 2.1666 - val_accuracy: 0.8530\n",
            "Epoch 66/70\n",
            "37/37 [==============================] - 1s 18ms/step - loss: 8.3481e-04 - accuracy: 0.9998 - val_loss: 2.1958 - val_accuracy: 0.8542\n",
            "Epoch 67/70\n",
            "37/37 [==============================] - 1s 18ms/step - loss: 8.2019e-04 - accuracy: 0.9998 - val_loss: 2.2928 - val_accuracy: 0.8540\n",
            "Epoch 68/70\n",
            "37/37 [==============================] - 1s 18ms/step - loss: 4.7403e-04 - accuracy: 0.9999 - val_loss: 2.3655 - val_accuracy: 0.8552\n",
            "Epoch 69/70\n",
            "37/37 [==============================] - 1s 19ms/step - loss: 0.0012 - accuracy: 0.9996 - val_loss: 2.7428 - val_accuracy: 0.8528\n",
            "Epoch 70/70\n",
            "37/37 [==============================] - 1s 19ms/step - loss: 6.7442e-04 - accuracy: 0.9998 - val_loss: 3.0217 - val_accuracy: 0.8470\n"
          ],
          "name": "stdout"
        }
      ]
    },
    {
      "cell_type": "markdown",
      "metadata": {
        "id": "ziWCEymlwAN4"
      },
      "source": [
        "Błąd treningowy i walidacyjny:"
      ]
    },
    {
      "cell_type": "code",
      "metadata": {
        "colab": {
          "base_uri": "https://localhost:8080/",
          "height": 295
        },
        "id": "9iul5ks6wAN7",
        "outputId": "097e2245-eaf2-49e8-963a-0e18708d540f"
      },
      "source": [
        "import matplotlib.pyplot as plt\n",
        "history_dict = history.history\n",
        "loss_values = history_dict['loss']\n",
        "val_loss_values = history_dict['val_loss']\n",
        "epochs = range(1, len(loss_values) + 1)\n",
        "plt.plot(epochs, loss_values, 'bo', label='Training loss')\n",
        "plt.plot(epochs, val_loss_values, 'b', label='Validation loss')\n",
        "plt.title('Training and validation loss')\n",
        "plt.xlabel('Epochs')\n",
        "plt.ylabel('Loss')\n",
        "plt.legend()\n",
        "plt.show()"
      ],
      "execution_count": null,
      "outputs": [
        {
          "output_type": "display_data",
          "data": {
            "image/png": "[encoded data removed]",
            "text/plain": [
              "<Figure size 432x288 with 1 Axes>"
            ]
          },
          "metadata": {
            "tags": [],
            "needs_background": "light"
          }
        }
      ]
    },
    {
      "cell_type": "code",
      "metadata": {
        "colab": {
          "base_uri": "https://localhost:8080/"
        },
        "id": "26OQ3mooz2Ue",
        "outputId": "3daf875f-1220-4bb0-8a8c-b5242b934242"
      },
      "source": [
        "loss_values[:10]"
      ],
      "execution_count": null,
      "outputs": [
        {
          "output_type": "execute_result",
          "data": {
            "text/plain": [
              "[0.5275418162345886,\n",
              " 0.265470951795578,\n",
              " 0.19117805361747742,\n",
              " 0.15534910559654236,\n",
              " 0.13357385993003845,\n",
              " 0.09678284823894501,\n",
              " 0.06505342572927475,\n",
              " 0.07828008383512497,\n",
              " 0.06671250611543655,\n",
              " 0.013837320730090141]"
            ]
          },
          "metadata": {
            "tags": []
          },
          "execution_count": 21
        }
      ]
    },
    {
      "cell_type": "markdown",
      "metadata": {
        "id": "LQwCHFwZ0eA3"
      },
      "source": [
        "# **Regularyzacja** - metoda 2"
      ]
    },
    {
      "cell_type": "markdown",
      "metadata": {
        "id": "shOG8Qf70eBB"
      },
      "source": [
        "Zmniejszamy **wielkość modelu**:"
      ]
    },
    {
      "cell_type": "code",
      "metadata": {
        "id": "EUUR8ka90rAD"
      },
      "source": [
        "model = models.Sequential()\n",
        "model.add(layers.Dense(4, activation='relu', input_shape=(10000,)))\n",
        "model.add(layers.Dense(4, activation='relu'))\n",
        "model.add(layers.Dense(1, activation='sigmoid'))\n",
        "\n",
        "opt=keras.optimizers.RMSprop(lr = _learningRate)\n",
        "model.compile(optimizer=opt,loss='binary_crossentropy',metrics=['accuracy'])"
      ],
      "execution_count": null,
      "outputs": []
    },
    {
      "cell_type": "markdown",
      "metadata": {
        "id": "5NrIQGJg0rAD"
      },
      "source": [
        "Pętla ucząca:"
      ]
    },
    {
      "cell_type": "code",
      "metadata": {
        "colab": {
          "base_uri": "https://localhost:8080/"
        },
        "id": "FjDmmAHM0rAD",
        "outputId": "ec1c1c51-b715-45db-fb2f-9271c78d9b74"
      },
      "source": [
        "history = model.fit(x_train,y_train, epochs = _epochs, batch_size = _batchSize, validation_data=(x_val, y_val))"
      ],
      "execution_count": null,
      "outputs": [
        {
          "output_type": "stream",
          "text": [
            "Epoch 1/70\n",
            "37/37 [==============================] - 1s 22ms/step - loss: 0.5855 - accuracy: 0.6914 - val_loss: 0.3445 - val_accuracy: 0.8642\n",
            "Epoch 2/70\n",
            "37/37 [==============================] - 1s 18ms/step - loss: 0.2586 - accuracy: 0.9001 - val_loss: 0.2788 - val_accuracy: 0.8872\n",
            "Epoch 3/70\n",
            "37/37 [==============================] - 1s 24ms/step - loss: 0.1949 - accuracy: 0.9221 - val_loss: 0.2865 - val_accuracy: 0.8826\n",
            "Epoch 4/70\n",
            "37/37 [==============================] - 1s 18ms/step - loss: 0.1499 - accuracy: 0.9468 - val_loss: 0.3114 - val_accuracy: 0.8762\n",
            "Epoch 5/70\n",
            "37/37 [==============================] - 1s 18ms/step - loss: 0.1361 - accuracy: 0.9477 - val_loss: 0.3780 - val_accuracy: 0.8760\n",
            "Epoch 6/70\n",
            "37/37 [==============================] - 1s 18ms/step - loss: 0.1105 - accuracy: 0.9598 - val_loss: 0.3816 - val_accuracy: 0.8688\n",
            "Epoch 7/70\n",
            "37/37 [==============================] - 1s 18ms/step - loss: 0.1023 - accuracy: 0.9622 - val_loss: 0.4581 - val_accuracy: 0.8568\n",
            "Epoch 8/70\n",
            "37/37 [==============================] - 1s 18ms/step - loss: 0.1015 - accuracy: 0.9602 - val_loss: 0.4995 - val_accuracy: 0.8574\n",
            "Epoch 9/70\n",
            "37/37 [==============================] - 1s 18ms/step - loss: 0.0793 - accuracy: 0.9726 - val_loss: 0.6283 - val_accuracy: 0.8426\n",
            "Epoch 10/70\n",
            "37/37 [==============================] - 1s 18ms/step - loss: 0.0543 - accuracy: 0.9831 - val_loss: 0.5800 - val_accuracy: 0.8584\n",
            "Epoch 11/70\n",
            "37/37 [==============================] - 1s 19ms/step - loss: 0.0460 - accuracy: 0.9868 - val_loss: 0.6914 - val_accuracy: 0.8592\n",
            "Epoch 12/70\n",
            "37/37 [==============================] - 1s 18ms/step - loss: 0.0512 - accuracy: 0.9847 - val_loss: 0.6870 - val_accuracy: 0.8602\n",
            "Epoch 13/70\n",
            "37/37 [==============================] - 1s 19ms/step - loss: 0.0433 - accuracy: 0.9879 - val_loss: 0.7126 - val_accuracy: 0.8602\n",
            "Epoch 14/70\n",
            "37/37 [==============================] - 1s 18ms/step - loss: 0.0228 - accuracy: 0.9942 - val_loss: 0.7467 - val_accuracy: 0.8606\n",
            "Epoch 15/70\n",
            "37/37 [==============================] - 1s 18ms/step - loss: 0.0118 - accuracy: 0.9973 - val_loss: 0.9644 - val_accuracy: 0.8424\n",
            "Epoch 16/70\n",
            "37/37 [==============================] - 1s 19ms/step - loss: 0.0152 - accuracy: 0.9943 - val_loss: 0.9239 - val_accuracy: 0.8562\n",
            "Epoch 17/70\n",
            "37/37 [==============================] - 1s 19ms/step - loss: 0.0405 - accuracy: 0.9910 - val_loss: 0.9705 - val_accuracy: 0.8566\n",
            "Epoch 18/70\n",
            "37/37 [==============================] - 1s 18ms/step - loss: 0.0085 - accuracy: 0.9983 - val_loss: 0.9880 - val_accuracy: 0.8550\n",
            "Epoch 19/70\n",
            "37/37 [==============================] - 1s 18ms/step - loss: 0.0038 - accuracy: 0.9995 - val_loss: 1.0683 - val_accuracy: 0.8550\n",
            "Epoch 20/70\n",
            "37/37 [==============================] - 1s 18ms/step - loss: 0.0063 - accuracy: 0.9987 - val_loss: 1.1568 - val_accuracy: 0.8568\n",
            "Epoch 21/70\n",
            "37/37 [==============================] - 1s 18ms/step - loss: 0.0021 - accuracy: 0.9997 - val_loss: 1.2011 - val_accuracy: 0.8546\n",
            "Epoch 22/70\n",
            "37/37 [==============================] - 1s 18ms/step - loss: 0.0013 - accuracy: 0.9999 - val_loss: 1.3533 - val_accuracy: 0.8540\n",
            "Epoch 23/70\n",
            "37/37 [==============================] - 1s 19ms/step - loss: 0.0389 - accuracy: 0.9944 - val_loss: 1.3954 - val_accuracy: 0.8496\n",
            "Epoch 24/70\n",
            "37/37 [==============================] - 1s 18ms/step - loss: 7.7631e-04 - accuracy: 1.0000 - val_loss: 1.4576 - val_accuracy: 0.8490\n",
            "Epoch 25/70\n",
            "37/37 [==============================] - 1s 18ms/step - loss: 5.6686e-04 - accuracy: 1.0000 - val_loss: 1.5801 - val_accuracy: 0.8508\n",
            "Epoch 26/70\n",
            "37/37 [==============================] - 1s 18ms/step - loss: 0.0151 - accuracy: 0.9980 - val_loss: 1.6818 - val_accuracy: 0.8498\n",
            "Epoch 27/70\n",
            "37/37 [==============================] - 1s 18ms/step - loss: 6.1950e-04 - accuracy: 0.9999 - val_loss: 1.7164 - val_accuracy: 0.8508\n",
            "Epoch 28/70\n",
            "37/37 [==============================] - 1s 18ms/step - loss: 3.4320e-04 - accuracy: 1.0000 - val_loss: 1.7532 - val_accuracy: 0.8488\n",
            "Epoch 29/70\n",
            "37/37 [==============================] - 1s 18ms/step - loss: 2.3580e-04 - accuracy: 1.0000 - val_loss: 1.8646 - val_accuracy: 0.8516\n",
            "Epoch 30/70\n",
            "37/37 [==============================] - 1s 18ms/step - loss: 0.0297 - accuracy: 0.9958 - val_loss: 1.8801 - val_accuracy: 0.8496\n",
            "Epoch 31/70\n",
            "37/37 [==============================] - 1s 18ms/step - loss: 4.8193e-04 - accuracy: 0.9999 - val_loss: 1.9230 - val_accuracy: 0.8486\n",
            "Epoch 32/70\n",
            "37/37 [==============================] - 1s 18ms/step - loss: 2.3083e-04 - accuracy: 1.0000 - val_loss: 1.9431 - val_accuracy: 0.8498\n",
            "Epoch 33/70\n",
            "37/37 [==============================] - 1s 18ms/step - loss: 5.8239e-04 - accuracy: 0.9998 - val_loss: 2.0896 - val_accuracy: 0.8484\n",
            "Epoch 34/70\n",
            "37/37 [==============================] - 1s 19ms/step - loss: 0.0240 - accuracy: 0.9972 - val_loss: 2.1263 - val_accuracy: 0.8492\n",
            "Epoch 35/70\n",
            "37/37 [==============================] - 1s 18ms/step - loss: 3.0788e-04 - accuracy: 0.9999 - val_loss: 2.1572 - val_accuracy: 0.8484\n",
            "Epoch 36/70\n",
            "37/37 [==============================] - 1s 18ms/step - loss: 4.6642e-04 - accuracy: 0.9999 - val_loss: 2.2000 - val_accuracy: 0.8472\n",
            "Epoch 37/70\n",
            "37/37 [==============================] - 1s 19ms/step - loss: 1.2092e-04 - accuracy: 1.0000 - val_loss: 2.2798 - val_accuracy: 0.8458\n",
            "Epoch 38/70\n",
            "37/37 [==============================] - 1s 18ms/step - loss: 7.4573e-05 - accuracy: 1.0000 - val_loss: 2.4736 - val_accuracy: 0.8458\n",
            "Epoch 39/70\n",
            "37/37 [==============================] - 1s 18ms/step - loss: 0.0880 - accuracy: 0.9921 - val_loss: 2.2437 - val_accuracy: 0.8472\n",
            "Epoch 40/70\n",
            "37/37 [==============================] - 1s 18ms/step - loss: 3.7716e-04 - accuracy: 0.9999 - val_loss: 2.2835 - val_accuracy: 0.8458\n",
            "Epoch 41/70\n",
            "37/37 [==============================] - 1s 18ms/step - loss: 3.6637e-04 - accuracy: 0.9999 - val_loss: 2.3577 - val_accuracy: 0.8462\n",
            "Epoch 42/70\n",
            "37/37 [==============================] - 1s 18ms/step - loss: 1.6999e-04 - accuracy: 1.0000 - val_loss: 2.4371 - val_accuracy: 0.8444\n",
            "Epoch 43/70\n",
            "37/37 [==============================] - 1s 18ms/step - loss: 2.0316e-04 - accuracy: 1.0000 - val_loss: 2.6143 - val_accuracy: 0.8460\n",
            "Epoch 44/70\n",
            "37/37 [==============================] - 1s 18ms/step - loss: 0.0621 - accuracy: 0.9938 - val_loss: 2.5862 - val_accuracy: 0.8468\n",
            "Epoch 45/70\n",
            "37/37 [==============================] - 1s 18ms/step - loss: 9.1147e-05 - accuracy: 1.0000 - val_loss: 2.6248 - val_accuracy: 0.8492\n",
            "Epoch 46/70\n",
            "37/37 [==============================] - 1s 18ms/step - loss: 5.6799e-05 - accuracy: 1.0000 - val_loss: 2.6308 - val_accuracy: 0.8462\n",
            "Epoch 47/70\n",
            "37/37 [==============================] - 1s 18ms/step - loss: 1.2260e-04 - accuracy: 1.0000 - val_loss: 2.6486 - val_accuracy: 0.8466\n",
            "Epoch 48/70\n",
            "37/37 [==============================] - 1s 17ms/step - loss: 6.9020e-05 - accuracy: 1.0000 - val_loss: 2.8209 - val_accuracy: 0.8456\n",
            "Epoch 49/70\n",
            "37/37 [==============================] - 1s 18ms/step - loss: 0.0173 - accuracy: 0.9986 - val_loss: 2.9111 - val_accuracy: 0.8476\n",
            "Epoch 50/70\n",
            "37/37 [==============================] - 1s 19ms/step - loss: 2.3735e-04 - accuracy: 0.9999 - val_loss: 2.9436 - val_accuracy: 0.8498\n",
            "Epoch 51/70\n",
            "37/37 [==============================] - 1s 18ms/step - loss: 1.4108e-04 - accuracy: 1.0000 - val_loss: 2.9318 - val_accuracy: 0.8488\n",
            "Epoch 52/70\n",
            "37/37 [==============================] - 1s 18ms/step - loss: 7.7667e-05 - accuracy: 1.0000 - val_loss: 2.9413 - val_accuracy: 0.8478\n",
            "Epoch 53/70\n",
            "37/37 [==============================] - 1s 23ms/step - loss: 3.0945e-04 - accuracy: 0.9999 - val_loss: 2.9755 - val_accuracy: 0.8474\n",
            "Epoch 54/70\n",
            "37/37 [==============================] - 1s 18ms/step - loss: 0.0183 - accuracy: 0.9988 - val_loss: 2.9972 - val_accuracy: 0.8478\n",
            "Epoch 55/70\n",
            "37/37 [==============================] - 1s 18ms/step - loss: 2.6413e-04 - accuracy: 1.0000 - val_loss: 2.9893 - val_accuracy: 0.8476\n",
            "Epoch 56/70\n",
            "37/37 [==============================] - 1s 20ms/step - loss: 7.9109e-05 - accuracy: 1.0000 - val_loss: 3.0161 - val_accuracy: 0.8484\n",
            "Epoch 57/70\n",
            "37/37 [==============================] - 1s 18ms/step - loss: 3.2701e-04 - accuracy: 0.9999 - val_loss: 3.0547 - val_accuracy: 0.8486\n",
            "Epoch 58/70\n",
            "37/37 [==============================] - 1s 18ms/step - loss: 2.8892e-04 - accuracy: 0.9999 - val_loss: 3.0174 - val_accuracy: 0.8478\n",
            "Epoch 59/70\n",
            "37/37 [==============================] - 1s 18ms/step - loss: 2.7506e-04 - accuracy: 0.9999 - val_loss: 3.2250 - val_accuracy: 0.8486\n",
            "Epoch 60/70\n",
            "37/37 [==============================] - 1s 18ms/step - loss: 0.0882 - accuracy: 0.9935 - val_loss: 3.2301 - val_accuracy: 0.8450\n",
            "Epoch 61/70\n",
            "37/37 [==============================] - 1s 18ms/step - loss: 2.5657e-04 - accuracy: 0.9999 - val_loss: 3.8833 - val_accuracy: 0.8400\n",
            "Epoch 62/70\n",
            "37/37 [==============================] - 1s 18ms/step - loss: 0.1737 - accuracy: 0.9835 - val_loss: 3.1307 - val_accuracy: 0.8452\n",
            "Epoch 63/70\n",
            "37/37 [==============================] - 1s 18ms/step - loss: 2.7576e-04 - accuracy: 0.9999 - val_loss: 3.1352 - val_accuracy: 0.8454\n",
            "Epoch 64/70\n",
            "37/37 [==============================] - 1s 18ms/step - loss: 3.8880e-04 - accuracy: 0.9999 - val_loss: 3.1631 - val_accuracy: 0.8448\n",
            "Epoch 65/70\n",
            "37/37 [==============================] - 1s 18ms/step - loss: 2.1599e-04 - accuracy: 1.0000 - val_loss: 3.2249 - val_accuracy: 0.8446\n",
            "Epoch 66/70\n",
            "37/37 [==============================] - 1s 18ms/step - loss: 7.9375e-05 - accuracy: 1.0000 - val_loss: 4.2195 - val_accuracy: 0.8020\n",
            "Epoch 67/70\n",
            "37/37 [==============================] - 1s 18ms/step - loss: 0.1968 - accuracy: 0.9828 - val_loss: 3.1484 - val_accuracy: 0.8432\n",
            "Epoch 68/70\n",
            "37/37 [==============================] - 1s 18ms/step - loss: 3.4164e-04 - accuracy: 0.9999 - val_loss: 3.1806 - val_accuracy: 0.8432\n",
            "Epoch 69/70\n",
            "37/37 [==============================] - 1s 18ms/step - loss: 1.1273e-04 - accuracy: 1.0000 - val_loss: 3.2225 - val_accuracy: 0.8432\n",
            "Epoch 70/70\n",
            "37/37 [==============================] - 1s 18ms/step - loss: 3.3960e-05 - accuracy: 1.0000 - val_loss: 3.2978 - val_accuracy: 0.8438\n"
          ],
          "name": "stdout"
        }
      ]
    },
    {
      "cell_type": "markdown",
      "metadata": {
        "id": "XOcnjTao0rAE"
      },
      "source": [
        "Błąd treningowy i walidacyjny:"
      ]
    },
    {
      "cell_type": "code",
      "metadata": {
        "colab": {
          "base_uri": "https://localhost:8080/",
          "height": 295
        },
        "id": "mX6e4w6L0rAF",
        "outputId": "fecb3963-3641-41db-c9a5-71ad68b310c0"
      },
      "source": [
        "import matplotlib.pyplot as plt\n",
        "history_dict = history.history\n",
        "loss_values = history_dict['loss']\n",
        "val_loss_values = history_dict['val_loss']\n",
        "epochs = range(1, len(loss_values) + 1)\n",
        "plt.plot(epochs, loss_values, 'bo', label='Training loss')\n",
        "plt.plot(epochs, val_loss_values, 'b', label='Validation loss')\n",
        "plt.title('Training and validation loss')\n",
        "plt.xlabel('Epochs')\n",
        "plt.ylabel('Loss')\n",
        "plt.legend()\n",
        "plt.show()"
      ],
      "execution_count": null,
      "outputs": [
        {
          "output_type": "display_data",
          "data": {
            "image/png": "[encoded data removed]",
            "text/plain": [
              "<Figure size 432x288 with 1 Axes>"
            ]
          },
          "metadata": {
            "tags": [],
            "needs_background": "light"
          }
        }
      ]
    },
    {
      "cell_type": "markdown",
      "metadata": {
        "id": "ZwWsUXFc1079"
      },
      "source": [
        "Spróbujmy teraz znacznie zwiększyć **wielkość modelu**:"
      ]
    },
    {
      "cell_type": "code",
      "metadata": {
        "id": "o3TyM3wo1079"
      },
      "source": [
        "model = models.Sequential()\n",
        "model.add(layers.Dense(512, activation='relu', input_shape=(10000,)))\n",
        "model.add(layers.Dense(512, activation='relu'))\n",
        "model.add(layers.Dense(1, activation='sigmoid'))\n",
        "\n",
        "opt=keras.optimizers.RMSprop(lr = _learningRate)\n",
        "model.compile(optimizer=opt,loss='binary_crossentropy',metrics=['accuracy'])"
      ],
      "execution_count": null,
      "outputs": []
    },
    {
      "cell_type": "markdown",
      "metadata": {
        "id": "Bgn0iMhP107-"
      },
      "source": [
        "Pętla ucząca:"
      ]
    },
    {
      "cell_type": "code",
      "metadata": {
        "colab": {
          "base_uri": "https://localhost:8080/"
        },
        "id": "l2wnhmhv107-",
        "outputId": "958cff4d-3661-43ba-c8db-524f50979bcc"
      },
      "source": [
        "history = model.fit(x_train,y_train, epochs = _epochs, batch_size = _batchSize, validation_data=(x_val, y_val))"
      ],
      "execution_count": null,
      "outputs": [
        {
          "output_type": "stream",
          "text": [
            "Epoch 1/70\n",
            "37/37 [==============================] - 2s 29ms/step - loss: 18.4357 - accuracy: 0.6457 - val_loss: 0.5177 - val_accuracy: 0.7552\n",
            "Epoch 2/70\n",
            "37/37 [==============================] - 1s 22ms/step - loss: 0.5754 - accuracy: 0.7929 - val_loss: 0.3503 - val_accuracy: 0.8438\n",
            "Epoch 3/70\n",
            "37/37 [==============================] - 1s 23ms/step - loss: 0.2550 - accuracy: 0.8934 - val_loss: 0.7260 - val_accuracy: 0.6846\n",
            "Epoch 4/70\n",
            "37/37 [==============================] - 1s 22ms/step - loss: 0.2361 - accuracy: 0.9073 - val_loss: 0.2890 - val_accuracy: 0.8810\n",
            "Epoch 5/70\n",
            "37/37 [==============================] - 1s 21ms/step - loss: 0.1612 - accuracy: 0.9367 - val_loss: 0.5220 - val_accuracy: 0.8396\n",
            "Epoch 6/70\n",
            "37/37 [==============================] - 1s 22ms/step - loss: 0.1256 - accuracy: 0.9530 - val_loss: 0.8459 - val_accuracy: 0.8140\n",
            "Epoch 7/70\n",
            "37/37 [==============================] - 1s 22ms/step - loss: 0.1164 - accuracy: 0.9564 - val_loss: 0.4448 - val_accuracy: 0.8774\n",
            "Epoch 8/70\n",
            "37/37 [==============================] - 1s 22ms/step - loss: 0.0366 - accuracy: 0.9884 - val_loss: 0.6136 - val_accuracy: 0.8724\n",
            "Epoch 9/70\n",
            "37/37 [==============================] - 1s 21ms/step - loss: 0.0262 - accuracy: 0.9918 - val_loss: 0.8108 - val_accuracy: 0.8656\n",
            "Epoch 10/70\n",
            "37/37 [==============================] - 1s 21ms/step - loss: 0.0599 - accuracy: 0.9894 - val_loss: 0.8382 - val_accuracy: 0.8732\n",
            "Epoch 11/70\n",
            "37/37 [==============================] - 1s 21ms/step - loss: 0.0082 - accuracy: 0.9985 - val_loss: 0.3995 - val_accuracy: 0.8740\n",
            "Epoch 12/70\n",
            "37/37 [==============================] - 1s 21ms/step - loss: 0.0098 - accuracy: 0.9986 - val_loss: 0.3837 - val_accuracy: 0.8754\n",
            "Epoch 13/70\n",
            "37/37 [==============================] - 1s 21ms/step - loss: 0.0402 - accuracy: 0.9924 - val_loss: 1.1146 - val_accuracy: 0.8774\n",
            "Epoch 14/70\n",
            "37/37 [==============================] - 1s 21ms/step - loss: 3.2391e-04 - accuracy: 0.9999 - val_loss: 1.1084 - val_accuracy: 0.8704\n",
            "Epoch 15/70\n",
            "37/37 [==============================] - 1s 22ms/step - loss: 0.1136 - accuracy: 0.9901 - val_loss: 0.9942 - val_accuracy: 0.8746\n",
            "Epoch 16/70\n",
            "37/37 [==============================] - 1s 22ms/step - loss: 0.0010 - accuracy: 0.9998 - val_loss: 1.2776 - val_accuracy: 0.8718\n",
            "Epoch 17/70\n",
            "37/37 [==============================] - 1s 22ms/step - loss: 8.1337e-06 - accuracy: 1.0000 - val_loss: 1.3571 - val_accuracy: 0.8738\n",
            "Epoch 18/70\n",
            "37/37 [==============================] - 1s 22ms/step - loss: 6.5536e-07 - accuracy: 1.0000 - val_loss: 1.5029 - val_accuracy: 0.8742\n",
            "Epoch 19/70\n",
            "37/37 [==============================] - 1s 22ms/step - loss: 1.0868e-07 - accuracy: 1.0000 - val_loss: 1.6642 - val_accuracy: 0.8732\n",
            "Epoch 20/70\n",
            "37/37 [==============================] - 1s 22ms/step - loss: 3.1578e-08 - accuracy: 1.0000 - val_loss: 1.8188 - val_accuracy: 0.8732\n",
            "Epoch 21/70\n",
            "37/37 [==============================] - 1s 23ms/step - loss: 1.0003e-08 - accuracy: 1.0000 - val_loss: 1.9271 - val_accuracy: 0.8726\n",
            "Epoch 22/70\n",
            "37/37 [==============================] - 1s 22ms/step - loss: 3.0411e-09 - accuracy: 1.0000 - val_loss: 2.0403 - val_accuracy: 0.8730\n",
            "Epoch 23/70\n",
            "37/37 [==============================] - 1s 22ms/step - loss: 1.0837e-09 - accuracy: 1.0000 - val_loss: 2.1311 - val_accuracy: 0.8730\n",
            "Epoch 24/70\n",
            "37/37 [==============================] - 1s 21ms/step - loss: 6.7447e-10 - accuracy: 1.0000 - val_loss: 2.1808 - val_accuracy: 0.8734\n",
            "Epoch 25/70\n",
            "37/37 [==============================] - 1s 21ms/step - loss: 3.9625e-10 - accuracy: 1.0000 - val_loss: 2.2199 - val_accuracy: 0.8734\n",
            "Epoch 26/70\n",
            "37/37 [==============================] - 1s 21ms/step - loss: 2.8263e-10 - accuracy: 1.0000 - val_loss: 2.2417 - val_accuracy: 0.8734\n",
            "Epoch 27/70\n",
            "37/37 [==============================] - 1s 21ms/step - loss: 2.3528e-10 - accuracy: 1.0000 - val_loss: 2.2619 - val_accuracy: 0.8734\n",
            "Epoch 28/70\n",
            "37/37 [==============================] - 1s 21ms/step - loss: 2.0916e-10 - accuracy: 1.0000 - val_loss: 2.2781 - val_accuracy: 0.8736\n",
            "Epoch 29/70\n",
            "37/37 [==============================] - 1s 22ms/step - loss: 1.8447e-10 - accuracy: 1.0000 - val_loss: 2.2882 - val_accuracy: 0.8734\n",
            "Epoch 30/70\n",
            "37/37 [==============================] - 1s 21ms/step - loss: 1.6873e-10 - accuracy: 1.0000 - val_loss: 2.2980 - val_accuracy: 0.8736\n",
            "Epoch 31/70\n",
            "37/37 [==============================] - 1s 22ms/step - loss: 1.6896e-10 - accuracy: 1.0000 - val_loss: 2.3059 - val_accuracy: 0.8734\n",
            "Epoch 32/70\n",
            "37/37 [==============================] - 1s 22ms/step - loss: 1.5785e-10 - accuracy: 1.0000 - val_loss: 2.3141 - val_accuracy: 0.8734\n",
            "Epoch 33/70\n",
            "37/37 [==============================] - 1s 22ms/step - loss: 1.4860e-10 - accuracy: 1.0000 - val_loss: 2.3216 - val_accuracy: 0.8734\n",
            "Epoch 34/70\n",
            "37/37 [==============================] - 1s 22ms/step - loss: 1.3423e-10 - accuracy: 1.0000 - val_loss: 2.3293 - val_accuracy: 0.8732\n",
            "Epoch 35/70\n",
            "37/37 [==============================] - 1s 30ms/step - loss: 1.2910e-10 - accuracy: 1.0000 - val_loss: 2.3372 - val_accuracy: 0.8732\n",
            "Epoch 36/70\n",
            "37/37 [==============================] - 1s 22ms/step - loss: 1.1642e-10 - accuracy: 1.0000 - val_loss: 2.3453 - val_accuracy: 0.8732\n",
            "Epoch 37/70\n",
            "37/37 [==============================] - 1s 23ms/step - loss: 1.1739e-10 - accuracy: 1.0000 - val_loss: 2.3514 - val_accuracy: 0.8732\n",
            "Epoch 38/70\n",
            "37/37 [==============================] - 1s 23ms/step - loss: 1.1176e-10 - accuracy: 1.0000 - val_loss: 2.3578 - val_accuracy: 0.8732\n",
            "Epoch 39/70\n",
            "37/37 [==============================] - 1s 22ms/step - loss: 1.0749e-10 - accuracy: 1.0000 - val_loss: 2.3641 - val_accuracy: 0.8732\n",
            "Epoch 40/70\n",
            "37/37 [==============================] - 1s 22ms/step - loss: 1.0079e-10 - accuracy: 1.0000 - val_loss: 2.3695 - val_accuracy: 0.8732\n",
            "Epoch 41/70\n",
            "37/37 [==============================] - 1s 22ms/step - loss: 9.1533e-11 - accuracy: 1.0000 - val_loss: 2.3732 - val_accuracy: 0.8730\n",
            "Epoch 42/70\n",
            "37/37 [==============================] - 1s 23ms/step - loss: 8.8037e-11 - accuracy: 1.0000 - val_loss: 2.3772 - val_accuracy: 0.8730\n",
            "Epoch 43/70\n",
            "37/37 [==============================] - 1s 22ms/step - loss: 7.9942e-11 - accuracy: 1.0000 - val_loss: 2.3813 - val_accuracy: 0.8730\n",
            "Epoch 44/70\n",
            "37/37 [==============================] - 1s 22ms/step - loss: 8.9042e-11 - accuracy: 1.0000 - val_loss: 2.3872 - val_accuracy: 0.8730\n",
            "Epoch 45/70\n",
            "37/37 [==============================] - 1s 22ms/step - loss: 8.8725e-11 - accuracy: 1.0000 - val_loss: 2.3882 - val_accuracy: 0.8728\n",
            "Epoch 46/70\n",
            "37/37 [==============================] - 1s 22ms/step - loss: 8.6817e-11 - accuracy: 1.0000 - val_loss: 2.3894 - val_accuracy: 0.8726\n",
            "Epoch 47/70\n",
            "37/37 [==============================] - 1s 22ms/step - loss: 9.5831e-11 - accuracy: 1.0000 - val_loss: 2.3923 - val_accuracy: 0.8726\n",
            "Epoch 48/70\n",
            "37/37 [==============================] - 1s 21ms/step - loss: 8.6863e-11 - accuracy: 1.0000 - val_loss: 2.3937 - val_accuracy: 0.8726\n",
            "Epoch 49/70\n",
            "37/37 [==============================] - 1s 22ms/step - loss: 8.1564e-11 - accuracy: 1.0000 - val_loss: 2.3983 - val_accuracy: 0.8726\n",
            "Epoch 50/70\n",
            "37/37 [==============================] - 1s 21ms/step - loss: 8.7709e-11 - accuracy: 1.0000 - val_loss: 2.3998 - val_accuracy: 0.8724\n",
            "Epoch 51/70\n",
            "37/37 [==============================] - 1s 23ms/step - loss: 8.0305e-11 - accuracy: 1.0000 - val_loss: 2.4014 - val_accuracy: 0.8724\n",
            "Epoch 52/70\n",
            "37/37 [==============================] - 1s 23ms/step - loss: 7.9101e-11 - accuracy: 1.0000 - val_loss: 2.4031 - val_accuracy: 0.8724\n",
            "Epoch 53/70\n",
            "37/37 [==============================] - 1s 21ms/step - loss: 8.0242e-11 - accuracy: 1.0000 - val_loss: 2.4063 - val_accuracy: 0.8724\n",
            "Epoch 54/70\n",
            "37/37 [==============================] - 1s 21ms/step - loss: 9.2789e-11 - accuracy: 1.0000 - val_loss: 2.4080 - val_accuracy: 0.8724\n",
            "Epoch 55/70\n",
            "37/37 [==============================] - 1s 22ms/step - loss: 1.0562e-10 - accuracy: 1.0000 - val_loss: 2.4098 - val_accuracy: 0.8722\n",
            "Epoch 56/70\n",
            "37/37 [==============================] - 1s 22ms/step - loss: 8.2813e-11 - accuracy: 1.0000 - val_loss: 2.4116 - val_accuracy: 0.8722\n",
            "Epoch 57/70\n",
            "37/37 [==============================] - 1s 22ms/step - loss: 7.1536e-11 - accuracy: 1.0000 - val_loss: 2.4135 - val_accuracy: 0.8722\n",
            "Epoch 58/70\n",
            "37/37 [==============================] - 1s 22ms/step - loss: 8.0599e-11 - accuracy: 1.0000 - val_loss: 2.4139 - val_accuracy: 0.8722\n",
            "Epoch 59/70\n",
            "37/37 [==============================] - 1s 22ms/step - loss: 7.9853e-11 - accuracy: 1.0000 - val_loss: 2.4158 - val_accuracy: 0.8722\n",
            "Epoch 60/70\n",
            "37/37 [==============================] - 1s 22ms/step - loss: 8.2830e-11 - accuracy: 1.0000 - val_loss: 2.4163 - val_accuracy: 0.8722\n",
            "Epoch 61/70\n",
            "37/37 [==============================] - 1s 22ms/step - loss: 9.0898e-11 - accuracy: 1.0000 - val_loss: 2.4183 - val_accuracy: 0.8722\n",
            "Epoch 62/70\n",
            "37/37 [==============================] - 1s 22ms/step - loss: 7.8889e-11 - accuracy: 1.0000 - val_loss: 2.4189 - val_accuracy: 0.8726\n",
            "Epoch 63/70\n",
            "37/37 [==============================] - 1s 22ms/step - loss: 7.6365e-11 - accuracy: 1.0000 - val_loss: 2.4232 - val_accuracy: 0.8722\n",
            "Epoch 64/70\n",
            "37/37 [==============================] - 1s 21ms/step - loss: 7.2684e-11 - accuracy: 1.0000 - val_loss: 2.4237 - val_accuracy: 0.8726\n",
            "Epoch 65/70\n",
            "37/37 [==============================] - 1s 22ms/step - loss: 7.5298e-11 - accuracy: 1.0000 - val_loss: 2.4243 - val_accuracy: 0.8728\n",
            "Epoch 66/70\n",
            "37/37 [==============================] - 1s 22ms/step - loss: 7.5676e-11 - accuracy: 1.0000 - val_loss: 2.4249 - val_accuracy: 0.8728\n",
            "Epoch 67/70\n",
            "37/37 [==============================] - 1s 23ms/step - loss: 9.5450e-11 - accuracy: 1.0000 - val_loss: 2.4256 - val_accuracy: 0.8730\n",
            "Epoch 68/70\n",
            "37/37 [==============================] - 1s 22ms/step - loss: 8.8881e-11 - accuracy: 1.0000 - val_loss: 2.4286 - val_accuracy: 0.8728\n",
            "Epoch 69/70\n",
            "37/37 [==============================] - 1s 22ms/step - loss: 8.1108e-11 - accuracy: 1.0000 - val_loss: 2.4292 - val_accuracy: 0.8728\n",
            "Epoch 70/70\n",
            "37/37 [==============================] - 1s 21ms/step - loss: 7.6388e-11 - accuracy: 1.0000 - val_loss: 2.4299 - val_accuracy: 0.8730\n"
          ],
          "name": "stdout"
        }
      ]
    },
    {
      "cell_type": "markdown",
      "metadata": {
        "id": "0UQy7RkO107_"
      },
      "source": [
        "Błąd treningowy i walidacyjny:"
      ]
    },
    {
      "cell_type": "code",
      "metadata": {
        "colab": {
          "base_uri": "https://localhost:8080/",
          "height": 295
        },
        "id": "gnE5ipdP107_",
        "outputId": "ad5d31ff-9a36-411c-9658-088632119822"
      },
      "source": [
        "import matplotlib.pyplot as plt\n",
        "history_dict = history.history\n",
        "loss_values = history_dict['loss']\n",
        "val_loss_values = history_dict['val_loss']\n",
        "epochs = range(1, len(loss_values) + 1)\n",
        "plt.plot(epochs, loss_values, 'bo', label='Training loss')\n",
        "plt.plot(epochs, val_loss_values, 'b', label='Validation loss')\n",
        "plt.title('Training and validation loss')\n",
        "plt.xlabel('Epochs')\n",
        "plt.ylabel('Loss')\n",
        "plt.legend()\n",
        "plt.show()"
      ],
      "execution_count": null,
      "outputs": [
        {
          "output_type": "display_data",
          "data": {
            "image/png": "[encoded data removed]",
            "text/plain": [
              "<Figure size 432x288 with 1 Axes>"
            ]
          },
          "metadata": {
            "tags": [],
            "needs_background": "light"
          }
        }
      ]
    },
    {
      "cell_type": "markdown",
      "metadata": {
        "id": "5h6JWo_T107y"
      },
      "source": [
        "# **Regularyzacja** - metoda 3"
      ]
    },
    {
      "cell_type": "markdown",
      "metadata": {
        "id": "SMniHuUD4UZl"
      },
      "source": [
        "Import **normy L2**:"
      ]
    },
    {
      "cell_type": "code",
      "metadata": {
        "id": "dKo7wQrm4bX7"
      },
      "source": [
        "from keras.regularizers import l2"
      ],
      "execution_count": null,
      "outputs": []
    },
    {
      "cell_type": "markdown",
      "metadata": {
        "id": "WW84W1fE5WSP"
      },
      "source": [
        "Danie **regularyzacji L2** do warstw:"
      ]
    },
    {
      "cell_type": "code",
      "metadata": {
        "id": "ah5wqECl4UZp"
      },
      "source": [
        "\n",
        "model = models.Sequential()\n",
        "model.add(layers.Dense(32, kernel_regularizer=l2(0.01), activation='relu', input_shape=(10000,)))\n",
        "model.add(layers.Dense(32, kernel_regularizer=l2(0.01), activation='relu'))\n",
        "model.add(layers.Dense(1, kernel_regularizer=l2(0.01), activation='sigmoid'))\n",
        "\n",
        "opt=keras.optimizers.RMSprop(lr = _learningRate)\n",
        "model.compile(optimizer=opt,loss='binary_crossentropy',metrics=['accuracy'])"
      ],
      "execution_count": null,
      "outputs": []
    },
    {
      "cell_type": "markdown",
      "metadata": {
        "id": "V55indK-4UZp"
      },
      "source": [
        "Pętla ucząca:"
      ]
    },
    {
      "cell_type": "code",
      "metadata": {
        "colab": {
          "base_uri": "https://localhost:8080/"
        },
        "id": "L4YLVYmW4UZp",
        "outputId": "cde90323-5bd1-4bd8-a8df-1c58e9820392"
      },
      "source": [
        "history = model.fit(x_train,y_train, epochs = _epochs, batch_size = _batchSize, validation_data=(x_val, y_val))"
      ],
      "execution_count": null,
      "outputs": [
        {
          "output_type": "stream",
          "text": [
            "Epoch 1/70\n",
            "37/37 [==============================] - 1s 22ms/step - loss: 1.1255 - accuracy: 0.5687 - val_loss: 0.7147 - val_accuracy: 0.7414\n",
            "Epoch 2/70\n",
            "37/37 [==============================] - 1s 18ms/step - loss: 0.7134 - accuracy: 0.7393 - val_loss: 0.6860 - val_accuracy: 0.7782\n",
            "Epoch 3/70\n",
            "37/37 [==============================] - 1s 19ms/step - loss: 0.6745 - accuracy: 0.7840 - val_loss: 0.6080 - val_accuracy: 0.8284\n",
            "Epoch 4/70\n",
            "37/37 [==============================] - 1s 19ms/step - loss: 0.6696 - accuracy: 0.7949 - val_loss: 0.6246 - val_accuracy: 0.8246\n",
            "Epoch 5/70\n",
            "37/37 [==============================] - 1s 19ms/step - loss: 0.6575 - accuracy: 0.8002 - val_loss: 0.7301 - val_accuracy: 0.7564\n",
            "Epoch 6/70\n",
            "37/37 [==============================] - 1s 25ms/step - loss: 0.6441 - accuracy: 0.8199 - val_loss: 0.6683 - val_accuracy: 0.7910\n",
            "Epoch 7/70\n",
            "37/37 [==============================] - 1s 18ms/step - loss: 0.6516 - accuracy: 0.8066 - val_loss: 0.6188 - val_accuracy: 0.8244\n",
            "Epoch 8/70\n",
            "37/37 [==============================] - 1s 18ms/step - loss: 0.6564 - accuracy: 0.8035 - val_loss: 0.6084 - val_accuracy: 0.8434\n",
            "Epoch 9/70\n",
            "37/37 [==============================] - 1s 18ms/step - loss: 0.6330 - accuracy: 0.8261 - val_loss: 0.5709 - val_accuracy: 0.8622\n",
            "Epoch 10/70\n",
            "37/37 [==============================] - 1s 18ms/step - loss: 0.6468 - accuracy: 0.8127 - val_loss: 0.5874 - val_accuracy: 0.8468\n",
            "Epoch 11/70\n",
            "37/37 [==============================] - 1s 18ms/step - loss: 0.6449 - accuracy: 0.8120 - val_loss: 0.5972 - val_accuracy: 0.8474\n",
            "Epoch 12/70\n",
            "37/37 [==============================] - 1s 18ms/step - loss: 0.6364 - accuracy: 0.8202 - val_loss: 0.6320 - val_accuracy: 0.8154\n",
            "Epoch 13/70\n",
            "37/37 [==============================] - 1s 18ms/step - loss: 0.6562 - accuracy: 0.8070 - val_loss: 0.9130 - val_accuracy: 0.6590\n",
            "Epoch 14/70\n",
            "37/37 [==============================] - 1s 18ms/step - loss: 0.6829 - accuracy: 0.7922 - val_loss: 0.6284 - val_accuracy: 0.8366\n",
            "Epoch 15/70\n",
            "37/37 [==============================] - 1s 18ms/step - loss: 0.6349 - accuracy: 0.8246 - val_loss: 0.6215 - val_accuracy: 0.8332\n",
            "Epoch 16/70\n",
            "37/37 [==============================] - 1s 18ms/step - loss: 0.6351 - accuracy: 0.8205 - val_loss: 0.6231 - val_accuracy: 0.8174\n",
            "Epoch 17/70\n",
            "37/37 [==============================] - 1s 18ms/step - loss: 0.6548 - accuracy: 0.8080 - val_loss: 0.6500 - val_accuracy: 0.8054\n",
            "Epoch 18/70\n",
            "37/37 [==============================] - 1s 18ms/step - loss: 0.6520 - accuracy: 0.8096 - val_loss: 0.6670 - val_accuracy: 0.7986\n",
            "Epoch 19/70\n",
            "37/37 [==============================] - 1s 18ms/step - loss: 0.6280 - accuracy: 0.8220 - val_loss: 0.7098 - val_accuracy: 0.7660\n",
            "Epoch 20/70\n",
            "37/37 [==============================] - 1s 18ms/step - loss: 0.6485 - accuracy: 0.8091 - val_loss: 0.6786 - val_accuracy: 0.7898\n",
            "Epoch 21/70\n",
            "37/37 [==============================] - 1s 18ms/step - loss: 0.6206 - accuracy: 0.8306 - val_loss: 0.7358 - val_accuracy: 0.7518\n",
            "Epoch 22/70\n",
            "37/37 [==============================] - 1s 17ms/step - loss: 0.6235 - accuracy: 0.8275 - val_loss: 0.6625 - val_accuracy: 0.7994\n",
            "Epoch 23/70\n",
            "37/37 [==============================] - 1s 18ms/step - loss: 0.6181 - accuracy: 0.8297 - val_loss: 0.5905 - val_accuracy: 0.8468\n",
            "Epoch 24/70\n",
            "37/37 [==============================] - 1s 18ms/step - loss: 0.6052 - accuracy: 0.8351 - val_loss: 0.6415 - val_accuracy: 0.8070\n",
            "Epoch 25/70\n",
            "37/37 [==============================] - 1s 19ms/step - loss: 0.6233 - accuracy: 0.8215 - val_loss: 0.6601 - val_accuracy: 0.8018\n",
            "Epoch 26/70\n",
            "37/37 [==============================] - 1s 18ms/step - loss: 0.6072 - accuracy: 0.8343 - val_loss: 0.5893 - val_accuracy: 0.8448\n",
            "Epoch 27/70\n",
            "37/37 [==============================] - 1s 18ms/step - loss: 0.5959 - accuracy: 0.8447 - val_loss: 0.6426 - val_accuracy: 0.8064\n",
            "Epoch 28/70\n",
            "37/37 [==============================] - 1s 18ms/step - loss: 0.6135 - accuracy: 0.8286 - val_loss: 0.5962 - val_accuracy: 0.8412\n",
            "Epoch 29/70\n",
            "37/37 [==============================] - 1s 18ms/step - loss: 0.5931 - accuracy: 0.8403 - val_loss: 0.6001 - val_accuracy: 0.8390\n",
            "Epoch 30/70\n",
            "37/37 [==============================] - 1s 18ms/step - loss: 0.6058 - accuracy: 0.8342 - val_loss: 0.6229 - val_accuracy: 0.8170\n",
            "Epoch 31/70\n",
            "37/37 [==============================] - 1s 18ms/step - loss: 0.6065 - accuracy: 0.8333 - val_loss: 0.5929 - val_accuracy: 0.8412\n",
            "Epoch 32/70\n",
            "37/37 [==============================] - 1s 18ms/step - loss: 0.6004 - accuracy: 0.8369 - val_loss: 0.5802 - val_accuracy: 0.8464\n",
            "Epoch 33/70\n",
            "37/37 [==============================] - 1s 19ms/step - loss: 0.5877 - accuracy: 0.8447 - val_loss: 0.5919 - val_accuracy: 0.8406\n",
            "Epoch 34/70\n",
            "37/37 [==============================] - 1s 18ms/step - loss: 0.5941 - accuracy: 0.8390 - val_loss: 0.6355 - val_accuracy: 0.8104\n",
            "Epoch 35/70\n",
            "37/37 [==============================] - 1s 18ms/step - loss: 0.5916 - accuracy: 0.8449 - val_loss: 0.7331 - val_accuracy: 0.7628\n",
            "Epoch 36/70\n",
            "37/37 [==============================] - 1s 18ms/step - loss: 0.6054 - accuracy: 0.8309 - val_loss: 0.6257 - val_accuracy: 0.8136\n",
            "Epoch 37/70\n",
            "37/37 [==============================] - 1s 18ms/step - loss: 0.6038 - accuracy: 0.8338 - val_loss: 0.5862 - val_accuracy: 0.8480\n",
            "Epoch 38/70\n",
            "37/37 [==============================] - 1s 18ms/step - loss: 0.5802 - accuracy: 0.8505 - val_loss: 0.6160 - val_accuracy: 0.8272\n",
            "Epoch 39/70\n",
            "37/37 [==============================] - 1s 18ms/step - loss: 0.5840 - accuracy: 0.8482 - val_loss: 0.6162 - val_accuracy: 0.8240\n",
            "Epoch 40/70\n",
            "37/37 [==============================] - 1s 18ms/step - loss: 0.5994 - accuracy: 0.8362 - val_loss: 0.6374 - val_accuracy: 0.8094\n",
            "Epoch 41/70\n",
            "37/37 [==============================] - 1s 18ms/step - loss: 0.5839 - accuracy: 0.8467 - val_loss: 0.6189 - val_accuracy: 0.8188\n",
            "Epoch 42/70\n",
            "37/37 [==============================] - 1s 18ms/step - loss: 0.6003 - accuracy: 0.8332 - val_loss: 0.6168 - val_accuracy: 0.8248\n",
            "Epoch 43/70\n",
            "37/37 [==============================] - 1s 18ms/step - loss: 0.5970 - accuracy: 0.8379 - val_loss: 0.5689 - val_accuracy: 0.8538\n",
            "Epoch 44/70\n",
            "37/37 [==============================] - 1s 18ms/step - loss: 0.6003 - accuracy: 0.8341 - val_loss: 0.5672 - val_accuracy: 0.8566\n",
            "Epoch 45/70\n",
            "37/37 [==============================] - 1s 18ms/step - loss: 0.6035 - accuracy: 0.8346 - val_loss: 0.5931 - val_accuracy: 0.8414\n",
            "Epoch 46/70\n",
            "37/37 [==============================] - 1s 19ms/step - loss: 0.5912 - accuracy: 0.8445 - val_loss: 0.5909 - val_accuracy: 0.8398\n",
            "Epoch 47/70\n",
            "37/37 [==============================] - 1s 18ms/step - loss: 0.5959 - accuracy: 0.8381 - val_loss: 0.6004 - val_accuracy: 0.8314\n",
            "Epoch 48/70\n",
            "37/37 [==============================] - 1s 19ms/step - loss: 0.5938 - accuracy: 0.8404 - val_loss: 0.6715 - val_accuracy: 0.7948\n",
            "Epoch 49/70\n",
            "37/37 [==============================] - 1s 19ms/step - loss: 0.5933 - accuracy: 0.8385 - val_loss: 0.6262 - val_accuracy: 0.8124\n",
            "Epoch 50/70\n",
            "37/37 [==============================] - 1s 19ms/step - loss: 0.5884 - accuracy: 0.8409 - val_loss: 0.7067 - val_accuracy: 0.7704\n",
            "Epoch 51/70\n",
            "37/37 [==============================] - 1s 18ms/step - loss: 0.6180 - accuracy: 0.8219 - val_loss: 0.5857 - val_accuracy: 0.8442\n",
            "Epoch 52/70\n",
            "37/37 [==============================] - 1s 19ms/step - loss: 0.5795 - accuracy: 0.8496 - val_loss: 0.5931 - val_accuracy: 0.8418\n",
            "Epoch 53/70\n",
            "37/37 [==============================] - 1s 23ms/step - loss: 0.5907 - accuracy: 0.8383 - val_loss: 0.6249 - val_accuracy: 0.8118\n",
            "Epoch 54/70\n",
            "37/37 [==============================] - 1s 19ms/step - loss: 0.5863 - accuracy: 0.8467 - val_loss: 0.6254 - val_accuracy: 0.8154\n",
            "Epoch 55/70\n",
            "37/37 [==============================] - 1s 24ms/step - loss: 0.5929 - accuracy: 0.8382 - val_loss: 0.6546 - val_accuracy: 0.8000\n",
            "Epoch 56/70\n",
            "37/37 [==============================] - 1s 19ms/step - loss: 0.5931 - accuracy: 0.8388 - val_loss: 0.6594 - val_accuracy: 0.7984\n",
            "Epoch 57/70\n",
            "37/37 [==============================] - 1s 19ms/step - loss: 0.6005 - accuracy: 0.8355 - val_loss: 0.6184 - val_accuracy: 0.8146\n",
            "Epoch 58/70\n",
            "37/37 [==============================] - 1s 18ms/step - loss: 0.6087 - accuracy: 0.8276 - val_loss: 0.6424 - val_accuracy: 0.8084\n",
            "Epoch 59/70\n",
            "37/37 [==============================] - 1s 18ms/step - loss: 0.6059 - accuracy: 0.8299 - val_loss: 0.6264 - val_accuracy: 0.8156\n",
            "Epoch 60/70\n",
            "37/37 [==============================] - 1s 19ms/step - loss: 0.5919 - accuracy: 0.8391 - val_loss: 0.5933 - val_accuracy: 0.8352\n",
            "Epoch 61/70\n",
            "37/37 [==============================] - 1s 19ms/step - loss: 0.5912 - accuracy: 0.8384 - val_loss: 0.6505 - val_accuracy: 0.7946\n",
            "Epoch 62/70\n",
            "37/37 [==============================] - 1s 19ms/step - loss: 0.5871 - accuracy: 0.8460 - val_loss: 0.6473 - val_accuracy: 0.8074\n",
            "Epoch 63/70\n",
            "37/37 [==============================] - 1s 18ms/step - loss: 0.5922 - accuracy: 0.8372 - val_loss: 0.6520 - val_accuracy: 0.7960\n",
            "Epoch 64/70\n",
            "37/37 [==============================] - 1s 19ms/step - loss: 0.5997 - accuracy: 0.8312 - val_loss: 0.5915 - val_accuracy: 0.8384\n",
            "Epoch 65/70\n",
            "37/37 [==============================] - 1s 19ms/step - loss: 0.5898 - accuracy: 0.8428 - val_loss: 0.5959 - val_accuracy: 0.8362\n",
            "Epoch 66/70\n",
            "37/37 [==============================] - 1s 19ms/step - loss: 0.5927 - accuracy: 0.8401 - val_loss: 0.6602 - val_accuracy: 0.7994\n",
            "Epoch 67/70\n",
            "37/37 [==============================] - 1s 18ms/step - loss: 0.6051 - accuracy: 0.8285 - val_loss: 0.5682 - val_accuracy: 0.8568\n",
            "Epoch 68/70\n",
            "37/37 [==============================] - 1s 19ms/step - loss: 0.5830 - accuracy: 0.8470 - val_loss: 0.6202 - val_accuracy: 0.8204\n",
            "Epoch 69/70\n",
            "37/37 [==============================] - 1s 19ms/step - loss: 0.5912 - accuracy: 0.8400 - val_loss: 0.5835 - val_accuracy: 0.8398\n",
            "Epoch 70/70\n",
            "37/37 [==============================] - 1s 19ms/step - loss: 0.5931 - accuracy: 0.8377 - val_loss: 0.5702 - val_accuracy: 0.8560\n"
          ],
          "name": "stdout"
        }
      ]
    },
    {
      "cell_type": "markdown",
      "metadata": {
        "id": "0cJPyqSk4UZq"
      },
      "source": [
        "Błąd treningowy i walidacyjny:"
      ]
    },
    {
      "cell_type": "code",
      "metadata": {
        "colab": {
          "base_uri": "https://localhost:8080/",
          "height": 295
        },
        "id": "RSodh3Q84UZr",
        "outputId": "33909b0a-7e5a-443b-d774-7455cc41c8ae"
      },
      "source": [
        "import matplotlib.pyplot as plt\n",
        "history_dict = history.history\n",
        "loss_values = history_dict['loss']\n",
        "val_loss_values = history_dict['val_loss']\n",
        "epochs = range(1, len(loss_values) + 1)\n",
        "plt.plot(epochs, loss_values, 'bo', label='Training loss')\n",
        "plt.plot(epochs, val_loss_values, 'b', label='Validation loss')\n",
        "plt.title('Training and validation loss')\n",
        "plt.xlabel('Epochs')\n",
        "plt.ylabel('Loss')\n",
        "plt.legend()\n",
        "plt.show()"
      ],
      "execution_count": null,
      "outputs": [
        {
          "output_type": "display_data",
          "data": {
            "image/png": "[encoded data removed]",
            "text/plain": [
              "<Figure size 432x288 with 1 Axes>"
            ]
          },
          "metadata": {
            "tags": [],
            "needs_background": "light"
          }
        }
      ]
    },
    {
      "cell_type": "markdown",
      "metadata": {
        "id": "4Zts_Vam6y0T"
      },
      "source": [
        "# **Regularyzacja** - metoda 4"
      ]
    },
    {
      "cell_type": "markdown",
      "metadata": {
        "id": "ZsLsisTQ6y0W"
      },
      "source": [
        "Import **warstwy Dropout**:"
      ]
    },
    {
      "cell_type": "code",
      "metadata": {
        "id": "2iTDyFWA6y0X"
      },
      "source": [
        "from keras.layers import Dropout"
      ],
      "execution_count": null,
      "outputs": []
    },
    {
      "cell_type": "markdown",
      "metadata": {
        "id": "ovOYgkuQ6y0X"
      },
      "source": [
        "Danie warstw **Dropout**:"
      ]
    },
    {
      "cell_type": "code",
      "metadata": {
        "id": "Z6a6WrcF6y0Y"
      },
      "source": [
        "model = models.Sequential()\n",
        "model.add(layers.Dense(32, activation='relu', input_shape=(10000,)))\n",
        "model.add(Dropout(0.4))\n",
        "model.add(layers.Dense(32, activation='relu'))\n",
        "model.add(Dropout(0.4))\n",
        "model.add(layers.Dense(1, activation='sigmoid'))\n",
        "\n",
        "opt=keras.optimizers.RMSprop(lr = _learningRate)\n",
        "model.compile(optimizer=opt,loss='binary_crossentropy',metrics=['accuracy'])"
      ],
      "execution_count": null,
      "outputs": []
    },
    {
      "cell_type": "markdown",
      "metadata": {
        "id": "2QSb77x16y0Y"
      },
      "source": [
        "Pętla ucząca:"
      ]
    },
    {
      "cell_type": "code",
      "metadata": {
        "colab": {
          "base_uri": "https://localhost:8080/"
        },
        "id": "LtWmIrzr6y0Y",
        "outputId": "230f7fd7-543f-4702-8d32-1b2280c43dd8"
      },
      "source": [
        "history = model.fit(x_train,y_train, epochs = _epochs, batch_size = _batchSize, validation_data=(x_val, y_val))"
      ],
      "execution_count": null,
      "outputs": [
        {
          "output_type": "stream",
          "text": [
            "Epoch 1/70\n",
            "37/37 [==============================] - 1s 23ms/step - loss: 0.6746 - accuracy: 0.6387 - val_loss: 0.3633 - val_accuracy: 0.8482\n",
            "Epoch 2/70\n",
            "37/37 [==============================] - 1s 19ms/step - loss: 0.3487 - accuracy: 0.8588 - val_loss: 0.3002 - val_accuracy: 0.8792\n",
            "Epoch 3/70\n",
            "37/37 [==============================] - 1s 18ms/step - loss: 0.2605 - accuracy: 0.8977 - val_loss: 0.3365 - val_accuracy: 0.8622\n",
            "Epoch 4/70\n",
            "37/37 [==============================] - 1s 19ms/step - loss: 0.2586 - accuracy: 0.9055 - val_loss: 0.3376 - val_accuracy: 0.8642\n",
            "Epoch 5/70\n",
            "37/37 [==============================] - 1s 19ms/step - loss: 0.1798 - accuracy: 0.9306 - val_loss: 0.3385 - val_accuracy: 0.8796\n",
            "Epoch 6/70\n",
            "37/37 [==============================] - 1s 19ms/step - loss: 0.1398 - accuracy: 0.9460 - val_loss: 0.3981 - val_accuracy: 0.8652\n",
            "Epoch 7/70\n",
            "37/37 [==============================] - 1s 19ms/step - loss: 0.1214 - accuracy: 0.9547 - val_loss: 0.6045 - val_accuracy: 0.8358\n",
            "Epoch 8/70\n",
            "37/37 [==============================] - 1s 20ms/step - loss: 0.1156 - accuracy: 0.9570 - val_loss: 0.4616 - val_accuracy: 0.8748\n",
            "Epoch 9/70\n",
            "37/37 [==============================] - 1s 19ms/step - loss: 0.0958 - accuracy: 0.9625 - val_loss: 0.5197 - val_accuracy: 0.8764\n",
            "Epoch 10/70\n",
            "37/37 [==============================] - 1s 19ms/step - loss: 0.0809 - accuracy: 0.9681 - val_loss: 0.5884 - val_accuracy: 0.8692\n",
            "Epoch 11/70\n",
            "37/37 [==============================] - 1s 19ms/step - loss: 0.0854 - accuracy: 0.9640 - val_loss: 0.6845 - val_accuracy: 0.8718\n",
            "Epoch 12/70\n",
            "37/37 [==============================] - 1s 19ms/step - loss: 0.0799 - accuracy: 0.9677 - val_loss: 0.6981 - val_accuracy: 0.8718\n",
            "Epoch 13/70\n",
            "37/37 [==============================] - 1s 19ms/step - loss: 0.0719 - accuracy: 0.9709 - val_loss: 0.6985 - val_accuracy: 0.8742\n",
            "Epoch 14/70\n",
            "37/37 [==============================] - 1s 19ms/step - loss: 0.0695 - accuracy: 0.9697 - val_loss: 0.6417 - val_accuracy: 0.8676\n",
            "Epoch 15/70\n",
            "37/37 [==============================] - 1s 19ms/step - loss: 0.0710 - accuracy: 0.9704 - val_loss: 0.6775 - val_accuracy: 0.8712\n",
            "Epoch 16/70\n",
            "37/37 [==============================] - 1s 19ms/step - loss: 0.0694 - accuracy: 0.9703 - val_loss: 0.7303 - val_accuracy: 0.8692\n",
            "Epoch 17/70\n",
            "37/37 [==============================] - 1s 19ms/step - loss: 0.0659 - accuracy: 0.9721 - val_loss: 0.7904 - val_accuracy: 0.8696\n",
            "Epoch 18/70\n",
            "37/37 [==============================] - 1s 20ms/step - loss: 0.0758 - accuracy: 0.9709 - val_loss: 0.8040 - val_accuracy: 0.8726\n",
            "Epoch 19/70\n",
            "37/37 [==============================] - 1s 19ms/step - loss: 0.0648 - accuracy: 0.9744 - val_loss: 0.7877 - val_accuracy: 0.8654\n",
            "Epoch 20/70\n",
            "37/37 [==============================] - 1s 19ms/step - loss: 0.0590 - accuracy: 0.9737 - val_loss: 0.9273 - val_accuracy: 0.8664\n",
            "Epoch 21/70\n",
            "37/37 [==============================] - 1s 19ms/step - loss: 0.0620 - accuracy: 0.9743 - val_loss: 0.8251 - val_accuracy: 0.8670\n",
            "Epoch 22/70\n",
            "37/37 [==============================] - 1s 19ms/step - loss: 0.0565 - accuracy: 0.9764 - val_loss: 0.9118 - val_accuracy: 0.8648\n",
            "Epoch 23/70\n",
            "37/37 [==============================] - 1s 19ms/step - loss: 0.0584 - accuracy: 0.9738 - val_loss: 0.9143 - val_accuracy: 0.8664\n",
            "Epoch 24/70\n",
            "37/37 [==============================] - 1s 19ms/step - loss: 0.0526 - accuracy: 0.9768 - val_loss: 0.9760 - val_accuracy: 0.8594\n",
            "Epoch 25/70\n",
            "37/37 [==============================] - 1s 19ms/step - loss: 0.0530 - accuracy: 0.9769 - val_loss: 0.9557 - val_accuracy: 0.8648\n",
            "Epoch 26/70\n",
            "37/37 [==============================] - 1s 19ms/step - loss: 0.0577 - accuracy: 0.9744 - val_loss: 0.9668 - val_accuracy: 0.8484\n",
            "Epoch 27/70\n",
            "37/37 [==============================] - 1s 20ms/step - loss: 0.0568 - accuracy: 0.9754 - val_loss: 0.9110 - val_accuracy: 0.8656\n",
            "Epoch 28/70\n",
            "37/37 [==============================] - 1s 19ms/step - loss: 0.0548 - accuracy: 0.9776 - val_loss: 0.9745 - val_accuracy: 0.8600\n",
            "Epoch 29/70\n",
            "37/37 [==============================] - 1s 19ms/step - loss: 0.0534 - accuracy: 0.9783 - val_loss: 0.9331 - val_accuracy: 0.8612\n",
            "Epoch 30/70\n",
            "37/37 [==============================] - 1s 19ms/step - loss: 0.0603 - accuracy: 0.9755 - val_loss: 0.9049 - val_accuracy: 0.8640\n",
            "Epoch 31/70\n",
            "37/37 [==============================] - 1s 20ms/step - loss: 0.0500 - accuracy: 0.9789 - val_loss: 0.8973 - val_accuracy: 0.8602\n",
            "Epoch 32/70\n",
            "37/37 [==============================] - 1s 19ms/step - loss: 0.0585 - accuracy: 0.9792 - val_loss: 0.9226 - val_accuracy: 0.8580\n",
            "Epoch 33/70\n",
            "37/37 [==============================] - 1s 20ms/step - loss: 0.0537 - accuracy: 0.9756 - val_loss: 1.0754 - val_accuracy: 0.8620\n",
            "Epoch 34/70\n",
            "37/37 [==============================] - 1s 19ms/step - loss: 0.0539 - accuracy: 0.9782 - val_loss: 0.9398 - val_accuracy: 0.8528\n",
            "Epoch 35/70\n",
            "37/37 [==============================] - 1s 20ms/step - loss: 0.0512 - accuracy: 0.9776 - val_loss: 0.9763 - val_accuracy: 0.8628\n",
            "Epoch 36/70\n",
            "37/37 [==============================] - 1s 26ms/step - loss: 0.0514 - accuracy: 0.9766 - val_loss: 1.1461 - val_accuracy: 0.8592\n",
            "Epoch 37/70\n",
            "37/37 [==============================] - 1s 19ms/step - loss: 0.0563 - accuracy: 0.9779 - val_loss: 0.9290 - val_accuracy: 0.8570\n",
            "Epoch 38/70\n",
            "37/37 [==============================] - 1s 19ms/step - loss: 0.0509 - accuracy: 0.9791 - val_loss: 1.0862 - val_accuracy: 0.8650\n",
            "Epoch 39/70\n",
            "37/37 [==============================] - 1s 20ms/step - loss: 0.0517 - accuracy: 0.9781 - val_loss: 1.1979 - val_accuracy: 0.8582\n",
            "Epoch 40/70\n",
            "37/37 [==============================] - 1s 18ms/step - loss: 0.0508 - accuracy: 0.9792 - val_loss: 0.9617 - val_accuracy: 0.8630\n",
            "Epoch 41/70\n",
            "37/37 [==============================] - 1s 19ms/step - loss: 0.0506 - accuracy: 0.9788 - val_loss: 1.1170 - val_accuracy: 0.8574\n",
            "Epoch 42/70\n",
            "37/37 [==============================] - 1s 19ms/step - loss: 0.0546 - accuracy: 0.9762 - val_loss: 1.1973 - val_accuracy: 0.8628\n",
            "Epoch 43/70\n",
            "37/37 [==============================] - 1s 19ms/step - loss: 0.0520 - accuracy: 0.9773 - val_loss: 0.9159 - val_accuracy: 0.8546\n",
            "Epoch 44/70\n",
            "37/37 [==============================] - 1s 19ms/step - loss: 0.0498 - accuracy: 0.9791 - val_loss: 1.1266 - val_accuracy: 0.8578\n",
            "Epoch 45/70\n",
            "37/37 [==============================] - 1s 19ms/step - loss: 0.0523 - accuracy: 0.9780 - val_loss: 1.0318 - val_accuracy: 0.8580\n",
            "Epoch 46/70\n",
            "37/37 [==============================] - 1s 20ms/step - loss: 0.0511 - accuracy: 0.9776 - val_loss: 1.0743 - val_accuracy: 0.8566\n",
            "Epoch 47/70\n",
            "37/37 [==============================] - 1s 18ms/step - loss: 0.0472 - accuracy: 0.9796 - val_loss: 1.1817 - val_accuracy: 0.8570\n",
            "Epoch 48/70\n",
            "37/37 [==============================] - 1s 19ms/step - loss: 0.0491 - accuracy: 0.9794 - val_loss: 1.2821 - val_accuracy: 0.8580\n",
            "Epoch 49/70\n",
            "37/37 [==============================] - 1s 19ms/step - loss: 0.0568 - accuracy: 0.9804 - val_loss: 1.1586 - val_accuracy: 0.8572\n",
            "Epoch 50/70\n",
            "37/37 [==============================] - 1s 19ms/step - loss: 0.0518 - accuracy: 0.9775 - val_loss: 1.0855 - val_accuracy: 0.8536\n",
            "Epoch 51/70\n",
            "37/37 [==============================] - 1s 19ms/step - loss: 0.0408 - accuracy: 0.9809 - val_loss: 1.2127 - val_accuracy: 0.8582\n",
            "Epoch 52/70\n",
            "37/37 [==============================] - 1s 18ms/step - loss: 0.0486 - accuracy: 0.9794 - val_loss: 1.0027 - val_accuracy: 0.8550\n",
            "Epoch 53/70\n",
            "37/37 [==============================] - 1s 19ms/step - loss: 0.0498 - accuracy: 0.9782 - val_loss: 0.9916 - val_accuracy: 0.8546\n",
            "Epoch 54/70\n",
            "37/37 [==============================] - 1s 19ms/step - loss: 0.0451 - accuracy: 0.9786 - val_loss: 1.0548 - val_accuracy: 0.8524\n",
            "Epoch 55/70\n",
            "37/37 [==============================] - 1s 19ms/step - loss: 0.0497 - accuracy: 0.9777 - val_loss: 1.1676 - val_accuracy: 0.8558\n",
            "Epoch 56/70\n",
            "37/37 [==============================] - 1s 19ms/step - loss: 0.0486 - accuracy: 0.9796 - val_loss: 1.1740 - val_accuracy: 0.8568\n",
            "Epoch 57/70\n",
            "37/37 [==============================] - 1s 19ms/step - loss: 0.0516 - accuracy: 0.9811 - val_loss: 1.1122 - val_accuracy: 0.8522\n",
            "Epoch 58/70\n",
            "37/37 [==============================] - 1s 19ms/step - loss: 0.0425 - accuracy: 0.9799 - val_loss: 1.0712 - val_accuracy: 0.8522\n",
            "Epoch 59/70\n",
            "37/37 [==============================] - 1s 18ms/step - loss: 0.0486 - accuracy: 0.9797 - val_loss: 1.3321 - val_accuracy: 0.8552\n",
            "Epoch 60/70\n",
            "37/37 [==============================] - 1s 19ms/step - loss: 0.0658 - accuracy: 0.9791 - val_loss: 1.0484 - val_accuracy: 0.8538\n",
            "Epoch 61/70\n",
            "37/37 [==============================] - 1s 18ms/step - loss: 0.0513 - accuracy: 0.9784 - val_loss: 1.1730 - val_accuracy: 0.8526\n",
            "Epoch 62/70\n",
            "37/37 [==============================] - 1s 18ms/step - loss: 0.0466 - accuracy: 0.9798 - val_loss: 1.2917 - val_accuracy: 0.8550\n",
            "Epoch 63/70\n",
            "37/37 [==============================] - 1s 19ms/step - loss: 0.0532 - accuracy: 0.9783 - val_loss: 1.1948 - val_accuracy: 0.8522\n",
            "Epoch 64/70\n",
            "37/37 [==============================] - 1s 19ms/step - loss: 0.0454 - accuracy: 0.9789 - val_loss: 1.3214 - val_accuracy: 0.8528\n",
            "Epoch 65/70\n",
            "37/37 [==============================] - 1s 19ms/step - loss: 0.0479 - accuracy: 0.9792 - val_loss: 1.3508 - val_accuracy: 0.8526\n",
            "Epoch 66/70\n",
            "37/37 [==============================] - 1s 18ms/step - loss: 0.0497 - accuracy: 0.9794 - val_loss: 1.2526 - val_accuracy: 0.8478\n",
            "Epoch 67/70\n",
            "37/37 [==============================] - 1s 18ms/step - loss: 0.0485 - accuracy: 0.9791 - val_loss: 1.3804 - val_accuracy: 0.8548\n",
            "Epoch 68/70\n",
            "37/37 [==============================] - 1s 19ms/step - loss: 0.0492 - accuracy: 0.9775 - val_loss: 1.2622 - val_accuracy: 0.8522\n",
            "Epoch 69/70\n",
            "37/37 [==============================] - 1s 18ms/step - loss: 0.0479 - accuracy: 0.9791 - val_loss: 1.1591 - val_accuracy: 0.8480\n",
            "Epoch 70/70\n",
            "37/37 [==============================] - 1s 18ms/step - loss: 0.0515 - accuracy: 0.9773 - val_loss: 1.2004 - val_accuracy: 0.8526\n"
          ],
          "name": "stdout"
        }
      ]
    },
    {
      "cell_type": "markdown",
      "metadata": {
        "id": "aJwThKLV6y0Z"
      },
      "source": [
        "Błąd treningowy i walidacyjny:"
      ]
    },
    {
      "cell_type": "code",
      "metadata": {
        "colab": {
          "base_uri": "https://localhost:8080/",
          "height": 295
        },
        "id": "j6yfhyp06y0Z",
        "outputId": "4e9f7d54-f7dc-458d-ab3c-e01d8d5035ff"
      },
      "source": [
        "import matplotlib.pyplot as plt\n",
        "history_dict = history.history\n",
        "loss_values = history_dict['loss']\n",
        "val_loss_values = history_dict['val_loss']\n",
        "epochs = range(1, len(loss_values) + 1)\n",
        "plt.plot(epochs, loss_values, 'bo', label='Training loss')\n",
        "plt.plot(epochs, val_loss_values, 'b', label='Validation loss')\n",
        "plt.title('Training and validation loss')\n",
        "plt.xlabel('Epochs')\n",
        "plt.ylabel('Loss')\n",
        "plt.legend()\n",
        "plt.show()"
      ],
      "execution_count": null,
      "outputs": [
        {
          "output_type": "display_data",
          "data": {
            "image/png": "[encoded data removed]",
            "text/plain": [
              "<Figure size 432x288 with 1 Axes>"
            ]
          },
          "metadata": {
            "tags": [],
            "needs_background": "light"
          }
        }
      ]
    }
  ]
}