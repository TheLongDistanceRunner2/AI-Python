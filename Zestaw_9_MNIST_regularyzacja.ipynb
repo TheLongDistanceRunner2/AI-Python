{
  "nbformat": 4,
  "nbformat_minor": 0,
  "metadata": {
    "colab": {
      "name": "SystemyAI_lab_9_MNIST_regularyzacja.ipynb",
      "provenance": [],
      "collapsed_sections": []
    },
    "kernelspec": {
      "name": "python3",
      "display_name": "Python 3"
    },
    "accelerator": "GPU"
  },
  "cells": [
    {
      "cell_type": "markdown",
      "metadata": {
        "id": "9gT7d462Dw06"
      },
      "source": [
        "Import biblioteki **TensorFlow** ([https://www.tensorflow.org/](https://www.tensorflow.org/)) z której będziemy korzystali w **uczeniu maszynowym**:"
      ]
    },
    {
      "cell_type": "code",
      "metadata": {
        "id": "6_Ec9f9O1DIv"
      },
      "source": [
        "import tensorflow as tf\n",
        "import matplotlib.pyplot as plt \n",
        "import numpy as np"
      ],
      "execution_count": null,
      "outputs": []
    },
    {
      "cell_type": "code",
      "metadata": {
        "id": "B3q9cQ4eWOAr"
      },
      "source": [
        "import keras\n",
        "from keras.models import Sequential\n",
        "from keras.layers import Dense"
      ],
      "execution_count": null,
      "outputs": []
    },
    {
      "cell_type": "markdown",
      "metadata": {
        "id": "5q_Wlc_WxolT"
      },
      "source": [
        "**deklaracja hiperparametrów:**"
      ]
    },
    {
      "cell_type": "code",
      "metadata": {
        "id": "YaylxCidtqZG"
      },
      "source": [
        "_learningRate = 0.001\n",
        "_epochs = 50\n",
        "_batchSize = 621"
      ],
      "execution_count": null,
      "outputs": []
    },
    {
      "cell_type": "markdown",
      "metadata": {
        "id": "iHaZfqU_DWW7"
      },
      "source": [
        "##Rozpoznawanie cyfr - zbiór **MNIST**"
      ]
    },
    {
      "cell_type": "markdown",
      "metadata": {
        "id": "8OgRU4heNhSu"
      },
      "source": [
        "Pobranie danych"
      ]
    },
    {
      "cell_type": "code",
      "metadata": {
        "id": "_JReAGs2G9OF"
      },
      "source": [
        "(train_data, train_labels), (test_data, test_labels) = tf.keras.datasets.mnist.load_data()"
      ],
      "execution_count": null,
      "outputs": []
    },
    {
      "cell_type": "markdown",
      "metadata": {
        "id": "Pay8Mm1XNwtF"
      },
      "source": [
        "Wybrane informacje o zbiorze"
      ]
    },
    {
      "cell_type": "code",
      "metadata": {
        "id": "P_8jyKT6q3kB",
        "colab": {
          "base_uri": "https://localhost:8080/"
        },
        "outputId": "19c6e90f-1159-4933-fd91-c18364a873e7"
      },
      "source": [
        "train_data.shape,train_labels.shape"
      ],
      "execution_count": null,
      "outputs": [
        {
          "output_type": "execute_result",
          "data": {
            "text/plain": [
              "((60000, 28, 28), (60000,))"
            ]
          },
          "metadata": {
            "tags": []
          },
          "execution_count": 5
        }
      ]
    },
    {
      "cell_type": "code",
      "metadata": {
        "id": "5MZ1G7XjsmHw",
        "colab": {
          "base_uri": "https://localhost:8080/"
        },
        "outputId": "bfea2df3-b265-4314-ad22-1d8d05c5a447"
      },
      "source": [
        "test_data.shape,test_labels.shape"
      ],
      "execution_count": null,
      "outputs": [
        {
          "output_type": "execute_result",
          "data": {
            "text/plain": [
              "((10000, 28, 28), (10000,))"
            ]
          },
          "metadata": {
            "tags": []
          },
          "execution_count": 6
        }
      ]
    },
    {
      "cell_type": "markdown",
      "metadata": {
        "id": "enz2fm0HoDHg"
      },
      "source": [
        "**Wielkości zbiorów treningowych i testowych ustalamy na 10000:**"
      ]
    },
    {
      "cell_type": "code",
      "metadata": {
        "id": "djYdb0msl_EY"
      },
      "source": [
        "train_data = train_data[:1000]\n",
        "train_labels = train_labels[:1000]\n",
        "test_data = test_data[:1000]\n",
        "test_labels = test_labels[:1000]"
      ],
      "execution_count": null,
      "outputs": []
    },
    {
      "cell_type": "code",
      "metadata": {
        "colab": {
          "base_uri": "https://localhost:8080/"
        },
        "id": "p_HsbBL_AkS3",
        "outputId": "18d814eb-cb9f-46de-a615-f0317ce5fc3a"
      },
      "source": [
        "train_data.shape,train_labels.shape"
      ],
      "execution_count": null,
      "outputs": [
        {
          "output_type": "execute_result",
          "data": {
            "text/plain": [
              "((1000, 28, 28), (1000,))"
            ]
          },
          "metadata": {
            "tags": []
          },
          "execution_count": 8
        }
      ]
    },
    {
      "cell_type": "code",
      "metadata": {
        "colab": {
          "base_uri": "https://localhost:8080/"
        },
        "id": "blGOGjRUAnMp",
        "outputId": "516b1ec9-4479-45e7-cbfd-6713e5b1f81b"
      },
      "source": [
        "test_data.shape,test_labels.shape"
      ],
      "execution_count": null,
      "outputs": [
        {
          "output_type": "execute_result",
          "data": {
            "text/plain": [
              "((1000, 28, 28), (1000,))"
            ]
          },
          "metadata": {
            "tags": []
          },
          "execution_count": 9
        }
      ]
    },
    {
      "cell_type": "code",
      "metadata": {
        "id": "Oewt0Xva8469",
        "colab": {
          "base_uri": "https://localhost:8080/"
        },
        "outputId": "61c90981-31e0-4b0d-937d-7899bc13096f"
      },
      "source": [
        "train_data[0]"
      ],
      "execution_count": null,
      "outputs": [
        {
          "output_type": "execute_result",
          "data": {
            "text/plain": [
              "array([[  0,   0,   0,   0,   0,   0,   0,   0,   0,   0,   0,   0,   0,\n",
              "          0,   0,   0,   0,   0,   0,   0,   0,   0,   0,   0,   0,   0,\n",
              "          0,   0],\n",
              "       [  0,   0,   0,   0,   0,   0,   0,   0,   0,   0,   0,   0,   0,\n",
              "          0,   0,   0,   0,   0,   0,   0,   0,   0,   0,   0,   0,   0,\n",
              "          0,   0],\n",
              "       [  0,   0,   0,   0,   0,   0,   0,   0,   0,   0,   0,   0,   0,\n",
              "          0,   0,   0,   0,   0,   0,   0,   0,   0,   0,   0,   0,   0,\n",
              "          0,   0],\n",
              "       [  0,   0,   0,   0,   0,   0,   0,   0,   0,   0,   0,   0,   0,\n",
              "          0,   0,   0,   0,   0,   0,   0,   0,   0,   0,   0,   0,   0,\n",
              "          0,   0],\n",
              "       [  0,   0,   0,   0,   0,   0,   0,   0,   0,   0,   0,   0,   0,\n",
              "          0,   0,   0,   0,   0,   0,   0,   0,   0,   0,   0,   0,   0,\n",
              "          0,   0],\n",
              "       [  0,   0,   0,   0,   0,   0,   0,   0,   0,   0,   0,   0,   3,\n",
              "         18,  18,  18, 126, 136, 175,  26, 166, 255, 247, 127,   0,   0,\n",
              "          0,   0],\n",
              "       [  0,   0,   0,   0,   0,   0,   0,   0,  30,  36,  94, 154, 170,\n",
              "        253, 253, 253, 253, 253, 225, 172, 253, 242, 195,  64,   0,   0,\n",
              "          0,   0],\n",
              "       [  0,   0,   0,   0,   0,   0,   0,  49, 238, 253, 253, 253, 253,\n",
              "        253, 253, 253, 253, 251,  93,  82,  82,  56,  39,   0,   0,   0,\n",
              "          0,   0],\n",
              "       [  0,   0,   0,   0,   0,   0,   0,  18, 219, 253, 253, 253, 253,\n",
              "        253, 198, 182, 247, 241,   0,   0,   0,   0,   0,   0,   0,   0,\n",
              "          0,   0],\n",
              "       [  0,   0,   0,   0,   0,   0,   0,   0,  80, 156, 107, 253, 253,\n",
              "        205,  11,   0,  43, 154,   0,   0,   0,   0,   0,   0,   0,   0,\n",
              "          0,   0],\n",
              "       [  0,   0,   0,   0,   0,   0,   0,   0,   0,  14,   1, 154, 253,\n",
              "         90,   0,   0,   0,   0,   0,   0,   0,   0,   0,   0,   0,   0,\n",
              "          0,   0],\n",
              "       [  0,   0,   0,   0,   0,   0,   0,   0,   0,   0,   0, 139, 253,\n",
              "        190,   2,   0,   0,   0,   0,   0,   0,   0,   0,   0,   0,   0,\n",
              "          0,   0],\n",
              "       [  0,   0,   0,   0,   0,   0,   0,   0,   0,   0,   0,  11, 190,\n",
              "        253,  70,   0,   0,   0,   0,   0,   0,   0,   0,   0,   0,   0,\n",
              "          0,   0],\n",
              "       [  0,   0,   0,   0,   0,   0,   0,   0,   0,   0,   0,   0,  35,\n",
              "        241, 225, 160, 108,   1,   0,   0,   0,   0,   0,   0,   0,   0,\n",
              "          0,   0],\n",
              "       [  0,   0,   0,   0,   0,   0,   0,   0,   0,   0,   0,   0,   0,\n",
              "         81, 240, 253, 253, 119,  25,   0,   0,   0,   0,   0,   0,   0,\n",
              "          0,   0],\n",
              "       [  0,   0,   0,   0,   0,   0,   0,   0,   0,   0,   0,   0,   0,\n",
              "          0,  45, 186, 253, 253, 150,  27,   0,   0,   0,   0,   0,   0,\n",
              "          0,   0],\n",
              "       [  0,   0,   0,   0,   0,   0,   0,   0,   0,   0,   0,   0,   0,\n",
              "          0,   0,  16,  93, 252, 253, 187,   0,   0,   0,   0,   0,   0,\n",
              "          0,   0],\n",
              "       [  0,   0,   0,   0,   0,   0,   0,   0,   0,   0,   0,   0,   0,\n",
              "          0,   0,   0,   0, 249, 253, 249,  64,   0,   0,   0,   0,   0,\n",
              "          0,   0],\n",
              "       [  0,   0,   0,   0,   0,   0,   0,   0,   0,   0,   0,   0,   0,\n",
              "          0,  46, 130, 183, 253, 253, 207,   2,   0,   0,   0,   0,   0,\n",
              "          0,   0],\n",
              "       [  0,   0,   0,   0,   0,   0,   0,   0,   0,   0,   0,   0,  39,\n",
              "        148, 229, 253, 253, 253, 250, 182,   0,   0,   0,   0,   0,   0,\n",
              "          0,   0],\n",
              "       [  0,   0,   0,   0,   0,   0,   0,   0,   0,   0,  24, 114, 221,\n",
              "        253, 253, 253, 253, 201,  78,   0,   0,   0,   0,   0,   0,   0,\n",
              "          0,   0],\n",
              "       [  0,   0,   0,   0,   0,   0,   0,   0,  23,  66, 213, 253, 253,\n",
              "        253, 253, 198,  81,   2,   0,   0,   0,   0,   0,   0,   0,   0,\n",
              "          0,   0],\n",
              "       [  0,   0,   0,   0,   0,   0,  18, 171, 219, 253, 253, 253, 253,\n",
              "        195,  80,   9,   0,   0,   0,   0,   0,   0,   0,   0,   0,   0,\n",
              "          0,   0],\n",
              "       [  0,   0,   0,   0,  55, 172, 226, 253, 253, 253, 253, 244, 133,\n",
              "         11,   0,   0,   0,   0,   0,   0,   0,   0,   0,   0,   0,   0,\n",
              "          0,   0],\n",
              "       [  0,   0,   0,   0, 136, 253, 253, 253, 212, 135, 132,  16,   0,\n",
              "          0,   0,   0,   0,   0,   0,   0,   0,   0,   0,   0,   0,   0,\n",
              "          0,   0],\n",
              "       [  0,   0,   0,   0,   0,   0,   0,   0,   0,   0,   0,   0,   0,\n",
              "          0,   0,   0,   0,   0,   0,   0,   0,   0,   0,   0,   0,   0,\n",
              "          0,   0],\n",
              "       [  0,   0,   0,   0,   0,   0,   0,   0,   0,   0,   0,   0,   0,\n",
              "          0,   0,   0,   0,   0,   0,   0,   0,   0,   0,   0,   0,   0,\n",
              "          0,   0],\n",
              "       [  0,   0,   0,   0,   0,   0,   0,   0,   0,   0,   0,   0,   0,\n",
              "          0,   0,   0,   0,   0,   0,   0,   0,   0,   0,   0,   0,   0,\n",
              "          0,   0]], dtype=uint8)"
            ]
          },
          "metadata": {
            "tags": []
          },
          "execution_count": 10
        }
      ]
    },
    {
      "cell_type": "code",
      "metadata": {
        "colab": {
          "base_uri": "https://localhost:8080/"
        },
        "id": "4RHQ1CFU9Alx",
        "outputId": "0bbf79db-d01a-4bf3-c7b1-dcb1ce801cd7"
      },
      "source": [
        "train_labels[0]"
      ],
      "execution_count": null,
      "outputs": [
        {
          "output_type": "execute_result",
          "data": {
            "text/plain": [
              "5"
            ]
          },
          "metadata": {
            "tags": []
          },
          "execution_count": 11
        }
      ]
    },
    {
      "cell_type": "markdown",
      "metadata": {
        "id": "Iqpu3ARqOVF3"
      },
      "source": [
        "Kodowanie one-hot"
      ]
    },
    {
      "cell_type": "code",
      "metadata": {
        "id": "YBibYuEYjjLe"
      },
      "source": [
        "train_labels = tf.keras.utils.to_categorical(train_labels, 10)\n",
        "test_labels = tf.keras.utils.to_categorical(test_labels, 10)"
      ],
      "execution_count": null,
      "outputs": []
    },
    {
      "cell_type": "code",
      "metadata": {
        "id": "LDmkU2Sr7x8x",
        "colab": {
          "base_uri": "https://localhost:8080/"
        },
        "outputId": "4b7cf359-3fb9-4ba2-951d-709c1b38375f"
      },
      "source": [
        "train_data.shape,train_labels.shape"
      ],
      "execution_count": null,
      "outputs": [
        {
          "output_type": "execute_result",
          "data": {
            "text/plain": [
              "((1000, 28, 28), (1000, 10))"
            ]
          },
          "metadata": {
            "tags": []
          },
          "execution_count": 13
        }
      ]
    },
    {
      "cell_type": "code",
      "metadata": {
        "id": "3Pe5vg0Dj56h",
        "colab": {
          "base_uri": "https://localhost:8080/"
        },
        "outputId": "0fd8a4e9-7d91-44e6-c4c9-a10fd195b1bb"
      },
      "source": [
        "test_data.shape,test_labels.shape"
      ],
      "execution_count": null,
      "outputs": [
        {
          "output_type": "execute_result",
          "data": {
            "text/plain": [
              "((1000, 28, 28), (1000, 10))"
            ]
          },
          "metadata": {
            "tags": []
          },
          "execution_count": 14
        }
      ]
    },
    {
      "cell_type": "code",
      "metadata": {
        "colab": {
          "base_uri": "https://localhost:8080/"
        },
        "id": "dSgm903q9MXt",
        "outputId": "bf83b147-e483-40be-df1b-50089f0aeb6c"
      },
      "source": [
        "train_labels[0]"
      ],
      "execution_count": null,
      "outputs": [
        {
          "output_type": "execute_result",
          "data": {
            "text/plain": [
              "array([0., 0., 0., 0., 0., 1., 0., 0., 0., 0.], dtype=float32)"
            ]
          },
          "metadata": {
            "tags": []
          },
          "execution_count": 15
        }
      ]
    },
    {
      "cell_type": "markdown",
      "metadata": {
        "id": "GDYZB923d4bD"
      },
      "source": [
        "Wizualizacja"
      ]
    },
    {
      "cell_type": "code",
      "metadata": {
        "id": "lJJlrAzrd7OS",
        "colab": {
          "base_uri": "https://localhost:8080/",
          "height": 283
        },
        "outputId": "77761211-f140-4070-955d-058c98fa9979"
      },
      "source": [
        "def plot_image(img_index):\n",
        "    label_index = train_labels[img_index]\n",
        "    plt.imshow(train_data[img_index]/255, cmap = 'gray')\n",
        "    print(label_index)\n",
        "    \n",
        "img_index = 10\n",
        "plot_image(img_index)"
      ],
      "execution_count": null,
      "outputs": [
        {
          "output_type": "stream",
          "text": [
            "[0. 0. 0. 1. 0. 0. 0. 0. 0. 0.]\n"
          ],
          "name": "stdout"
        },
        {
          "output_type": "display_data",
          "data": {
            "image/png": "[encoded data removed]",
            "text/plain": [
              "<Figure size 432x288 with 1 Axes>"
            ]
          },
          "metadata": {
            "tags": [],
            "needs_background": "light"
          }
        }
      ]
    },
    {
      "cell_type": "code",
      "metadata": {
        "id": "ZeODAlX8V4oc"
      },
      "source": [
        "train_images = train_data.reshape((-1, 784))\n",
        "test_images = test_data.reshape((-1, 784))"
      ],
      "execution_count": null,
      "outputs": []
    },
    {
      "cell_type": "code",
      "metadata": {
        "colab": {
          "base_uri": "https://localhost:8080/"
        },
        "id": "m_EhC3xf9lu7",
        "outputId": "5ed47c8c-29a4-43db-9a19-121f694f55ac"
      },
      "source": [
        "model = Sequential()\n",
        "model.add(Dense(units = 128, use_bias=True, input_shape=(784,), activation = \"relu\"))\n",
        "model.add(Dense(units = 10, use_bias=True, activation = \"softmax\"))\n",
        "\n",
        "opt = keras.optimizers.Adam(learning_rate = _learningRate)\n",
        "\n",
        "model.compile(loss='categorical_crossentropy',optimizer=opt,metrics=['accuracy'])\n",
        "model.summary()"
      ],
      "execution_count": null,
      "outputs": [
        {
          "output_type": "stream",
          "text": [
            "Model: \"sequential\"\n",
            "_________________________________________________________________\n",
            "Layer (type)                 Output Shape              Param #   \n",
            "=================================================================\n",
            "dense (Dense)                (None, 128)               100480    \n",
            "_________________________________________________________________\n",
            "dense_1 (Dense)              (None, 10)                1290      \n",
            "=================================================================\n",
            "Total params: 101,770\n",
            "Trainable params: 101,770\n",
            "Non-trainable params: 0\n",
            "_________________________________________________________________\n"
          ],
          "name": "stdout"
        }
      ]
    },
    {
      "cell_type": "code",
      "metadata": {
        "colab": {
          "base_uri": "https://localhost:8080/"
        },
        "id": "r6lPVoFV9r2S",
        "outputId": "187acacb-a523-493a-d636-b6d86747dfa2"
      },
      "source": [
        "h = model.fit(train_images, train_labels, batch_size = _batchSize, epochs = _epochs, validation_split=0.2)"
      ],
      "execution_count": null,
      "outputs": [
        {
          "output_type": "stream",
          "text": [
            "Epoch 1/50\n",
            "2/2 [==============================] - 1s 363ms/step - loss: 139.8122 - accuracy: 0.1085 - val_loss: 79.0659 - val_accuracy: 0.1600\n",
            "Epoch 2/50\n",
            "2/2 [==============================] - 0s 29ms/step - loss: 70.8421 - accuracy: 0.2147 - val_loss: 59.3486 - val_accuracy: 0.3000\n",
            "Epoch 3/50\n",
            "2/2 [==============================] - 0s 27ms/step - loss: 43.2534 - accuracy: 0.3863 - val_loss: 45.4788 - val_accuracy: 0.4300\n",
            "Epoch 4/50\n",
            "2/2 [==============================] - 0s 27ms/step - loss: 29.6590 - accuracy: 0.5517 - val_loss: 28.4031 - val_accuracy: 0.5950\n",
            "Epoch 5/50\n",
            "2/2 [==============================] - 0s 27ms/step - loss: 17.4718 - accuracy: 0.6961 - val_loss: 19.1871 - val_accuracy: 0.6950\n",
            "Epoch 6/50\n",
            "2/2 [==============================] - 0s 27ms/step - loss: 11.2746 - accuracy: 0.7639 - val_loss: 16.3155 - val_accuracy: 0.7050\n",
            "Epoch 7/50\n",
            "2/2 [==============================] - 0s 29ms/step - loss: 10.0121 - accuracy: 0.7947 - val_loss: 16.4830 - val_accuracy: 0.7250\n",
            "Epoch 8/50\n",
            "2/2 [==============================] - 0s 30ms/step - loss: 9.5521 - accuracy: 0.8029 - val_loss: 15.3470 - val_accuracy: 0.7550\n",
            "Epoch 9/50\n",
            "2/2 [==============================] - 0s 27ms/step - loss: 7.6589 - accuracy: 0.8285 - val_loss: 13.5132 - val_accuracy: 0.7650\n",
            "Epoch 10/50\n",
            "2/2 [==============================] - 0s 26ms/step - loss: 5.3550 - accuracy: 0.8748 - val_loss: 12.3994 - val_accuracy: 0.7850\n",
            "Epoch 11/50\n",
            "2/2 [==============================] - 0s 34ms/step - loss: 3.8499 - accuracy: 0.8998 - val_loss: 12.6042 - val_accuracy: 0.8050\n",
            "Epoch 12/50\n",
            "2/2 [==============================] - 0s 32ms/step - loss: 3.0760 - accuracy: 0.9055 - val_loss: 12.9151 - val_accuracy: 0.8150\n",
            "Epoch 13/50\n",
            "2/2 [==============================] - 0s 27ms/step - loss: 2.6413 - accuracy: 0.9199 - val_loss: 12.9770 - val_accuracy: 0.8200\n",
            "Epoch 14/50\n",
            "2/2 [==============================] - 0s 31ms/step - loss: 2.0606 - accuracy: 0.9352 - val_loss: 12.8482 - val_accuracy: 0.8150\n",
            "Epoch 15/50\n",
            "2/2 [==============================] - 0s 31ms/step - loss: 1.8891 - accuracy: 0.9383 - val_loss: 12.5397 - val_accuracy: 0.8150\n",
            "Epoch 16/50\n",
            "2/2 [==============================] - 0s 27ms/step - loss: 1.3435 - accuracy: 0.9528 - val_loss: 12.1740 - val_accuracy: 0.8200\n",
            "Epoch 17/50\n",
            "2/2 [==============================] - 0s 27ms/step - loss: 1.0643 - accuracy: 0.9630 - val_loss: 11.8111 - val_accuracy: 0.8150\n",
            "Epoch 18/50\n",
            "2/2 [==============================] - 0s 26ms/step - loss: 0.7384 - accuracy: 0.9613 - val_loss: 11.4485 - val_accuracy: 0.8200\n",
            "Epoch 19/50\n",
            "2/2 [==============================] - 0s 26ms/step - loss: 0.6585 - accuracy: 0.9671 - val_loss: 11.2317 - val_accuracy: 0.8200\n",
            "Epoch 20/50\n",
            "2/2 [==============================] - 0s 120ms/step - loss: 0.4928 - accuracy: 0.9778 - val_loss: 11.0708 - val_accuracy: 0.8200\n",
            "Epoch 21/50\n",
            "2/2 [==============================] - 0s 30ms/step - loss: 0.3029 - accuracy: 0.9904 - val_loss: 10.8790 - val_accuracy: 0.8200\n",
            "Epoch 22/50\n",
            "2/2 [==============================] - 0s 31ms/step - loss: 0.3119 - accuracy: 0.9929 - val_loss: 10.6193 - val_accuracy: 0.8150\n",
            "Epoch 23/50\n",
            "2/2 [==============================] - 0s 28ms/step - loss: 0.2916 - accuracy: 0.9945 - val_loss: 10.4281 - val_accuracy: 0.8250\n",
            "Epoch 24/50\n",
            "2/2 [==============================] - 0s 27ms/step - loss: 0.2109 - accuracy: 0.9951 - val_loss: 10.3430 - val_accuracy: 0.8250\n",
            "Epoch 25/50\n",
            "2/2 [==============================] - 0s 26ms/step - loss: 0.1521 - accuracy: 0.9951 - val_loss: 10.3937 - val_accuracy: 0.8350\n",
            "Epoch 26/50\n",
            "2/2 [==============================] - 0s 29ms/step - loss: 0.1416 - accuracy: 0.9937 - val_loss: 10.4034 - val_accuracy: 0.8300\n",
            "Epoch 27/50\n",
            "2/2 [==============================] - 0s 35ms/step - loss: 0.1294 - accuracy: 0.9931 - val_loss: 10.3638 - val_accuracy: 0.8300\n",
            "Epoch 28/50\n",
            "2/2 [==============================] - 0s 31ms/step - loss: 0.0662 - accuracy: 0.9951 - val_loss: 10.3082 - val_accuracy: 0.8300\n",
            "Epoch 29/50\n",
            "2/2 [==============================] - 0s 44ms/step - loss: 0.0468 - accuracy: 0.9959 - val_loss: 10.2532 - val_accuracy: 0.8300\n",
            "Epoch 30/50\n",
            "2/2 [==============================] - 0s 28ms/step - loss: 0.0195 - accuracy: 0.9973 - val_loss: 10.2072 - val_accuracy: 0.8300\n",
            "Epoch 31/50\n",
            "2/2 [==============================] - 0s 27ms/step - loss: 0.0086 - accuracy: 0.9973 - val_loss: 10.1745 - val_accuracy: 0.8300\n",
            "Epoch 32/50\n",
            "2/2 [==============================] - 0s 27ms/step - loss: 0.0025 - accuracy: 0.9986 - val_loss: 10.1534 - val_accuracy: 0.8300\n",
            "Epoch 33/50\n",
            "2/2 [==============================] - 0s 28ms/step - loss: 0.0013 - accuracy: 1.0000 - val_loss: 10.1417 - val_accuracy: 0.8300\n",
            "Epoch 34/50\n",
            "2/2 [==============================] - 0s 28ms/step - loss: 6.2448e-04 - accuracy: 1.0000 - val_loss: 10.1330 - val_accuracy: 0.8300\n",
            "Epoch 35/50\n",
            "2/2 [==============================] - 0s 29ms/step - loss: 1.8459e-04 - accuracy: 1.0000 - val_loss: 10.1276 - val_accuracy: 0.8300\n",
            "Epoch 36/50\n",
            "2/2 [==============================] - 0s 28ms/step - loss: 9.1313e-05 - accuracy: 1.0000 - val_loss: 10.1241 - val_accuracy: 0.8300\n",
            "Epoch 37/50\n",
            "2/2 [==============================] - 0s 30ms/step - loss: 7.6262e-05 - accuracy: 1.0000 - val_loss: 10.1214 - val_accuracy: 0.8300\n",
            "Epoch 38/50\n",
            "2/2 [==============================] - 0s 27ms/step - loss: 5.5104e-05 - accuracy: 1.0000 - val_loss: 10.1191 - val_accuracy: 0.8300\n",
            "Epoch 39/50\n",
            "2/2 [==============================] - 0s 27ms/step - loss: 4.5316e-05 - accuracy: 1.0000 - val_loss: 10.1172 - val_accuracy: 0.8300\n",
            "Epoch 40/50\n",
            "2/2 [==============================] - 0s 31ms/step - loss: 3.9860e-05 - accuracy: 1.0000 - val_loss: 10.1159 - val_accuracy: 0.8300\n",
            "Epoch 41/50\n",
            "2/2 [==============================] - 0s 29ms/step - loss: 2.9932e-05 - accuracy: 1.0000 - val_loss: 10.1148 - val_accuracy: 0.8300\n",
            "Epoch 42/50\n",
            "2/2 [==============================] - 0s 28ms/step - loss: 2.8110e-05 - accuracy: 1.0000 - val_loss: 10.1139 - val_accuracy: 0.8300\n",
            "Epoch 43/50\n",
            "2/2 [==============================] - 0s 27ms/step - loss: 2.7065e-05 - accuracy: 1.0000 - val_loss: 10.1133 - val_accuracy: 0.8300\n",
            "Epoch 44/50\n",
            "2/2 [==============================] - 0s 29ms/step - loss: 2.3777e-05 - accuracy: 1.0000 - val_loss: 10.1129 - val_accuracy: 0.8300\n",
            "Epoch 45/50\n",
            "2/2 [==============================] - 0s 33ms/step - loss: 1.8893e-05 - accuracy: 1.0000 - val_loss: 10.1125 - val_accuracy: 0.8300\n",
            "Epoch 46/50\n",
            "2/2 [==============================] - 0s 30ms/step - loss: 1.6700e-05 - accuracy: 1.0000 - val_loss: 10.1122 - val_accuracy: 0.8300\n",
            "Epoch 47/50\n",
            "2/2 [==============================] - 0s 33ms/step - loss: 1.9156e-05 - accuracy: 1.0000 - val_loss: 10.1120 - val_accuracy: 0.8300\n",
            "Epoch 48/50\n",
            "2/2 [==============================] - 0s 27ms/step - loss: 1.2079e-05 - accuracy: 1.0000 - val_loss: 10.1118 - val_accuracy: 0.8300\n",
            "Epoch 49/50\n",
            "2/2 [==============================] - 0s 27ms/step - loss: 1.6436e-05 - accuracy: 1.0000 - val_loss: 10.1116 - val_accuracy: 0.8300\n",
            "Epoch 50/50\n",
            "2/2 [==============================] - 0s 27ms/step - loss: 1.2213e-05 - accuracy: 1.0000 - val_loss: 10.1115 - val_accuracy: 0.8300\n"
          ],
          "name": "stdout"
        }
      ]
    },
    {
      "cell_type": "code",
      "metadata": {
        "id": "9EjtmOJoGmJH",
        "colab": {
          "base_uri": "https://localhost:8080/"
        },
        "outputId": "775340c6-7539-4a1e-d326-7cc8a3022e8d"
      },
      "source": [
        "history_dict = h.history\n",
        "history_dict.keys()"
      ],
      "execution_count": null,
      "outputs": [
        {
          "output_type": "execute_result",
          "data": {
            "text/plain": [
              "dict_keys(['loss', 'accuracy', 'val_loss', 'val_accuracy'])"
            ]
          },
          "metadata": {
            "tags": []
          },
          "execution_count": 20
        }
      ]
    },
    {
      "cell_type": "code",
      "metadata": {
        "colab": {
          "base_uri": "https://localhost:8080/",
          "height": 266
        },
        "id": "x4tHqqXXBXRm",
        "outputId": "8977df8b-9dad-4682-d3bf-9a6e5e4ca90b"
      },
      "source": [
        "plt.scatter(np.arange(_epochs),h.history['loss'])\n",
        "plt.scatter(np.arange(_epochs),h.history['val_loss'],c='r')\n",
        "plt.show()"
      ],
      "execution_count": null,
      "outputs": [
        {
          "output_type": "display_data",
          "data": {
            "image/png": "[encoded data removed]",
            "text/plain": [
              "<Figure size 432x288 with 1 Axes>"
            ]
          },
          "metadata": {
            "tags": [],
            "needs_background": "light"
          }
        }
      ]
    },
    {
      "cell_type": "code",
      "metadata": {
        "colab": {
          "base_uri": "https://localhost:8080/"
        },
        "id": "ERLS7pe69v5j",
        "outputId": "fb05e37a-eaea-46af-92a8-a9e6667b87ce"
      },
      "source": [
        "score = model.evaluate(test_images, test_labels, verbose=0)\n",
        "print(\"Test loss:\", score[0])\n",
        "print(\"Test accuracy:\", score[1])"
      ],
      "execution_count": null,
      "outputs": [
        {
          "output_type": "stream",
          "text": [
            "Test loss: 9.783103942871094\n",
            "Test accuracy: 0.7929999828338623\n"
          ],
          "name": "stdout"
        }
      ]
    },
    {
      "cell_type": "code",
      "metadata": {
        "colab": {
          "base_uri": "https://localhost:8080/",
          "height": 337
        },
        "id": "rLbjkyVBDx79",
        "outputId": "d4f8338a-1c2a-48af-b9f4-56947f0ddb31"
      },
      "source": [
        "def plot_image(img_index):\n",
        "    label_index = train_labels[img_index]\n",
        "    plt.imshow(train_data[img_index]/255, cmap = 'gray')\n",
        "    print(label_index)\n",
        "    \n",
        "img_index = 10\n",
        "plot_image(img_index)\n",
        "\n",
        "picture = train_data[img_index].reshape(-1,784)\n",
        "\n",
        "model.predict(picture)"
      ],
      "execution_count": null,
      "outputs": [
        {
          "output_type": "stream",
          "text": [
            "[0. 0. 0. 1. 0. 0. 0. 0. 0. 0.]\n"
          ],
          "name": "stdout"
        },
        {
          "output_type": "execute_result",
          "data": {
            "text/plain": [
              "array([[0.0000000e+00, 0.0000000e+00, 0.0000000e+00, 1.0000000e+00,\n",
              "        0.0000000e+00, 2.1775042e-22, 0.0000000e+00, 0.0000000e+00,\n",
              "        1.1930238e-22, 0.0000000e+00]], dtype=float32)"
            ]
          },
          "metadata": {
            "tags": []
          },
          "execution_count": 23
        },
        {
          "output_type": "display_data",
          "data": {
            "image/png": "[encoded data removed]",
            "text/plain": [
              "<Figure size 432x288 with 1 Axes>"
            ]
          },
          "metadata": {
            "tags": [],
            "needs_background": "light"
          }
        }
      ]
    },
    {
      "cell_type": "markdown",
      "metadata": {
        "id": "yF-5BZpMu3mM"
      },
      "source": [
        "# **Regularyzacja** - metoda 1"
      ]
    },
    {
      "cell_type": "markdown",
      "metadata": {
        "id": "rNcj7rqVuWzF"
      },
      "source": [
        "Zwiększamy zbiór treningowy z **1000** do **2500** :"
      ]
    },
    {
      "cell_type": "code",
      "metadata": {
        "id": "kcv0zxukvDP_"
      },
      "source": [
        "train_data = train_data[:2500]\n",
        "train_labels = train_labels[:2500]\n",
        "test_data = test_data[:2500]\n",
        "test_labels = test_labels[:2500]"
      ],
      "execution_count": null,
      "outputs": []
    },
    {
      "cell_type": "markdown",
      "metadata": {
        "id": "A9E45ORNvWMG"
      },
      "source": [
        "Model taki sam:"
      ]
    },
    {
      "cell_type": "code",
      "metadata": {
        "id": "Cia-CbiFD7o-"
      },
      "source": [
        "train_images = train_data.reshape((-1, 784))\n",
        "test_images = test_data.reshape((-1, 784))"
      ],
      "execution_count": null,
      "outputs": []
    },
    {
      "cell_type": "code",
      "metadata": {
        "id": "zzhNBBQivYf6",
        "colab": {
          "base_uri": "https://localhost:8080/"
        },
        "outputId": "6dc9195f-150a-4f43-b97f-50c34e060304"
      },
      "source": [
        "model = Sequential()\n",
        "model.add(Dense(units = 128, use_bias=True, input_shape=(784,), activation = \"relu\"))\n",
        "model.add(Dense(units = 10, use_bias=True, activation = \"softmax\"))\n",
        "\n",
        "opt = keras.optimizers.Adam(learning_rate = _learningRate)\n",
        "\n",
        "model.compile(loss='categorical_crossentropy',optimizer=opt,metrics=['accuracy'])\n",
        "model.summary()"
      ],
      "execution_count": null,
      "outputs": [
        {
          "output_type": "stream",
          "text": [
            "Model: \"sequential_1\"\n",
            "_________________________________________________________________\n",
            "Layer (type)                 Output Shape              Param #   \n",
            "=================================================================\n",
            "dense_2 (Dense)              (None, 128)               100480    \n",
            "_________________________________________________________________\n",
            "dense_3 (Dense)              (None, 10)                1290      \n",
            "=================================================================\n",
            "Total params: 101,770\n",
            "Trainable params: 101,770\n",
            "Non-trainable params: 0\n",
            "_________________________________________________________________\n"
          ],
          "name": "stdout"
        }
      ]
    },
    {
      "cell_type": "markdown",
      "metadata": {
        "id": "5BHFbzrxvnA6"
      },
      "source": [
        "Pętla ucząca:"
      ]
    },
    {
      "cell_type": "code",
      "metadata": {
        "colab": {
          "base_uri": "https://localhost:8080/"
        },
        "id": "RhTQJXd3vmfu",
        "outputId": "686ddc34-ddb4-4a85-93df-7ec1af525f37"
      },
      "source": [
        "h = model.fit(train_images, train_labels, batch_size = _batchSize, epochs = _epochs, validation_split=0.2)"
      ],
      "execution_count": null,
      "outputs": [
        {
          "output_type": "stream",
          "text": [
            "Epoch 1/50\n",
            "2/2 [==============================] - 0s 142ms/step - loss: 127.3870 - accuracy: 0.0998 - val_loss: 60.1832 - val_accuracy: 0.2450\n",
            "Epoch 2/50\n",
            "2/2 [==============================] - 0s 35ms/step - loss: 55.2683 - accuracy: 0.2397 - val_loss: 37.2202 - val_accuracy: 0.4750\n",
            "Epoch 3/50\n",
            "2/2 [==============================] - 0s 29ms/step - loss: 27.0071 - accuracy: 0.5151 - val_loss: 25.2673 - val_accuracy: 0.6250\n",
            "Epoch 4/50\n",
            "2/2 [==============================] - 0s 26ms/step - loss: 13.9416 - accuracy: 0.7107 - val_loss: 20.5515 - val_accuracy: 0.6850\n",
            "Epoch 5/50\n",
            "2/2 [==============================] - 0s 27ms/step - loss: 10.5401 - accuracy: 0.7906 - val_loss: 18.3184 - val_accuracy: 0.7350\n",
            "Epoch 6/50\n",
            "2/2 [==============================] - 0s 27ms/step - loss: 8.5984 - accuracy: 0.8124 - val_loss: 17.1732 - val_accuracy: 0.7600\n",
            "Epoch 7/50\n",
            "2/2 [==============================] - 0s 28ms/step - loss: 6.7408 - accuracy: 0.8553 - val_loss: 16.4000 - val_accuracy: 0.7550\n",
            "Epoch 8/50\n",
            "2/2 [==============================] - 0s 28ms/step - loss: 4.9055 - accuracy: 0.8937 - val_loss: 15.6255 - val_accuracy: 0.7500\n",
            "Epoch 9/50\n",
            "2/2 [==============================] - 0s 28ms/step - loss: 3.6929 - accuracy: 0.9181 - val_loss: 15.0998 - val_accuracy: 0.7450\n",
            "Epoch 10/50\n",
            "2/2 [==============================] - 0s 27ms/step - loss: 2.8297 - accuracy: 0.9297 - val_loss: 15.1342 - val_accuracy: 0.7550\n",
            "Epoch 11/50\n",
            "2/2 [==============================] - 0s 125ms/step - loss: 2.2765 - accuracy: 0.9374 - val_loss: 15.0640 - val_accuracy: 0.7600\n",
            "Epoch 12/50\n",
            "2/2 [==============================] - 0s 30ms/step - loss: 1.7008 - accuracy: 0.9465 - val_loss: 14.9834 - val_accuracy: 0.7700\n",
            "Epoch 13/50\n",
            "2/2 [==============================] - 0s 29ms/step - loss: 1.2731 - accuracy: 0.9547 - val_loss: 14.7063 - val_accuracy: 0.7700\n",
            "Epoch 14/50\n",
            "2/2 [==============================] - 0s 26ms/step - loss: 0.9408 - accuracy: 0.9635 - val_loss: 14.3195 - val_accuracy: 0.7850\n",
            "Epoch 15/50\n",
            "2/2 [==============================] - 0s 27ms/step - loss: 0.7230 - accuracy: 0.9720 - val_loss: 14.0574 - val_accuracy: 0.7900\n",
            "Epoch 16/50\n",
            "2/2 [==============================] - 0s 27ms/step - loss: 0.4720 - accuracy: 0.9758 - val_loss: 13.8837 - val_accuracy: 0.7900\n",
            "Epoch 17/50\n",
            "2/2 [==============================] - 0s 27ms/step - loss: 0.4320 - accuracy: 0.9836 - val_loss: 13.7940 - val_accuracy: 0.8100\n",
            "Epoch 18/50\n",
            "2/2 [==============================] - 0s 28ms/step - loss: 0.2909 - accuracy: 0.9871 - val_loss: 13.7076 - val_accuracy: 0.8150\n",
            "Epoch 19/50\n",
            "2/2 [==============================] - 0s 27ms/step - loss: 0.2426 - accuracy: 0.9890 - val_loss: 13.6266 - val_accuracy: 0.8200\n",
            "Epoch 20/50\n",
            "2/2 [==============================] - 0s 28ms/step - loss: 0.1675 - accuracy: 0.9931 - val_loss: 13.6495 - val_accuracy: 0.8150\n",
            "Epoch 21/50\n",
            "2/2 [==============================] - 0s 27ms/step - loss: 0.0897 - accuracy: 0.9956 - val_loss: 13.6750 - val_accuracy: 0.8150\n",
            "Epoch 22/50\n",
            "2/2 [==============================] - 0s 30ms/step - loss: 0.0517 - accuracy: 0.9920 - val_loss: 13.6789 - val_accuracy: 0.8150\n",
            "Epoch 23/50\n",
            "2/2 [==============================] - 0s 28ms/step - loss: 0.0435 - accuracy: 0.9951 - val_loss: 13.6773 - val_accuracy: 0.8200\n",
            "Epoch 24/50\n",
            "2/2 [==============================] - 0s 33ms/step - loss: 0.0213 - accuracy: 0.9986 - val_loss: 13.6928 - val_accuracy: 0.8250\n",
            "Epoch 25/50\n",
            "2/2 [==============================] - 0s 27ms/step - loss: 0.0090 - accuracy: 0.9986 - val_loss: 13.7222 - val_accuracy: 0.8300\n",
            "Epoch 26/50\n",
            "2/2 [==============================] - 0s 27ms/step - loss: 3.8080e-04 - accuracy: 1.0000 - val_loss: 13.7546 - val_accuracy: 0.8350\n",
            "Epoch 27/50\n",
            "2/2 [==============================] - 0s 27ms/step - loss: 4.2544e-04 - accuracy: 1.0000 - val_loss: 13.7791 - val_accuracy: 0.8400\n",
            "Epoch 28/50\n",
            "2/2 [==============================] - 0s 27ms/step - loss: 4.0992e-04 - accuracy: 1.0000 - val_loss: 13.7996 - val_accuracy: 0.8400\n",
            "Epoch 29/50\n",
            "2/2 [==============================] - 0s 28ms/step - loss: 8.7056e-04 - accuracy: 1.0000 - val_loss: 13.8134 - val_accuracy: 0.8400\n",
            "Epoch 30/50\n",
            "2/2 [==============================] - 0s 27ms/step - loss: 6.5625e-04 - accuracy: 1.0000 - val_loss: 13.8204 - val_accuracy: 0.8400\n",
            "Epoch 31/50\n",
            "2/2 [==============================] - 0s 27ms/step - loss: 1.5523e-04 - accuracy: 1.0000 - val_loss: 13.8235 - val_accuracy: 0.8400\n",
            "Epoch 32/50\n",
            "2/2 [==============================] - 0s 32ms/step - loss: 1.4052e-04 - accuracy: 1.0000 - val_loss: 13.8253 - val_accuracy: 0.8400\n",
            "Epoch 33/50\n",
            "2/2 [==============================] - 0s 31ms/step - loss: 1.1036e-04 - accuracy: 1.0000 - val_loss: 13.8255 - val_accuracy: 0.8350\n",
            "Epoch 34/50\n",
            "2/2 [==============================] - 0s 27ms/step - loss: 7.2627e-05 - accuracy: 1.0000 - val_loss: 13.8254 - val_accuracy: 0.8350\n",
            "Epoch 35/50\n",
            "2/2 [==============================] - 0s 28ms/step - loss: 7.5181e-05 - accuracy: 1.0000 - val_loss: 13.8249 - val_accuracy: 0.8350\n",
            "Epoch 36/50\n",
            "2/2 [==============================] - 0s 27ms/step - loss: 6.3345e-05 - accuracy: 1.0000 - val_loss: 13.8246 - val_accuracy: 0.8350\n",
            "Epoch 37/50\n",
            "2/2 [==============================] - 0s 31ms/step - loss: 5.2015e-05 - accuracy: 1.0000 - val_loss: 13.8244 - val_accuracy: 0.8350\n",
            "Epoch 38/50\n",
            "2/2 [==============================] - 0s 33ms/step - loss: 5.2189e-05 - accuracy: 1.0000 - val_loss: 13.8243 - val_accuracy: 0.8350\n",
            "Epoch 39/50\n",
            "2/2 [==============================] - 0s 36ms/step - loss: 4.8446e-05 - accuracy: 1.0000 - val_loss: 13.8245 - val_accuracy: 0.8350\n",
            "Epoch 40/50\n",
            "2/2 [==============================] - 0s 34ms/step - loss: 4.6486e-05 - accuracy: 1.0000 - val_loss: 13.8248 - val_accuracy: 0.8350\n",
            "Epoch 41/50\n",
            "2/2 [==============================] - 0s 31ms/step - loss: 2.9976e-05 - accuracy: 1.0000 - val_loss: 13.8253 - val_accuracy: 0.8350\n",
            "Epoch 42/50\n",
            "2/2 [==============================] - 0s 29ms/step - loss: 3.2876e-05 - accuracy: 1.0000 - val_loss: 13.8257 - val_accuracy: 0.8300\n",
            "Epoch 43/50\n",
            "2/2 [==============================] - 0s 30ms/step - loss: 2.1490e-05 - accuracy: 1.0000 - val_loss: 13.8261 - val_accuracy: 0.8300\n",
            "Epoch 44/50\n",
            "2/2 [==============================] - 0s 29ms/step - loss: 2.2867e-05 - accuracy: 1.0000 - val_loss: 13.8265 - val_accuracy: 0.8300\n",
            "Epoch 45/50\n",
            "2/2 [==============================] - 0s 29ms/step - loss: 1.7796e-05 - accuracy: 1.0000 - val_loss: 13.8269 - val_accuracy: 0.8300\n",
            "Epoch 46/50\n",
            "2/2 [==============================] - 0s 30ms/step - loss: 1.7047e-05 - accuracy: 1.0000 - val_loss: 13.8272 - val_accuracy: 0.8300\n",
            "Epoch 47/50\n",
            "2/2 [==============================] - 0s 36ms/step - loss: 1.5062e-05 - accuracy: 1.0000 - val_loss: 13.8274 - val_accuracy: 0.8300\n",
            "Epoch 48/50\n",
            "2/2 [==============================] - 0s 33ms/step - loss: 1.2376e-05 - accuracy: 1.0000 - val_loss: 13.8275 - val_accuracy: 0.8300\n",
            "Epoch 49/50\n",
            "2/2 [==============================] - 0s 33ms/step - loss: 1.1867e-05 - accuracy: 1.0000 - val_loss: 13.8276 - val_accuracy: 0.8300\n",
            "Epoch 50/50\n",
            "2/2 [==============================] - 0s 37ms/step - loss: 1.2497e-05 - accuracy: 1.0000 - val_loss: 13.8276 - val_accuracy: 0.8300\n"
          ],
          "name": "stdout"
        }
      ]
    },
    {
      "cell_type": "markdown",
      "metadata": {
        "id": "ziWCEymlwAN4"
      },
      "source": [
        "Błąd treningowy i walidacyjny:"
      ]
    },
    {
      "cell_type": "code",
      "metadata": {
        "colab": {
          "base_uri": "https://localhost:8080/",
          "height": 295
        },
        "id": "9iul5ks6wAN7",
        "outputId": "b9e1c614-f78b-4733-81ef-ecf3899e7858"
      },
      "source": [
        "import matplotlib.pyplot as plt\n",
        "history_dict = h.history\n",
        "loss_values = history_dict['loss']\n",
        "val_loss_values = history_dict['val_loss']\n",
        "epochs = range(1, len(loss_values) + 1)\n",
        "plt.plot(epochs, loss_values, 'bo', label='Training loss')\n",
        "plt.plot(epochs, val_loss_values, 'b', label='Validation loss')\n",
        "plt.title('Training and validation loss')\n",
        "plt.xlabel('Epochs')\n",
        "plt.ylabel('Loss')\n",
        "plt.legend()\n",
        "plt.show()"
      ],
      "execution_count": null,
      "outputs": [
        {
          "output_type": "display_data",
          "data": {
            "image/png": "[encoded data removed]",
            "text/plain": [
              "<Figure size 432x288 with 1 Axes>"
            ]
          },
          "metadata": {
            "tags": [],
            "needs_background": "light"
          }
        }
      ]
    },
    {
      "cell_type": "code",
      "metadata": {
        "colab": {
          "base_uri": "https://localhost:8080/"
        },
        "id": "26OQ3mooz2Ue",
        "outputId": "79cdbebd-6465-4581-c2ff-da00971f796b"
      },
      "source": [
        "loss_values[:10]"
      ],
      "execution_count": null,
      "outputs": [
        {
          "output_type": "execute_result",
          "data": {
            "text/plain": [
              "[123.55396270751953,\n",
              " 53.7903938293457,\n",
              " 26.37090301513672,\n",
              " 13.8853120803833,\n",
              " 10.222886085510254,\n",
              " 8.527729988098145,\n",
              " 6.709895133972168,\n",
              " 4.962587356567383,\n",
              " 3.765964984893799,\n",
              " 2.8911354541778564]"
            ]
          },
          "metadata": {
            "tags": []
          },
          "execution_count": 29
        }
      ]
    },
    {
      "cell_type": "markdown",
      "metadata": {
        "id": "LQwCHFwZ0eA3"
      },
      "source": [
        "# **Regularyzacja** - metoda 2"
      ]
    },
    {
      "cell_type": "markdown",
      "metadata": {
        "id": "shOG8Qf70eBB"
      },
      "source": [
        "Zmniejszamy **wielkość modelu**:"
      ]
    },
    {
      "cell_type": "code",
      "metadata": {
        "id": "EUUR8ka90rAD",
        "colab": {
          "base_uri": "https://localhost:8080/"
        },
        "outputId": "d65455a8-75c0-401c-8343-84f1cef66a6c"
      },
      "source": [
        "model = Sequential()\n",
        "model.add(Dense(units = 10, use_bias=True, input_shape=(784,), activation = \"relu\"))\n",
        "model.add(Dense(units = 10, use_bias=True, activation = \"softmax\"))\n",
        "\n",
        "\n",
        "opt = keras.optimizers.Adam(learning_rate = _learningRate)\n",
        "#opt = keras.optimizers.SGD(learning_rate=0.001)\n",
        "\n",
        "model.compile(loss='categorical_crossentropy',optimizer=opt,metrics=['accuracy'])\n",
        "model.summary()"
      ],
      "execution_count": null,
      "outputs": [
        {
          "output_type": "stream",
          "text": [
            "Model: \"sequential_2\"\n",
            "_________________________________________________________________\n",
            "Layer (type)                 Output Shape              Param #   \n",
            "=================================================================\n",
            "dense_4 (Dense)              (None, 10)                7850      \n",
            "_________________________________________________________________\n",
            "dense_5 (Dense)              (None, 10)                110       \n",
            "=================================================================\n",
            "Total params: 7,960\n",
            "Trainable params: 7,960\n",
            "Non-trainable params: 0\n",
            "_________________________________________________________________\n"
          ],
          "name": "stdout"
        }
      ]
    },
    {
      "cell_type": "markdown",
      "metadata": {
        "id": "5NrIQGJg0rAD"
      },
      "source": [
        "Pętla ucząca:"
      ]
    },
    {
      "cell_type": "code",
      "metadata": {
        "colab": {
          "base_uri": "https://localhost:8080/"
        },
        "id": "FjDmmAHM0rAD",
        "outputId": "abb14e7c-1875-4248-9974-7f43d927c558"
      },
      "source": [
        "h = model.fit(train_images, train_labels, batch_size = _batchSize, epochs = _epochs, validation_split=0.2)"
      ],
      "execution_count": null,
      "outputs": [
        {
          "output_type": "stream",
          "text": [
            "Epoch 1/50\n",
            "2/2 [==============================] - 1s 242ms/step - loss: 86.3090 - accuracy: 0.1202 - val_loss: 55.1939 - val_accuracy: 0.0800\n",
            "Epoch 2/50\n",
            "2/2 [==============================] - 0s 31ms/step - loss: 51.1071 - accuracy: 0.1271 - val_loss: 27.3126 - val_accuracy: 0.0850\n",
            "Epoch 3/50\n",
            "2/2 [==============================] - 0s 29ms/step - loss: 26.5869 - accuracy: 0.1065 - val_loss: 11.5993 - val_accuracy: 0.1200\n",
            "Epoch 4/50\n",
            "2/2 [==============================] - 0s 27ms/step - loss: 12.8838 - accuracy: 0.0994 - val_loss: 5.4959 - val_accuracy: 0.1100\n",
            "Epoch 5/50\n",
            "2/2 [==============================] - 0s 37ms/step - loss: 6.6649 - accuracy: 0.0958 - val_loss: 3.5188 - val_accuracy: 0.1100\n",
            "Epoch 6/50\n",
            "2/2 [==============================] - 0s 35ms/step - loss: 4.2565 - accuracy: 0.0890 - val_loss: 2.9815 - val_accuracy: 0.1000\n",
            "Epoch 7/50\n",
            "2/2 [==============================] - 0s 44ms/step - loss: 3.2842 - accuracy: 0.0969 - val_loss: 2.8210 - val_accuracy: 0.0900\n",
            "Epoch 8/50\n",
            "2/2 [==============================] - 0s 31ms/step - loss: 2.7420 - accuracy: 0.0934 - val_loss: 2.7172 - val_accuracy: 0.0900\n",
            "Epoch 9/50\n",
            "2/2 [==============================] - 0s 30ms/step - loss: 2.5612 - accuracy: 0.1002 - val_loss: 2.6545 - val_accuracy: 0.0900\n",
            "Epoch 10/50\n",
            "2/2 [==============================] - 0s 31ms/step - loss: 2.4605 - accuracy: 0.0980 - val_loss: 2.6098 - val_accuracy: 0.0900\n",
            "Epoch 11/50\n",
            "2/2 [==============================] - 0s 39ms/step - loss: 2.4036 - accuracy: 0.0980 - val_loss: 2.5758 - val_accuracy: 0.0900\n",
            "Epoch 12/50\n",
            "2/2 [==============================] - 0s 35ms/step - loss: 2.3725 - accuracy: 0.1010 - val_loss: 2.5445 - val_accuracy: 0.0900\n",
            "Epoch 13/50\n",
            "2/2 [==============================] - 0s 30ms/step - loss: 2.3341 - accuracy: 0.0983 - val_loss: 2.5192 - val_accuracy: 0.0900\n",
            "Epoch 14/50\n",
            "2/2 [==============================] - 0s 29ms/step - loss: 2.3277 - accuracy: 0.1002 - val_loss: 2.4992 - val_accuracy: 0.0900\n",
            "Epoch 15/50\n",
            "2/2 [==============================] - 0s 29ms/step - loss: 2.3292 - accuracy: 0.1002 - val_loss: 2.4839 - val_accuracy: 0.0900\n",
            "Epoch 16/50\n",
            "2/2 [==============================] - 0s 29ms/step - loss: 2.3194 - accuracy: 0.0961 - val_loss: 2.4724 - val_accuracy: 0.1100\n",
            "Epoch 17/50\n",
            "2/2 [==============================] - 0s 32ms/step - loss: 2.3105 - accuracy: 0.1046 - val_loss: 2.4639 - val_accuracy: 0.1100\n",
            "Epoch 18/50\n",
            "2/2 [==============================] - 0s 31ms/step - loss: 2.3054 - accuracy: 0.1043 - val_loss: 2.4586 - val_accuracy: 0.1100\n",
            "Epoch 19/50\n",
            "2/2 [==============================] - 0s 28ms/step - loss: 2.2994 - accuracy: 0.1038 - val_loss: 2.4551 - val_accuracy: 0.1100\n",
            "Epoch 20/50\n",
            "2/2 [==============================] - 0s 30ms/step - loss: 2.3006 - accuracy: 0.1024 - val_loss: 2.4530 - val_accuracy: 0.1100\n",
            "Epoch 21/50\n",
            "2/2 [==============================] - 0s 28ms/step - loss: 2.3004 - accuracy: 0.1013 - val_loss: 2.4516 - val_accuracy: 0.1100\n",
            "Epoch 22/50\n",
            "2/2 [==============================] - 0s 28ms/step - loss: 2.2996 - accuracy: 0.1013 - val_loss: 2.4502 - val_accuracy: 0.1100\n",
            "Epoch 23/50\n",
            "2/2 [==============================] - 0s 31ms/step - loss: 2.3007 - accuracy: 0.1019 - val_loss: 2.4490 - val_accuracy: 0.1100\n",
            "Epoch 24/50\n",
            "2/2 [==============================] - 0s 30ms/step - loss: 2.2989 - accuracy: 0.1065 - val_loss: 2.4482 - val_accuracy: 0.1250\n",
            "Epoch 25/50\n",
            "2/2 [==============================] - 0s 31ms/step - loss: 2.2975 - accuracy: 0.1079 - val_loss: 2.4476 - val_accuracy: 0.1250\n",
            "Epoch 26/50\n",
            "2/2 [==============================] - 0s 29ms/step - loss: 2.2945 - accuracy: 0.1052 - val_loss: 2.4471 - val_accuracy: 0.1250\n",
            "Epoch 27/50\n",
            "2/2 [==============================] - 0s 34ms/step - loss: 2.2953 - accuracy: 0.1106 - val_loss: 2.4468 - val_accuracy: 0.1250\n",
            "Epoch 28/50\n",
            "2/2 [==============================] - 0s 30ms/step - loss: 2.2967 - accuracy: 0.1090 - val_loss: 2.4465 - val_accuracy: 0.1250\n",
            "Epoch 29/50\n",
            "2/2 [==============================] - 0s 29ms/step - loss: 2.2958 - accuracy: 0.1106 - val_loss: 2.4463 - val_accuracy: 0.1250\n",
            "Epoch 30/50\n",
            "2/2 [==============================] - 0s 28ms/step - loss: 2.2949 - accuracy: 0.1122 - val_loss: 2.4458 - val_accuracy: 0.1250\n",
            "Epoch 31/50\n",
            "2/2 [==============================] - 0s 30ms/step - loss: 2.2946 - accuracy: 0.1085 - val_loss: 2.4455 - val_accuracy: 0.1250\n",
            "Epoch 32/50\n",
            "2/2 [==============================] - 0s 32ms/step - loss: 2.2921 - accuracy: 0.1144 - val_loss: 2.4453 - val_accuracy: 0.1250\n",
            "Epoch 33/50\n",
            "2/2 [==============================] - 0s 36ms/step - loss: 2.2948 - accuracy: 0.1004 - val_loss: 2.4450 - val_accuracy: 0.1050\n",
            "Epoch 34/50\n",
            "2/2 [==============================] - 0s 29ms/step - loss: 2.2911 - accuracy: 0.1095 - val_loss: 2.4447 - val_accuracy: 0.1050\n",
            "Epoch 35/50\n",
            "2/2 [==============================] - 0s 30ms/step - loss: 2.2904 - accuracy: 0.1085 - val_loss: 2.4443 - val_accuracy: 0.0950\n",
            "Epoch 36/50\n",
            "2/2 [==============================] - 0s 31ms/step - loss: 2.2928 - accuracy: 0.1142 - val_loss: 2.4457 - val_accuracy: 0.0950\n",
            "Epoch 37/50\n",
            "2/2 [==============================] - 0s 32ms/step - loss: 2.2893 - accuracy: 0.1159 - val_loss: 2.4474 - val_accuracy: 0.0950\n",
            "Epoch 38/50\n",
            "2/2 [==============================] - 0s 30ms/step - loss: 2.2912 - accuracy: 0.1132 - val_loss: 2.4491 - val_accuracy: 0.0950\n",
            "Epoch 39/50\n",
            "2/2 [==============================] - 0s 29ms/step - loss: 2.2883 - accuracy: 0.1210 - val_loss: 2.4519 - val_accuracy: 0.0950\n",
            "Epoch 40/50\n",
            "2/2 [==============================] - 0s 29ms/step - loss: 2.2902 - accuracy: 0.1119 - val_loss: 2.4550 - val_accuracy: 0.0950\n",
            "Epoch 41/50\n",
            "2/2 [==============================] - 0s 29ms/step - loss: 2.2871 - accuracy: 0.1172 - val_loss: 2.4577 - val_accuracy: 0.0950\n",
            "Epoch 42/50\n",
            "2/2 [==============================] - 0s 119ms/step - loss: 2.2848 - accuracy: 0.1151 - val_loss: 2.4585 - val_accuracy: 0.1000\n",
            "Epoch 43/50\n",
            "2/2 [==============================] - 0s 28ms/step - loss: 2.2841 - accuracy: 0.1167 - val_loss: 2.4601 - val_accuracy: 0.1000\n",
            "Epoch 44/50\n",
            "2/2 [==============================] - 0s 31ms/step - loss: 2.2850 - accuracy: 0.1194 - val_loss: 2.4619 - val_accuracy: 0.1000\n",
            "Epoch 45/50\n",
            "2/2 [==============================] - 0s 30ms/step - loss: 2.2843 - accuracy: 0.1161 - val_loss: 2.4633 - val_accuracy: 0.1000\n",
            "Epoch 46/50\n",
            "2/2 [==============================] - 0s 29ms/step - loss: 2.2848 - accuracy: 0.1145 - val_loss: 2.4646 - val_accuracy: 0.1000\n",
            "Epoch 47/50\n",
            "2/2 [==============================] - 0s 30ms/step - loss: 2.2824 - accuracy: 0.1135 - val_loss: 2.4660 - val_accuracy: 0.1000\n",
            "Epoch 48/50\n",
            "2/2 [==============================] - 0s 27ms/step - loss: 2.2859 - accuracy: 0.1097 - val_loss: 2.4674 - val_accuracy: 0.1000\n",
            "Epoch 49/50\n",
            "2/2 [==============================] - 0s 28ms/step - loss: 2.2820 - accuracy: 0.1172 - val_loss: 2.4688 - val_accuracy: 0.1000\n",
            "Epoch 50/50\n",
            "2/2 [==============================] - 0s 29ms/step - loss: 2.2819 - accuracy: 0.1156 - val_loss: 2.4701 - val_accuracy: 0.1000\n"
          ],
          "name": "stdout"
        }
      ]
    },
    {
      "cell_type": "markdown",
      "metadata": {
        "id": "XOcnjTao0rAE"
      },
      "source": [
        "Błąd treningowy i walidacyjny:"
      ]
    },
    {
      "cell_type": "code",
      "metadata": {
        "colab": {
          "base_uri": "https://localhost:8080/",
          "height": 295
        },
        "id": "mX6e4w6L0rAF",
        "outputId": "9b8e52e6-38fe-4bef-ef6e-c61e106c1652"
      },
      "source": [
        "import matplotlib.pyplot as plt\n",
        "history_dict = h.history\n",
        "loss_values = history_dict['loss']\n",
        "val_loss_values = history_dict['val_loss']\n",
        "epochs = range(1, len(loss_values) + 1)\n",
        "plt.plot(epochs, loss_values, 'bo', label='Training loss')\n",
        "plt.plot(epochs, val_loss_values, 'b', label='Validation loss')\n",
        "plt.title('Training and validation loss')\n",
        "plt.xlabel('Epochs')\n",
        "plt.ylabel('Loss')\n",
        "plt.legend()\n",
        "plt.show()"
      ],
      "execution_count": null,
      "outputs": [
        {
          "output_type": "display_data",
          "data": {
            "image/png": "[encoded data removed]",
            "text/plain": [
              "<Figure size 432x288 with 1 Axes>"
            ]
          },
          "metadata": {
            "tags": [],
            "needs_background": "light"
          }
        }
      ]
    },
    {
      "cell_type": "markdown",
      "metadata": {
        "id": "ZwWsUXFc1079"
      },
      "source": [
        "Spróbujmy teraz znacznie zwiększyć **wielkość modelu**:"
      ]
    },
    {
      "cell_type": "code",
      "metadata": {
        "id": "o3TyM3wo1079",
        "colab": {
          "base_uri": "https://localhost:8080/"
        },
        "outputId": "ee4da316-b9d2-4939-e452-e4af74470477"
      },
      "source": [
        "model = Sequential()\n",
        "model.add(Dense(units = 700, use_bias=True, input_shape=(784,), activation = \"relu\"))\n",
        "model.add(Dense(units = 10, use_bias=True, activation = \"softmax\"))\n",
        "\n",
        "\n",
        "opt = keras.optimizers.Adam(learning_rate = _learningRate)\n",
        "#opt = keras.optimizers.SGD(learning_rate=0.001)\n",
        "\n",
        "model.compile(loss='categorical_crossentropy',optimizer=opt,metrics=['accuracy'])\n",
        "model.summary()"
      ],
      "execution_count": null,
      "outputs": [
        {
          "output_type": "stream",
          "text": [
            "Model: \"sequential_3\"\n",
            "_________________________________________________________________\n",
            "Layer (type)                 Output Shape              Param #   \n",
            "=================================================================\n",
            "dense_6 (Dense)              (None, 700)               549500    \n",
            "_________________________________________________________________\n",
            "dense_7 (Dense)              (None, 10)                7010      \n",
            "=================================================================\n",
            "Total params: 556,510\n",
            "Trainable params: 556,510\n",
            "Non-trainable params: 0\n",
            "_________________________________________________________________\n"
          ],
          "name": "stdout"
        }
      ]
    },
    {
      "cell_type": "markdown",
      "metadata": {
        "id": "Bgn0iMhP107-"
      },
      "source": [
        "Pętla ucząca:"
      ]
    },
    {
      "cell_type": "code",
      "metadata": {
        "colab": {
          "base_uri": "https://localhost:8080/"
        },
        "id": "l2wnhmhv107-",
        "outputId": "0a57b8f8-90fa-457a-c7d3-ae2aec0a9589"
      },
      "source": [
        "h = model.fit(train_images, train_labels, batch_size = _batchSize, epochs = _epochs, validation_split=0.2)"
      ],
      "execution_count": null,
      "outputs": [
        {
          "output_type": "stream",
          "text": [
            "Epoch 1/50\n",
            "2/2 [==============================] - 0s 143ms/step - loss: 106.0985 - accuracy: 0.1240 - val_loss: 64.5352 - val_accuracy: 0.4650\n",
            "Epoch 2/50\n",
            "2/2 [==============================] - 0s 32ms/step - loss: 47.8747 - accuracy: 0.5335 - val_loss: 38.8835 - val_accuracy: 0.5450\n",
            "Epoch 3/50\n",
            "2/2 [==============================] - 0s 28ms/step - loss: 24.4333 - accuracy: 0.6613 - val_loss: 16.1237 - val_accuracy: 0.8050\n",
            "Epoch 4/50\n",
            "2/2 [==============================] - 0s 27ms/step - loss: 8.1368 - accuracy: 0.8600 - val_loss: 21.5862 - val_accuracy: 0.7650\n",
            "Epoch 5/50\n",
            "2/2 [==============================] - 0s 30ms/step - loss: 12.9560 - accuracy: 0.8314 - val_loss: 18.0426 - val_accuracy: 0.7900\n",
            "Epoch 6/50\n",
            "2/2 [==============================] - 0s 28ms/step - loss: 7.9648 - accuracy: 0.8831 - val_loss: 16.4184 - val_accuracy: 0.8500\n",
            "Epoch 7/50\n",
            "2/2 [==============================] - 0s 29ms/step - loss: 4.8045 - accuracy: 0.9292 - val_loss: 17.1736 - val_accuracy: 0.8600\n",
            "Epoch 8/50\n",
            "2/2 [==============================] - 0s 27ms/step - loss: 4.0872 - accuracy: 0.9291 - val_loss: 17.4512 - val_accuracy: 0.8350\n",
            "Epoch 9/50\n",
            "2/2 [==============================] - 0s 28ms/step - loss: 3.1485 - accuracy: 0.9513 - val_loss: 16.3201 - val_accuracy: 0.8400\n",
            "Epoch 10/50\n",
            "2/2 [==============================] - 0s 28ms/step - loss: 2.0162 - accuracy: 0.9621 - val_loss: 14.7526 - val_accuracy: 0.8350\n",
            "Epoch 11/50\n",
            "2/2 [==============================] - 0s 32ms/step - loss: 1.0273 - accuracy: 0.9789 - val_loss: 14.3896 - val_accuracy: 0.8300\n",
            "Epoch 12/50\n",
            "2/2 [==============================] - 0s 33ms/step - loss: 0.6328 - accuracy: 0.9846 - val_loss: 15.1818 - val_accuracy: 0.8300\n",
            "Epoch 13/50\n",
            "2/2 [==============================] - 0s 31ms/step - loss: 0.5700 - accuracy: 0.9737 - val_loss: 15.7902 - val_accuracy: 0.8350\n",
            "Epoch 14/50\n",
            "2/2 [==============================] - 0s 28ms/step - loss: 0.5169 - accuracy: 0.9764 - val_loss: 15.6455 - val_accuracy: 0.8300\n",
            "Epoch 15/50\n",
            "2/2 [==============================] - 0s 28ms/step - loss: 0.2456 - accuracy: 0.9893 - val_loss: 15.1842 - val_accuracy: 0.8400\n",
            "Epoch 16/50\n",
            "2/2 [==============================] - 0s 28ms/step - loss: 0.0745 - accuracy: 0.9937 - val_loss: 14.8652 - val_accuracy: 0.8300\n",
            "Epoch 17/50\n",
            "2/2 [==============================] - 0s 32ms/step - loss: 6.6960e-05 - accuracy: 1.0000 - val_loss: 14.7505 - val_accuracy: 0.8250\n",
            "Epoch 18/50\n",
            "2/2 [==============================] - 0s 30ms/step - loss: 0.0080 - accuracy: 0.9973 - val_loss: 14.7184 - val_accuracy: 0.8350\n",
            "Epoch 19/50\n",
            "2/2 [==============================] - 0s 29ms/step - loss: 0.0015 - accuracy: 0.9986 - val_loss: 14.8502 - val_accuracy: 0.8450\n",
            "Epoch 20/50\n",
            "2/2 [==============================] - 0s 26ms/step - loss: 2.8541e-04 - accuracy: 1.0000 - val_loss: 15.0473 - val_accuracy: 0.8500\n",
            "Epoch 21/50\n",
            "2/2 [==============================] - 0s 29ms/step - loss: 0.0016 - accuracy: 0.9986 - val_loss: 15.2490 - val_accuracy: 0.8500\n",
            "Epoch 22/50\n",
            "2/2 [==============================] - 0s 29ms/step - loss: 1.1867e-04 - accuracy: 1.0000 - val_loss: 15.4196 - val_accuracy: 0.8500\n",
            "Epoch 23/50\n",
            "2/2 [==============================] - 0s 29ms/step - loss: 8.3801e-06 - accuracy: 1.0000 - val_loss: 15.5665 - val_accuracy: 0.8600\n",
            "Epoch 24/50\n",
            "2/2 [==============================] - 0s 31ms/step - loss: 8.1596e-06 - accuracy: 1.0000 - val_loss: 15.6995 - val_accuracy: 0.8600\n",
            "Epoch 25/50\n",
            "2/2 [==============================] - 0s 30ms/step - loss: 2.4391e-05 - accuracy: 1.0000 - val_loss: 15.8142 - val_accuracy: 0.8600\n",
            "Epoch 26/50\n",
            "2/2 [==============================] - 0s 30ms/step - loss: 8.3263e-05 - accuracy: 1.0000 - val_loss: 15.9128 - val_accuracy: 0.8650\n",
            "Epoch 27/50\n",
            "2/2 [==============================] - 0s 31ms/step - loss: 1.5551e-04 - accuracy: 1.0000 - val_loss: 15.9999 - val_accuracy: 0.8650\n",
            "Epoch 28/50\n",
            "2/2 [==============================] - 0s 30ms/step - loss: 1.0285e-04 - accuracy: 1.0000 - val_loss: 16.0749 - val_accuracy: 0.8650\n",
            "Epoch 29/50\n",
            "2/2 [==============================] - 0s 29ms/step - loss: 1.1722e-04 - accuracy: 1.0000 - val_loss: 16.1356 - val_accuracy: 0.8600\n",
            "Epoch 30/50\n",
            "2/2 [==============================] - 0s 29ms/step - loss: 7.6473e-05 - accuracy: 1.0000 - val_loss: 16.1799 - val_accuracy: 0.8600\n",
            "Epoch 31/50\n",
            "2/2 [==============================] - 0s 26ms/step - loss: 4.1116e-05 - accuracy: 1.0000 - val_loss: 16.2091 - val_accuracy: 0.8600\n",
            "Epoch 32/50\n",
            "2/2 [==============================] - 0s 28ms/step - loss: 1.3117e-05 - accuracy: 1.0000 - val_loss: 16.2321 - val_accuracy: 0.8600\n",
            "Epoch 33/50\n",
            "2/2 [==============================] - 0s 30ms/step - loss: 8.2753e-06 - accuracy: 1.0000 - val_loss: 16.2507 - val_accuracy: 0.8600\n",
            "Epoch 34/50\n",
            "2/2 [==============================] - 0s 32ms/step - loss: 4.7616e-06 - accuracy: 1.0000 - val_loss: 16.2657 - val_accuracy: 0.8600\n",
            "Epoch 35/50\n",
            "2/2 [==============================] - 0s 130ms/step - loss: 5.0306e-06 - accuracy: 1.0000 - val_loss: 16.2778 - val_accuracy: 0.8600\n",
            "Epoch 36/50\n",
            "2/2 [==============================] - 0s 29ms/step - loss: 3.5634e-06 - accuracy: 1.0000 - val_loss: 16.2875 - val_accuracy: 0.8600\n",
            "Epoch 37/50\n",
            "2/2 [==============================] - 0s 27ms/step - loss: 3.4015e-06 - accuracy: 1.0000 - val_loss: 16.2955 - val_accuracy: 0.8600\n",
            "Epoch 38/50\n",
            "2/2 [==============================] - 0s 28ms/step - loss: 2.7252e-06 - accuracy: 1.0000 - val_loss: 16.3019 - val_accuracy: 0.8600\n",
            "Epoch 39/50\n",
            "2/2 [==============================] - 0s 29ms/step - loss: 2.4005e-06 - accuracy: 1.0000 - val_loss: 16.3070 - val_accuracy: 0.8600\n",
            "Epoch 40/50\n",
            "2/2 [==============================] - 0s 27ms/step - loss: 1.9160e-06 - accuracy: 1.0000 - val_loss: 16.3111 - val_accuracy: 0.8600\n",
            "Epoch 41/50\n",
            "2/2 [==============================] - 0s 33ms/step - loss: 2.0718e-06 - accuracy: 1.0000 - val_loss: 16.3143 - val_accuracy: 0.8600\n",
            "Epoch 42/50\n",
            "2/2 [==============================] - 0s 27ms/step - loss: 1.5178e-06 - accuracy: 1.0000 - val_loss: 16.3169 - val_accuracy: 0.8600\n",
            "Epoch 43/50\n",
            "2/2 [==============================] - 0s 28ms/step - loss: 1.7264e-06 - accuracy: 1.0000 - val_loss: 16.3189 - val_accuracy: 0.8600\n",
            "Epoch 44/50\n",
            "2/2 [==============================] - 0s 28ms/step - loss: 1.4055e-06 - accuracy: 1.0000 - val_loss: 16.3205 - val_accuracy: 0.8600\n",
            "Epoch 45/50\n",
            "2/2 [==============================] - 0s 28ms/step - loss: 1.1525e-06 - accuracy: 1.0000 - val_loss: 16.3217 - val_accuracy: 0.8600\n",
            "Epoch 46/50\n",
            "2/2 [==============================] - 0s 27ms/step - loss: 9.6236e-07 - accuracy: 1.0000 - val_loss: 16.3226 - val_accuracy: 0.8600\n",
            "Epoch 47/50\n",
            "2/2 [==============================] - 0s 33ms/step - loss: 1.1719e-06 - accuracy: 1.0000 - val_loss: 16.3233 - val_accuracy: 0.8600\n",
            "Epoch 48/50\n",
            "2/2 [==============================] - 0s 31ms/step - loss: 1.1768e-06 - accuracy: 1.0000 - val_loss: 16.3237 - val_accuracy: 0.8600\n",
            "Epoch 49/50\n",
            "2/2 [==============================] - 0s 28ms/step - loss: 1.1503e-06 - accuracy: 1.0000 - val_loss: 16.3240 - val_accuracy: 0.8600\n",
            "Epoch 50/50\n",
            "2/2 [==============================] - 0s 28ms/step - loss: 1.1395e-06 - accuracy: 1.0000 - val_loss: 16.3242 - val_accuracy: 0.8600\n"
          ],
          "name": "stdout"
        }
      ]
    },
    {
      "cell_type": "markdown",
      "metadata": {
        "id": "0UQy7RkO107_"
      },
      "source": [
        "Błąd treningowy i walidacyjny:"
      ]
    },
    {
      "cell_type": "code",
      "metadata": {
        "colab": {
          "base_uri": "https://localhost:8080/",
          "height": 295
        },
        "id": "gnE5ipdP107_",
        "outputId": "39f5a1f0-82df-436f-b2c0-2d54dc5efe67"
      },
      "source": [
        "import matplotlib.pyplot as plt\n",
        "history_dict = h.history\n",
        "loss_values = history_dict['loss']\n",
        "val_loss_values = history_dict['val_loss']\n",
        "epochs = range(1, len(loss_values) + 1)\n",
        "plt.plot(epochs, loss_values, 'bo', label='Training loss')\n",
        "plt.plot(epochs, val_loss_values, 'b', label='Validation loss')\n",
        "plt.title('Training and validation loss')\n",
        "plt.xlabel('Epochs')\n",
        "plt.ylabel('Loss')\n",
        "plt.legend()\n",
        "plt.show()"
      ],
      "execution_count": null,
      "outputs": [
        {
          "output_type": "display_data",
          "data": {
            "image/png": "[encoded data removed]",
            "text/plain": [
              "<Figure size 432x288 with 1 Axes>"
            ]
          },
          "metadata": {
            "tags": [],
            "needs_background": "light"
          }
        }
      ]
    },
    {
      "cell_type": "markdown",
      "metadata": {
        "id": "5h6JWo_T107y"
      },
      "source": [
        "# **Regularyzacja** - metoda 3"
      ]
    },
    {
      "cell_type": "markdown",
      "metadata": {
        "id": "SMniHuUD4UZl"
      },
      "source": [
        "Import **normy L2**:"
      ]
    },
    {
      "cell_type": "code",
      "metadata": {
        "id": "dKo7wQrm4bX7"
      },
      "source": [
        "from keras.regularizers import l2"
      ],
      "execution_count": null,
      "outputs": []
    },
    {
      "cell_type": "markdown",
      "metadata": {
        "id": "WW84W1fE5WSP"
      },
      "source": [
        "Danie **regularyzacji L2** do warstw:"
      ]
    },
    {
      "cell_type": "code",
      "metadata": {
        "colab": {
          "base_uri": "https://localhost:8080/"
        },
        "id": "7D4KxMQCI5a2",
        "outputId": "24d1f8a8-0ebf-431d-e733-1d7c11469d41"
      },
      "source": [
        "model = Sequential()\n",
        "model.add(Dense(units = 128, kernel_regularizer=l2(0.01), use_bias=True, input_shape=(784,), activation = \"relu\"))\n",
        "model.add(Dense(units = 10, kernel_regularizer=l2(0.01), use_bias=True, activation = \"softmax\"))\n",
        "\n",
        "opt = keras.optimizers.Adam(learning_rate = _learningRate)\n",
        "\n",
        "model.compile(loss='categorical_crossentropy',optimizer=opt,metrics=['accuracy'])\n",
        "model.summary()"
      ],
      "execution_count": null,
      "outputs": [
        {
          "output_type": "stream",
          "text": [
            "Model: \"sequential_4\"\n",
            "_________________________________________________________________\n",
            "Layer (type)                 Output Shape              Param #   \n",
            "=================================================================\n",
            "dense_8 (Dense)              (None, 128)               100480    \n",
            "_________________________________________________________________\n",
            "dense_9 (Dense)              (None, 10)                1290      \n",
            "=================================================================\n",
            "Total params: 101,770\n",
            "Trainable params: 101,770\n",
            "Non-trainable params: 0\n",
            "_________________________________________________________________\n"
          ],
          "name": "stdout"
        }
      ]
    },
    {
      "cell_type": "markdown",
      "metadata": {
        "id": "V55indK-4UZp"
      },
      "source": [
        "Pętla ucząca:"
      ]
    },
    {
      "cell_type": "code",
      "metadata": {
        "colab": {
          "base_uri": "https://localhost:8080/"
        },
        "id": "L4YLVYmW4UZp",
        "outputId": "166e892c-0a9e-4e3b-8e6b-f1c44dcfdeec"
      },
      "source": [
        "h = model.fit(train_images, train_labels, batch_size = _batchSize, epochs = _epochs, validation_split=0.2)"
      ],
      "execution_count": null,
      "outputs": [
        {
          "output_type": "stream",
          "text": [
            "Epoch 1/50\n",
            "2/2 [==============================] - 0s 152ms/step - loss: 182.5745 - accuracy: 0.0720 - val_loss: 103.4728 - val_accuracy: 0.1500\n",
            "Epoch 2/50\n",
            "2/2 [==============================] - 0s 32ms/step - loss: 92.1563 - accuracy: 0.1899 - val_loss: 63.9748 - val_accuracy: 0.3850\n",
            "Epoch 3/50\n",
            "2/2 [==============================] - 0s 33ms/step - loss: 56.8560 - accuracy: 0.4067 - val_loss: 49.6479 - val_accuracy: 0.4900\n",
            "Epoch 4/50\n",
            "2/2 [==============================] - 0s 32ms/step - loss: 39.3520 - accuracy: 0.4938 - val_loss: 44.0513 - val_accuracy: 0.5150\n",
            "Epoch 5/50\n",
            "2/2 [==============================] - 0s 30ms/step - loss: 28.4170 - accuracy: 0.5940 - val_loss: 32.3342 - val_accuracy: 0.5650\n",
            "Epoch 6/50\n",
            "2/2 [==============================] - 0s 30ms/step - loss: 17.8855 - accuracy: 0.7055 - val_loss: 22.3226 - val_accuracy: 0.6450\n",
            "Epoch 7/50\n",
            "2/2 [==============================] - 0s 28ms/step - loss: 11.6093 - accuracy: 0.7781 - val_loss: 20.3663 - val_accuracy: 0.6250\n",
            "Epoch 8/50\n",
            "2/2 [==============================] - 0s 28ms/step - loss: 10.4030 - accuracy: 0.8048 - val_loss: 20.7948 - val_accuracy: 0.6100\n",
            "Epoch 9/50\n",
            "2/2 [==============================] - 0s 31ms/step - loss: 10.3491 - accuracy: 0.8077 - val_loss: 19.6910 - val_accuracy: 0.6500\n",
            "Epoch 10/50\n",
            "2/2 [==============================] - 0s 33ms/step - loss: 9.0445 - accuracy: 0.8274 - val_loss: 17.7418 - val_accuracy: 0.6700\n",
            "Epoch 11/50\n",
            "2/2 [==============================] - 0s 37ms/step - loss: 7.4785 - accuracy: 0.8553 - val_loss: 16.2567 - val_accuracy: 0.7200\n",
            "Epoch 12/50\n",
            "2/2 [==============================] - 0s 33ms/step - loss: 6.3207 - accuracy: 0.8833 - val_loss: 15.3361 - val_accuracy: 0.7600\n",
            "Epoch 13/50\n",
            "2/2 [==============================] - 0s 31ms/step - loss: 5.4803 - accuracy: 0.9052 - val_loss: 14.8104 - val_accuracy: 0.7650\n",
            "Epoch 14/50\n",
            "2/2 [==============================] - 0s 30ms/step - loss: 4.7557 - accuracy: 0.9229 - val_loss: 14.3981 - val_accuracy: 0.7600\n",
            "Epoch 15/50\n",
            "2/2 [==============================] - 0s 31ms/step - loss: 4.2894 - accuracy: 0.9350 - val_loss: 14.0156 - val_accuracy: 0.7500\n",
            "Epoch 16/50\n",
            "2/2 [==============================] - 0s 30ms/step - loss: 3.7745 - accuracy: 0.9393 - val_loss: 13.9224 - val_accuracy: 0.7600\n",
            "Epoch 17/50\n",
            "2/2 [==============================] - 0s 30ms/step - loss: 3.5077 - accuracy: 0.9490 - val_loss: 13.9412 - val_accuracy: 0.7650\n",
            "Epoch 18/50\n",
            "2/2 [==============================] - 0s 31ms/step - loss: 3.0301 - accuracy: 0.9593 - val_loss: 13.9624 - val_accuracy: 0.7750\n",
            "Epoch 19/50\n",
            "2/2 [==============================] - 0s 32ms/step - loss: 2.9199 - accuracy: 0.9643 - val_loss: 13.9855 - val_accuracy: 0.7700\n",
            "Epoch 20/50\n",
            "2/2 [==============================] - 0s 32ms/step - loss: 2.7033 - accuracy: 0.9687 - val_loss: 13.9994 - val_accuracy: 0.7750\n",
            "Epoch 21/50\n",
            "2/2 [==============================] - 0s 39ms/step - loss: 2.4346 - accuracy: 0.9816 - val_loss: 14.0099 - val_accuracy: 0.7750\n",
            "Epoch 22/50\n",
            "2/2 [==============================] - 0s 35ms/step - loss: 2.3101 - accuracy: 0.9852 - val_loss: 14.0394 - val_accuracy: 0.7850\n",
            "Epoch 23/50\n",
            "2/2 [==============================] - 0s 140ms/step - loss: 2.2315 - accuracy: 0.9893 - val_loss: 14.0570 - val_accuracy: 0.7850\n",
            "Epoch 24/50\n",
            "2/2 [==============================] - 0s 35ms/step - loss: 2.1166 - accuracy: 0.9915 - val_loss: 14.0309 - val_accuracy: 0.7850\n",
            "Epoch 25/50\n",
            "2/2 [==============================] - 0s 33ms/step - loss: 2.1382 - accuracy: 0.9931 - val_loss: 13.9468 - val_accuracy: 0.7850\n",
            "Epoch 26/50\n",
            "2/2 [==============================] - 0s 31ms/step - loss: 2.0152 - accuracy: 0.9956 - val_loss: 13.8681 - val_accuracy: 0.7850\n",
            "Epoch 27/50\n",
            "2/2 [==============================] - 0s 30ms/step - loss: 2.0079 - accuracy: 0.9956 - val_loss: 13.8072 - val_accuracy: 0.7800\n",
            "Epoch 28/50\n",
            "2/2 [==============================] - 0s 32ms/step - loss: 1.9701 - accuracy: 0.9951 - val_loss: 13.7371 - val_accuracy: 0.7800\n",
            "Epoch 29/50\n",
            "2/2 [==============================] - 0s 30ms/step - loss: 1.9481 - accuracy: 0.9945 - val_loss: 13.6644 - val_accuracy: 0.7700\n",
            "Epoch 30/50\n",
            "2/2 [==============================] - 0s 34ms/step - loss: 1.9064 - accuracy: 0.9959 - val_loss: 13.6168 - val_accuracy: 0.7750\n",
            "Epoch 31/50\n",
            "2/2 [==============================] - 0s 35ms/step - loss: 1.8719 - accuracy: 0.9959 - val_loss: 13.5857 - val_accuracy: 0.7750\n",
            "Epoch 32/50\n",
            "2/2 [==============================] - 0s 39ms/step - loss: 1.8370 - accuracy: 0.9951 - val_loss: 13.5732 - val_accuracy: 0.7600\n",
            "Epoch 33/50\n",
            "2/2 [==============================] - 0s 33ms/step - loss: 1.8003 - accuracy: 0.9970 - val_loss: 13.5817 - val_accuracy: 0.7600\n",
            "Epoch 34/50\n",
            "2/2 [==============================] - 0s 30ms/step - loss: 1.7574 - accuracy: 0.9978 - val_loss: 13.6157 - val_accuracy: 0.7600\n",
            "Epoch 35/50\n",
            "2/2 [==============================] - 0s 30ms/step - loss: 1.7573 - accuracy: 0.9973 - val_loss: 13.6918 - val_accuracy: 0.7700\n",
            "Epoch 36/50\n",
            "2/2 [==============================] - 0s 30ms/step - loss: 1.7315 - accuracy: 0.9973 - val_loss: 13.7600 - val_accuracy: 0.7700\n",
            "Epoch 37/50\n",
            "2/2 [==============================] - 0s 31ms/step - loss: 1.7159 - accuracy: 0.9986 - val_loss: 13.8067 - val_accuracy: 0.7700\n",
            "Epoch 38/50\n",
            "2/2 [==============================] - 0s 30ms/step - loss: 1.7022 - accuracy: 0.9986 - val_loss: 13.8244 - val_accuracy: 0.7650\n",
            "Epoch 39/50\n",
            "2/2 [==============================] - 0s 32ms/step - loss: 1.6824 - accuracy: 0.9992 - val_loss: 13.8137 - val_accuracy: 0.7650\n",
            "Epoch 40/50\n",
            "2/2 [==============================] - 0s 30ms/step - loss: 1.6764 - accuracy: 1.0000 - val_loss: 13.7775 - val_accuracy: 0.7650\n",
            "Epoch 41/50\n",
            "2/2 [==============================] - 0s 30ms/step - loss: 1.6716 - accuracy: 1.0000 - val_loss: 13.7241 - val_accuracy: 0.7650\n",
            "Epoch 42/50\n",
            "2/2 [==============================] - 0s 30ms/step - loss: 1.6672 - accuracy: 1.0000 - val_loss: 13.6851 - val_accuracy: 0.7650\n",
            "Epoch 43/50\n",
            "2/2 [==============================] - 0s 31ms/step - loss: 1.6631 - accuracy: 1.0000 - val_loss: 13.6652 - val_accuracy: 0.7650\n",
            "Epoch 44/50\n",
            "2/2 [==============================] - 0s 30ms/step - loss: 1.6591 - accuracy: 1.0000 - val_loss: 13.6498 - val_accuracy: 0.7650\n",
            "Epoch 45/50\n",
            "2/2 [==============================] - 0s 35ms/step - loss: 1.6554 - accuracy: 1.0000 - val_loss: 13.6365 - val_accuracy: 0.7650\n",
            "Epoch 46/50\n",
            "2/2 [==============================] - 0s 34ms/step - loss: 1.6518 - accuracy: 1.0000 - val_loss: 13.6250 - val_accuracy: 0.7650\n",
            "Epoch 47/50\n",
            "2/2 [==============================] - 0s 31ms/step - loss: 1.6483 - accuracy: 1.0000 - val_loss: 13.6130 - val_accuracy: 0.7650\n",
            "Epoch 48/50\n",
            "2/2 [==============================] - 0s 34ms/step - loss: 1.6449 - accuracy: 1.0000 - val_loss: 13.5994 - val_accuracy: 0.7650\n",
            "Epoch 49/50\n",
            "2/2 [==============================] - 0s 34ms/step - loss: 1.6416 - accuracy: 1.0000 - val_loss: 13.5859 - val_accuracy: 0.7650\n",
            "Epoch 50/50\n",
            "2/2 [==============================] - 0s 34ms/step - loss: 1.6384 - accuracy: 1.0000 - val_loss: 13.5738 - val_accuracy: 0.7650\n"
          ],
          "name": "stdout"
        }
      ]
    },
    {
      "cell_type": "markdown",
      "metadata": {
        "id": "0cJPyqSk4UZq"
      },
      "source": [
        "Błąd treningowy i walidacyjny:"
      ]
    },
    {
      "cell_type": "code",
      "metadata": {
        "colab": {
          "base_uri": "https://localhost:8080/",
          "height": 295
        },
        "id": "RSodh3Q84UZr",
        "outputId": "e6bfac02-6b48-4dca-99f4-18ff131fe6c7"
      },
      "source": [
        "import matplotlib.pyplot as plt\n",
        "history_dict = h.history\n",
        "loss_values = history_dict['loss']\n",
        "val_loss_values = history_dict['val_loss']\n",
        "epochs = range(1, len(loss_values) + 1)\n",
        "plt.plot(epochs, loss_values, 'bo', label='Training loss')\n",
        "plt.plot(epochs, val_loss_values, 'b', label='Validation loss')\n",
        "plt.title('Training and validation loss')\n",
        "plt.xlabel('Epochs')\n",
        "plt.ylabel('Loss')\n",
        "plt.legend()\n",
        "plt.show()"
      ],
      "execution_count": null,
      "outputs": [
        {
          "output_type": "display_data",
          "data": {
            "image/png": "[encoded data removed]",
            "text/plain": [
              "<Figure size 432x288 with 1 Axes>"
            ]
          },
          "metadata": {
            "tags": [],
            "needs_background": "light"
          }
        }
      ]
    },
    {
      "cell_type": "markdown",
      "metadata": {
        "id": "4Zts_Vam6y0T"
      },
      "source": [
        "# **Regularyzacja** - metoda 4"
      ]
    },
    {
      "cell_type": "markdown",
      "metadata": {
        "id": "ZsLsisTQ6y0W"
      },
      "source": [
        "Import **warstwy Dropout**:"
      ]
    },
    {
      "cell_type": "code",
      "metadata": {
        "id": "2iTDyFWA6y0X"
      },
      "source": [
        "from keras.layers import Dropout"
      ],
      "execution_count": null,
      "outputs": []
    },
    {
      "cell_type": "markdown",
      "metadata": {
        "id": "ovOYgkuQ6y0X"
      },
      "source": [
        "Danie warstw **Dropout**:"
      ]
    },
    {
      "cell_type": "code",
      "metadata": {
        "colab": {
          "base_uri": "https://localhost:8080/"
        },
        "id": "WhHgYE9fKJkc",
        "outputId": "3b94f2d3-2460-4106-cb40-55aaa4ffebb2"
      },
      "source": [
        "model = Sequential()\n",
        "model.add(Dense(units = 128, use_bias=True, input_shape=(784,), activation = \"relu\"))\n",
        "model.add(Dropout(0.4))\n",
        "model.add(Dense(units = 10, use_bias=True, activation = \"softmax\"))\n",
        "\n",
        "opt = keras.optimizers.Adam(learning_rate = _learningRate)\n",
        "\n",
        "model.compile(loss='categorical_crossentropy',optimizer=opt,metrics=['accuracy'])\n",
        "model.summary()"
      ],
      "execution_count": null,
      "outputs": [
        {
          "output_type": "stream",
          "text": [
            "Model: \"sequential_5\"\n",
            "_________________________________________________________________\n",
            "Layer (type)                 Output Shape              Param #   \n",
            "=================================================================\n",
            "dense_10 (Dense)             (None, 128)               100480    \n",
            "_________________________________________________________________\n",
            "dropout (Dropout)            (None, 128)               0         \n",
            "_________________________________________________________________\n",
            "dense_11 (Dense)             (None, 10)                1290      \n",
            "=================================================================\n",
            "Total params: 101,770\n",
            "Trainable params: 101,770\n",
            "Non-trainable params: 0\n",
            "_________________________________________________________________\n"
          ],
          "name": "stdout"
        }
      ]
    },
    {
      "cell_type": "markdown",
      "metadata": {
        "id": "2QSb77x16y0Y"
      },
      "source": [
        "Pętla ucząca:"
      ]
    },
    {
      "cell_type": "code",
      "metadata": {
        "colab": {
          "base_uri": "https://localhost:8080/"
        },
        "id": "LtWmIrzr6y0Y",
        "outputId": "5f55cf46-bdfb-4bdd-e6de-ef76e8a40e19"
      },
      "source": [
        "h = model.fit(train_images, train_labels, batch_size = _batchSize, epochs = _epochs, validation_split=0.2)"
      ],
      "execution_count": null,
      "outputs": [
        {
          "output_type": "stream",
          "text": [
            "Epoch 1/50\n",
            "2/2 [==============================] - 0s 151ms/step - loss: 212.6788 - accuracy: 0.1134 - val_loss: 76.0407 - val_accuracy: 0.1750\n",
            "Epoch 2/50\n",
            "2/2 [==============================] - 0s 31ms/step - loss: 121.0504 - accuracy: 0.1557 - val_loss: 56.1110 - val_accuracy: 0.3250\n",
            "Epoch 3/50\n",
            "2/2 [==============================] - 0s 33ms/step - loss: 86.0381 - accuracy: 0.2431 - val_loss: 39.9557 - val_accuracy: 0.4500\n",
            "Epoch 4/50\n",
            "2/2 [==============================] - 0s 34ms/step - loss: 62.1256 - accuracy: 0.3562 - val_loss: 27.0061 - val_accuracy: 0.5700\n",
            "Epoch 5/50\n",
            "2/2 [==============================] - 0s 31ms/step - loss: 44.5629 - accuracy: 0.4683 - val_loss: 18.4376 - val_accuracy: 0.6650\n",
            "Epoch 6/50\n",
            "2/2 [==============================] - 0s 30ms/step - loss: 30.2771 - accuracy: 0.5765 - val_loss: 14.2265 - val_accuracy: 0.7150\n",
            "Epoch 7/50\n",
            "2/2 [==============================] - 0s 144ms/step - loss: 22.2822 - accuracy: 0.6258 - val_loss: 12.4569 - val_accuracy: 0.7200\n",
            "Epoch 8/50\n",
            "2/2 [==============================] - 0s 29ms/step - loss: 17.9311 - accuracy: 0.6541 - val_loss: 11.2822 - val_accuracy: 0.7450\n",
            "Epoch 9/50\n",
            "2/2 [==============================] - 0s 30ms/step - loss: 15.9923 - accuracy: 0.7076 - val_loss: 9.9920 - val_accuracy: 0.7700\n",
            "Epoch 10/50\n",
            "2/2 [==============================] - 0s 32ms/step - loss: 15.1913 - accuracy: 0.6985 - val_loss: 8.7340 - val_accuracy: 0.7850\n",
            "Epoch 11/50\n",
            "2/2 [==============================] - 0s 31ms/step - loss: 10.9761 - accuracy: 0.7373 - val_loss: 7.7133 - val_accuracy: 0.7950\n",
            "Epoch 12/50\n",
            "2/2 [==============================] - 0s 32ms/step - loss: 9.3083 - accuracy: 0.7543 - val_loss: 6.9668 - val_accuracy: 0.7950\n",
            "Epoch 13/50\n",
            "2/2 [==============================] - 0s 31ms/step - loss: 8.2596 - accuracy: 0.7455 - val_loss: 6.3923 - val_accuracy: 0.8050\n",
            "Epoch 14/50\n",
            "2/2 [==============================] - 0s 34ms/step - loss: 6.7616 - accuracy: 0.7778 - val_loss: 6.0174 - val_accuracy: 0.8150\n",
            "Epoch 15/50\n",
            "2/2 [==============================] - 0s 33ms/step - loss: 6.2531 - accuracy: 0.7805 - val_loss: 5.7741 - val_accuracy: 0.8100\n",
            "Epoch 16/50\n",
            "2/2 [==============================] - 0s 27ms/step - loss: 4.7923 - accuracy: 0.8040 - val_loss: 5.5747 - val_accuracy: 0.8100\n",
            "Epoch 17/50\n",
            "2/2 [==============================] - 0s 27ms/step - loss: 4.9788 - accuracy: 0.8114 - val_loss: 5.3100 - val_accuracy: 0.8100\n",
            "Epoch 18/50\n",
            "2/2 [==============================] - 0s 38ms/step - loss: 4.7585 - accuracy: 0.7977 - val_loss: 5.0703 - val_accuracy: 0.8050\n",
            "Epoch 19/50\n",
            "2/2 [==============================] - 0s 33ms/step - loss: 4.2654 - accuracy: 0.8165 - val_loss: 4.8705 - val_accuracy: 0.8050\n",
            "Epoch 20/50\n",
            "2/2 [==============================] - 0s 34ms/step - loss: 3.7970 - accuracy: 0.8180 - val_loss: 4.7151 - val_accuracy: 0.7950\n",
            "Epoch 21/50\n",
            "2/2 [==============================] - 0s 33ms/step - loss: 2.8567 - accuracy: 0.8314 - val_loss: 4.5875 - val_accuracy: 0.8000\n",
            "Epoch 22/50\n",
            "2/2 [==============================] - 0s 31ms/step - loss: 2.4712 - accuracy: 0.8411 - val_loss: 4.4564 - val_accuracy: 0.7900\n",
            "Epoch 23/50\n",
            "2/2 [==============================] - 0s 32ms/step - loss: 2.8462 - accuracy: 0.8402 - val_loss: 4.2920 - val_accuracy: 0.7900\n",
            "Epoch 24/50\n",
            "2/2 [==============================] - 0s 30ms/step - loss: 2.9263 - accuracy: 0.8229 - val_loss: 4.1888 - val_accuracy: 0.7850\n",
            "Epoch 25/50\n",
            "2/2 [==============================] - 0s 38ms/step - loss: 2.0826 - accuracy: 0.8435 - val_loss: 4.0990 - val_accuracy: 0.7850\n",
            "Epoch 26/50\n",
            "2/2 [==============================] - 0s 35ms/step - loss: 1.9704 - accuracy: 0.8573 - val_loss: 4.0010 - val_accuracy: 0.7900\n",
            "Epoch 27/50\n",
            "2/2 [==============================] - 0s 32ms/step - loss: 2.0797 - accuracy: 0.8621 - val_loss: 3.9257 - val_accuracy: 0.8000\n",
            "Epoch 28/50\n",
            "2/2 [==============================] - 0s 31ms/step - loss: 2.0512 - accuracy: 0.8498 - val_loss: 3.8828 - val_accuracy: 0.8100\n",
            "Epoch 29/50\n",
            "2/2 [==============================] - 0s 34ms/step - loss: 1.6995 - accuracy: 0.8679 - val_loss: 3.8546 - val_accuracy: 0.8000\n",
            "Epoch 30/50\n",
            "2/2 [==============================] - 0s 35ms/step - loss: 1.9682 - accuracy: 0.8541 - val_loss: 3.8619 - val_accuracy: 0.8000\n",
            "Epoch 31/50\n",
            "2/2 [==============================] - 0s 32ms/step - loss: 1.6694 - accuracy: 0.8501 - val_loss: 3.8332 - val_accuracy: 0.7800\n",
            "Epoch 32/50\n",
            "2/2 [==============================] - 0s 32ms/step - loss: 1.5102 - accuracy: 0.8588 - val_loss: 3.7873 - val_accuracy: 0.7900\n",
            "Epoch 33/50\n",
            "2/2 [==============================] - 0s 30ms/step - loss: 1.2941 - accuracy: 0.8783 - val_loss: 3.7483 - val_accuracy: 0.7900\n",
            "Epoch 34/50\n",
            "2/2 [==============================] - 0s 30ms/step - loss: 1.5937 - accuracy: 0.8480 - val_loss: 3.7207 - val_accuracy: 0.8000\n",
            "Epoch 35/50\n",
            "2/2 [==============================] - 0s 35ms/step - loss: 0.9679 - accuracy: 0.8885 - val_loss: 3.6912 - val_accuracy: 0.8050\n",
            "Epoch 36/50\n",
            "2/2 [==============================] - 0s 33ms/step - loss: 1.0235 - accuracy: 0.8792 - val_loss: 3.6614 - val_accuracy: 0.8100\n",
            "Epoch 37/50\n",
            "2/2 [==============================] - 0s 31ms/step - loss: 0.8671 - accuracy: 0.8961 - val_loss: 3.6539 - val_accuracy: 0.8150\n",
            "Epoch 38/50\n",
            "2/2 [==============================] - 0s 32ms/step - loss: 1.0135 - accuracy: 0.8762 - val_loss: 3.6305 - val_accuracy: 0.8150\n",
            "Epoch 39/50\n",
            "2/2 [==============================] - 0s 30ms/step - loss: 0.9338 - accuracy: 0.8792 - val_loss: 3.6053 - val_accuracy: 0.8150\n",
            "Epoch 40/50\n",
            "2/2 [==============================] - 0s 30ms/step - loss: 0.8957 - accuracy: 0.8929 - val_loss: 3.5781 - val_accuracy: 0.8100\n",
            "Epoch 41/50\n",
            "2/2 [==============================] - 0s 36ms/step - loss: 1.0400 - accuracy: 0.8932 - val_loss: 3.5250 - val_accuracy: 0.8050\n",
            "Epoch 42/50\n",
            "2/2 [==============================] - 0s 31ms/step - loss: 0.8284 - accuracy: 0.8936 - val_loss: 3.4623 - val_accuracy: 0.8100\n",
            "Epoch 43/50\n",
            "2/2 [==============================] - 0s 29ms/step - loss: 0.8534 - accuracy: 0.8814 - val_loss: 3.4258 - val_accuracy: 0.8100\n",
            "Epoch 44/50\n",
            "2/2 [==============================] - 0s 30ms/step - loss: 0.8699 - accuracy: 0.8710 - val_loss: 3.3920 - val_accuracy: 0.8150\n",
            "Epoch 45/50\n",
            "2/2 [==============================] - 0s 30ms/step - loss: 0.6722 - accuracy: 0.8860 - val_loss: 3.3796 - val_accuracy: 0.8150\n",
            "Epoch 46/50\n",
            "2/2 [==============================] - 0s 29ms/step - loss: 0.9089 - accuracy: 0.8841 - val_loss: 3.3428 - val_accuracy: 0.8250\n",
            "Epoch 47/50\n",
            "2/2 [==============================] - 0s 31ms/step - loss: 0.7165 - accuracy: 0.9034 - val_loss: 3.3052 - val_accuracy: 0.8300\n",
            "Epoch 48/50\n",
            "2/2 [==============================] - 0s 34ms/step - loss: 0.5119 - accuracy: 0.9170 - val_loss: 3.2606 - val_accuracy: 0.8450\n",
            "Epoch 49/50\n",
            "2/2 [==============================] - 0s 38ms/step - loss: 0.6474 - accuracy: 0.9033 - val_loss: 3.2368 - val_accuracy: 0.8500\n",
            "Epoch 50/50\n",
            "2/2 [==============================] - 0s 34ms/step - loss: 0.7001 - accuracy: 0.8916 - val_loss: 3.2006 - val_accuracy: 0.8500\n"
          ],
          "name": "stdout"
        }
      ]
    },
    {
      "cell_type": "markdown",
      "metadata": {
        "id": "aJwThKLV6y0Z"
      },
      "source": [
        "Błąd treningowy i walidacyjny:"
      ]
    },
    {
      "cell_type": "code",
      "metadata": {
        "colab": {
          "base_uri": "https://localhost:8080/",
          "height": 295
        },
        "id": "j6yfhyp06y0Z",
        "outputId": "69a4dfa8-45a5-4906-fb0e-51e14c37c9e7"
      },
      "source": [
        "import matplotlib.pyplot as plt\n",
        "history_dict = h.history\n",
        "loss_values = history_dict['loss']\n",
        "val_loss_values = history_dict['val_loss']\n",
        "epochs = range(1, len(loss_values) + 1)\n",
        "plt.plot(epochs, loss_values, 'bo', label='Training loss')\n",
        "plt.plot(epochs, val_loss_values, 'b', label='Validation loss')\n",
        "plt.title('Training and validation loss')\n",
        "plt.xlabel('Epochs')\n",
        "plt.ylabel('Loss')\n",
        "plt.legend()\n",
        "plt.show()"
      ],
      "execution_count": null,
      "outputs": [
        {
          "output_type": "display_data",
          "data": {
            "image/png": "[encoded data removed]",
            "text/plain": [
              "<Figure size 432x288 with 1 Axes>"
            ]
          },
          "metadata": {
            "tags": [],
            "needs_background": "light"
          }
        }
      ]
    }
  ]
}