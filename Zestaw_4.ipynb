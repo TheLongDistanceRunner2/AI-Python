{
  "nbformat": 4,
  "nbformat_minor": 0,
  "metadata": {
    "colab": {
      "name": "Zestaw 4.ipynb",
      "provenance": [],
      "collapsed_sections": []
    },
    "kernelspec": {
      "name": "python3",
      "display_name": "Python 3"
    }
  },
  "cells": [
    {
      "cell_type": "markdown",
      "metadata": {
        "id": "kx-remMJZi9i"
      },
      "source": [
        "**Zestaw 4:**\n",
        "\n",
        "**Zad 1:**"
      ]
    },
    {
      "cell_type": "code",
      "metadata": {
        "id": "TzUq8JcUZiRu"
      },
      "source": [
        "import tensorflow as tf"
      ],
      "execution_count": null,
      "outputs": []
    },
    {
      "cell_type": "code",
      "metadata": {
        "colab": {
          "base_uri": "https://localhost:8080/"
        },
        "id": "CjyCfwhGZxYh",
        "outputId": "4cd8bede-39ce-443c-bbea-2d19cdc60090"
      },
      "source": [
        "A = tf.constant([[2.0, -3.0, 1.0], [4.0, 5.0, 0.0], [2.0, -1.0, 3.0]], dtype=tf.float32)\n",
        "B = tf.constant([3.0, -4.0, -2.0], dtype=tf.float64) # z określeniem typu \n",
        "C = tf.constant([[2, 4], [-2, 1], [5, 0]], dtype=tf.int32) # z określeniem typu \n",
        "D = tf.constant([[2], [6], [8]]) # z określeniem typu \n",
        "print(A, \"\\n\")\n",
        "print(B, \"\\n\")\n",
        "print(C, \"\\n\")\n",
        "print(D, \"\\n\")"
      ],
      "execution_count": null,
      "outputs": [
        {
          "output_type": "stream",
          "text": [
            "tf.Tensor(\n",
            "[[ 2. -3.  1.]\n",
            " [ 4.  5.  0.]\n",
            " [ 2. -1.  3.]], shape=(3, 3), dtype=float32) \n",
            "\n",
            "tf.Tensor([ 3. -4. -2.], shape=(3,), dtype=float64) \n",
            "\n",
            "tf.Tensor(\n",
            "[[ 2  4]\n",
            " [-2  1]\n",
            " [ 5  0]], shape=(3, 2), dtype=int32) \n",
            "\n",
            "tf.Tensor(\n",
            "[[2]\n",
            " [6]\n",
            " [8]], shape=(3, 1), dtype=int32) \n",
            "\n"
          ],
          "name": "stdout"
        }
      ]
    },
    {
      "cell_type": "code",
      "metadata": {
        "colab": {
          "base_uri": "https://localhost:8080/"
        },
        "id": "hx4ebj9_bJcJ",
        "outputId": "be437ff1-3c02-48dd-b7c2-39b55ed9c4bc"
      },
      "source": [
        "print(A.shape)\n",
        "print(B.shape)\n",
        "print(C.shape)"
      ],
      "execution_count": null,
      "outputs": [
        {
          "output_type": "stream",
          "text": [
            "(3, 3)\n",
            "(3,)\n",
            "(3, 2)\n"
          ],
          "name": "stdout"
        }
      ]
    },
    {
      "cell_type": "code",
      "metadata": {
        "colab": {
          "base_uri": "https://localhost:8080/"
        },
        "id": "G4Cdtta5bco_",
        "outputId": "e98b5b14-eb99-451c-eaea-4ab049f5ce18"
      },
      "source": [
        "print(A.dtype)\n",
        "print(B.dtype)\n",
        "print(C.dtype)"
      ],
      "execution_count": null,
      "outputs": [
        {
          "output_type": "stream",
          "text": [
            "<dtype: 'float32'>\n",
            "<dtype: 'float64'>\n",
            "<dtype: 'int32'>\n"
          ],
          "name": "stdout"
        }
      ]
    },
    {
      "cell_type": "code",
      "metadata": {
        "colab": {
          "base_uri": "https://localhost:8080/"
        },
        "id": "u4ECIbuYblx2",
        "outputId": "0fb7649b-abe7-4539-ca53-a8d090d8931e"
      },
      "source": [
        "A_prim = tf.cast(A,tf.int32)\n",
        "print(A_prim.dtype)"
      ],
      "execution_count": null,
      "outputs": [
        {
          "output_type": "stream",
          "text": [
            "<dtype: 'int32'>\n"
          ],
          "name": "stdout"
        }
      ]
    },
    {
      "cell_type": "markdown",
      "metadata": {
        "id": "uYaQxhhpchoM"
      },
      "source": [
        "Operacja tf.matmul możliwa jest dla tensorów, które spełniają 2 warunki:\n",
        "\n",
        "a) ich wymiary wewnętrzne się zgadzają (ilośc kolumn pierwszego tensora = ilość wierszy drugiego tensora)\n",
        "\n",
        "b) ich typy są zgodne (gdy nie podajemy typu, to dla liczb całkowitych domyślny typ to int32)"
      ]
    },
    {
      "cell_type": "code",
      "metadata": {
        "colab": {
          "base_uri": "https://localhost:8080/"
        },
        "id": "NF63ghzgcxNY",
        "outputId": "d79816d0-b981-4767-b88d-e7c50572bd12"
      },
      "source": [
        "w1 = tf.matmul(A_prim,D)\n",
        "w1"
      ],
      "execution_count": null,
      "outputs": [
        {
          "output_type": "execute_result",
          "data": {
            "text/plain": [
              "<tf.Tensor: shape=(3, 1), dtype=int32, numpy=\n",
              "array([[-6],\n",
              "       [38],\n",
              "       [22]], dtype=int32)>"
            ]
          },
          "metadata": {
            "tags": []
          },
          "execution_count": 23
        }
      ]
    },
    {
      "cell_type": "code",
      "metadata": {
        "colab": {
          "base_uri": "https://localhost:8080/"
        },
        "id": "INIlwldyd2zz",
        "outputId": "c7853284-0fcb-4ea6-8c56-26cfe425f4b9"
      },
      "source": [
        "w2 = tf.matmul(A,A)\n",
        "w2"
      ],
      "execution_count": null,
      "outputs": [
        {
          "output_type": "execute_result",
          "data": {
            "text/plain": [
              "<tf.Tensor: shape=(3, 3), dtype=float32, numpy=\n",
              "array([[ -6., -22.,   5.],\n",
              "       [ 28.,  13.,   4.],\n",
              "       [  6., -14.,  11.]], dtype=float32)>"
            ]
          },
          "metadata": {
            "tags": []
          },
          "execution_count": 25
        }
      ]
    },
    {
      "cell_type": "code",
      "metadata": {
        "colab": {
          "base_uri": "https://localhost:8080/"
        },
        "id": "VHxgvVvSf5WQ",
        "outputId": "dd560952-e7c6-4fd5-bd20-28cbac84bbf8"
      },
      "source": [
        "w3 = tf.matmul(A_prim, C)\n",
        "w3"
      ],
      "execution_count": null,
      "outputs": [
        {
          "output_type": "execute_result",
          "data": {
            "text/plain": [
              "<tf.Tensor: shape=(3, 2), dtype=int32, numpy=\n",
              "array([[15,  5],\n",
              "       [-2, 21],\n",
              "       [21,  7]], dtype=int32)>"
            ]
          },
          "metadata": {
            "tags": []
          },
          "execution_count": 32
        }
      ]
    },
    {
      "cell_type": "code",
      "metadata": {
        "colab": {
          "base_uri": "https://localhost:8080/"
        },
        "id": "rvgl88V_gi3B",
        "outputId": "a181528f-f352-4a8d-808d-916c6c0132a7"
      },
      "source": [
        "w4 = tf.matmul(A_prim, D)\n",
        "w4"
      ],
      "execution_count": null,
      "outputs": [
        {
          "output_type": "execute_result",
          "data": {
            "text/plain": [
              "<tf.Tensor: shape=(3, 1), dtype=int32, numpy=\n",
              "array([[-6],\n",
              "       [38],\n",
              "       [22]], dtype=int32)>"
            ]
          },
          "metadata": {
            "tags": []
          },
          "execution_count": 33
        }
      ]
    },
    {
      "cell_type": "markdown",
      "metadata": {
        "id": "H21aqcPecL0a"
      },
      "source": [
        "================================================================================"
      ]
    },
    {
      "cell_type": "code",
      "metadata": {
        "colab": {
          "base_uri": "https://localhost:8080/"
        },
        "id": "y_XsQNfYbIy4",
        "outputId": "7da142a6-a6ab-4911-d9e4-2e49c2b6cd0a"
      },
      "source": [
        "w5 = tf.multiply(A,A)\n",
        "w5"
      ],
      "execution_count": null,
      "outputs": [
        {
          "output_type": "execute_result",
          "data": {
            "text/plain": [
              "<tf.Tensor: shape=(3, 3), dtype=float32, numpy=\n",
              "array([[ 4.,  9.,  1.],\n",
              "       [16., 25.,  0.],\n",
              "       [ 4.,  1.,  9.]], dtype=float32)>"
            ]
          },
          "metadata": {
            "tags": []
          },
          "execution_count": 10
        }
      ]
    },
    {
      "cell_type": "code",
      "metadata": {
        "colab": {
          "base_uri": "https://localhost:8080/"
        },
        "id": "aSw_DJB5bhdZ",
        "outputId": "28bf2634-bb75-4805-eb16-34994c17746b"
      },
      "source": [
        "w6 = tf.multiply(B,B)\n",
        "w6"
      ],
      "execution_count": null,
      "outputs": [
        {
          "output_type": "execute_result",
          "data": {
            "text/plain": [
              "<tf.Tensor: shape=(3,), dtype=float64, numpy=array([ 9., 16.,  4.])>"
            ]
          },
          "metadata": {
            "tags": []
          },
          "execution_count": 13
        }
      ]
    },
    {
      "cell_type": "code",
      "metadata": {
        "colab": {
          "base_uri": "https://localhost:8080/"
        },
        "id": "TyYqfhaTbr_C",
        "outputId": "e77860a9-34e2-4e70-d484-e70c1265361a"
      },
      "source": [
        "w7 = tf.multiply(C,C)\n",
        "w7"
      ],
      "execution_count": null,
      "outputs": [
        {
          "output_type": "execute_result",
          "data": {
            "text/plain": [
              "<tf.Tensor: shape=(3, 2), dtype=int32, numpy=\n",
              "array([[ 4, 16],\n",
              "       [ 4,  1],\n",
              "       [25,  0]], dtype=int32)>"
            ]
          },
          "metadata": {
            "tags": []
          },
          "execution_count": 18
        }
      ]
    },
    {
      "cell_type": "code",
      "metadata": {
        "colab": {
          "base_uri": "https://localhost:8080/"
        },
        "id": "VUAPeEqmb1-2",
        "outputId": "e1b8adff-a61b-41af-a3b8-8d42e243a790"
      },
      "source": [
        "w8 = tf.multiply(C, D)\n",
        "w8"
      ],
      "execution_count": null,
      "outputs": [
        {
          "output_type": "execute_result",
          "data": {
            "text/plain": [
              "<tf.Tensor: shape=(3, 2), dtype=int32, numpy=\n",
              "array([[  4,   8],\n",
              "       [-12,   6],\n",
              "       [ 40,   0]], dtype=int32)>"
            ]
          },
          "metadata": {
            "tags": []
          },
          "execution_count": 21
        }
      ]
    },
    {
      "cell_type": "code",
      "metadata": {
        "colab": {
          "base_uri": "https://localhost:8080/"
        },
        "id": "3yRx4G3Sb5l6",
        "outputId": "519fe6ac-5e99-4ed9-e80e-8d7f988cf01a"
      },
      "source": [
        "w9 = tf.multiply(D, C)\n",
        "w9"
      ],
      "execution_count": null,
      "outputs": [
        {
          "output_type": "execute_result",
          "data": {
            "text/plain": [
              "<tf.Tensor: shape=(3, 2), dtype=int32, numpy=\n",
              "array([[  4,   8],\n",
              "       [-12,   6],\n",
              "       [ 40,   0]], dtype=int32)>"
            ]
          },
          "metadata": {
            "tags": []
          },
          "execution_count": 23
        }
      ]
    },
    {
      "cell_type": "code",
      "metadata": {
        "colab": {
          "base_uri": "https://localhost:8080/"
        },
        "id": "vHSzm-2BcFcB",
        "outputId": "800ca547-1efe-4544-e734-f850891d6767"
      },
      "source": [
        "w10 = tf.multiply(D, D)\n",
        "w10"
      ],
      "execution_count": null,
      "outputs": [
        {
          "output_type": "execute_result",
          "data": {
            "text/plain": [
              "<tf.Tensor: shape=(3, 1), dtype=int32, numpy=\n",
              "array([[ 4],\n",
              "       [36],\n",
              "       [64]], dtype=int32)>"
            ]
          },
          "metadata": {
            "tags": []
          },
          "execution_count": 24
        }
      ]
    },
    {
      "cell_type": "markdown",
      "metadata": {
        "id": "68P6pKPxcW9B"
      },
      "source": [
        "================================================================================"
      ]
    },
    {
      "cell_type": "code",
      "metadata": {
        "colab": {
          "base_uri": "https://localhost:8080/"
        },
        "id": "OhBkP9TwcZyL",
        "outputId": "8b269b6d-9f88-496c-b5d0-39502d48880c"
      },
      "source": [
        "w11 = tf.add(A,A)\n",
        "w11"
      ],
      "execution_count": null,
      "outputs": [
        {
          "output_type": "execute_result",
          "data": {
            "text/plain": [
              "<tf.Tensor: shape=(3, 3), dtype=float32, numpy=\n",
              "array([[ 4., -6.,  2.],\n",
              "       [ 8., 10.,  0.],\n",
              "       [ 4., -2.,  6.]], dtype=float32)>"
            ]
          },
          "metadata": {
            "tags": []
          },
          "execution_count": 26
        }
      ]
    },
    {
      "cell_type": "code",
      "metadata": {
        "colab": {
          "base_uri": "https://localhost:8080/"
        },
        "id": "DQVLQ8xpcsS6",
        "outputId": "a43cca95-2e00-48b5-e05a-75b25a8ad54a"
      },
      "source": [
        "w12 = tf.add(B,B)\n",
        "w12"
      ],
      "execution_count": null,
      "outputs": [
        {
          "output_type": "execute_result",
          "data": {
            "text/plain": [
              "<tf.Tensor: shape=(3,), dtype=float64, numpy=array([ 6., -8., -4.])>"
            ]
          },
          "metadata": {
            "tags": []
          },
          "execution_count": 31
        }
      ]
    },
    {
      "cell_type": "code",
      "metadata": {
        "colab": {
          "base_uri": "https://localhost:8080/"
        },
        "id": "_aJ6-j9xdB0Z",
        "outputId": "3adff10a-294f-4a08-ebc0-61d53f79ec8c"
      },
      "source": [
        "w13 = tf.add(C,C)\n",
        "w13"
      ],
      "execution_count": null,
      "outputs": [
        {
          "output_type": "execute_result",
          "data": {
            "text/plain": [
              "<tf.Tensor: shape=(3, 2), dtype=int32, numpy=\n",
              "array([[ 4,  8],\n",
              "       [-4,  2],\n",
              "       [10,  0]], dtype=int32)>"
            ]
          },
          "metadata": {
            "tags": []
          },
          "execution_count": 36
        }
      ]
    },
    {
      "cell_type": "code",
      "metadata": {
        "colab": {
          "base_uri": "https://localhost:8080/"
        },
        "id": "wbC47rZEdK4w",
        "outputId": "3dbe0ae0-4013-44bf-b4c6-d81e88648e17"
      },
      "source": [
        "w14 = tf.add(C,D)\n",
        "w14"
      ],
      "execution_count": null,
      "outputs": [
        {
          "output_type": "execute_result",
          "data": {
            "text/plain": [
              "<tf.Tensor: shape=(3, 2), dtype=int32, numpy=\n",
              "array([[ 4,  6],\n",
              "       [ 4,  7],\n",
              "       [13,  8]], dtype=int32)>"
            ]
          },
          "metadata": {
            "tags": []
          },
          "execution_count": 37
        }
      ]
    },
    {
      "cell_type": "code",
      "metadata": {
        "colab": {
          "base_uri": "https://localhost:8080/"
        },
        "id": "dfWkXiY9dPrN",
        "outputId": "b69b52e0-eae1-4876-c562-108c6286a4c2"
      },
      "source": [
        "w15 = tf.add(D, C)\n",
        "w15"
      ],
      "execution_count": null,
      "outputs": [
        {
          "output_type": "execute_result",
          "data": {
            "text/plain": [
              "<tf.Tensor: shape=(3, 2), dtype=int32, numpy=\n",
              "array([[ 4,  6],\n",
              "       [ 4,  7],\n",
              "       [13,  8]], dtype=int32)>"
            ]
          },
          "metadata": {
            "tags": []
          },
          "execution_count": 42
        }
      ]
    },
    {
      "cell_type": "code",
      "metadata": {
        "colab": {
          "base_uri": "https://localhost:8080/"
        },
        "id": "kCjio5chdYSD",
        "outputId": "e188cc3c-78af-4190-fbdb-57d5505026db"
      },
      "source": [
        "w16 = tf.add(D, D)\n",
        "w16"
      ],
      "execution_count": null,
      "outputs": [
        {
          "output_type": "execute_result",
          "data": {
            "text/plain": [
              "<tf.Tensor: shape=(3, 1), dtype=int32, numpy=\n",
              "array([[ 4],\n",
              "       [12],\n",
              "       [16]], dtype=int32)>"
            ]
          },
          "metadata": {
            "tags": []
          },
          "execution_count": 43
        }
      ]
    },
    {
      "cell_type": "markdown",
      "metadata": {
        "id": "KAtRmXHVeBvP"
      },
      "source": [
        "**Zad 2:**"
      ]
    },
    {
      "cell_type": "code",
      "metadata": {
        "colab": {
          "base_uri": "https://localhost:8080/"
        },
        "id": "ytmVGfsIeErW",
        "outputId": "68b2eed1-20e5-4ac4-dfe0-7a5dce4c83c3"
      },
      "source": [
        "p = tf.Variable(0)\n",
        "for i in range(0, 9, 1):\n",
        "  p.assign_add(5)\n",
        "  print(p.numpy())"
      ],
      "execution_count": null,
      "outputs": [
        {
          "output_type": "stream",
          "text": [
            "5\n",
            "10\n",
            "15\n",
            "20\n",
            "25\n",
            "30\n",
            "35\n",
            "40\n",
            "45\n"
          ],
          "name": "stdout"
        }
      ]
    },
    {
      "cell_type": "markdown",
      "metadata": {
        "id": "TqDLh9uBgNHu"
      },
      "source": [
        "**Zad 3:**"
      ]
    },
    {
      "cell_type": "code",
      "metadata": {
        "colab": {
          "base_uri": "https://localhost:8080/"
        },
        "id": "DwN0F77sgPbf",
        "outputId": "531633cc-7de5-42b2-c6e7-084b114db5ce"
      },
      "source": [
        "t = tf.constant([1, -3, 4, 6, 10, -12, 34, 7, 10, 8])\n",
        "suma = tf.Variable(0)\n",
        "\n",
        "for i in range (0, tf.size(t).numpy(), 1):\n",
        "  suma.assign_add(t[i]*t[i]) \n",
        "\n",
        "suma.numpy()"
      ],
      "execution_count": null,
      "outputs": [
        {
          "output_type": "execute_result",
          "data": {
            "text/plain": [
              "1675"
            ]
          },
          "metadata": {
            "tags": []
          },
          "execution_count": 85
        }
      ]
    },
    {
      "cell_type": "markdown",
      "metadata": {
        "id": "QwWDC9Z3swvI"
      },
      "source": [
        "**Zad 4:**"
      ]
    },
    {
      "cell_type": "code",
      "metadata": {
        "colab": {
          "base_uri": "https://localhost:8080/"
        },
        "id": "9fdu49y1eMcE",
        "outputId": "4007daa4-4f5f-4d52-e48d-802359541fc7"
      },
      "source": [
        "A_prim = tf.Variable([[2.0, -3.0, 1.0], [4.0, 5.0, 0.0], [2.0, -1.0, 3.0]], dtype=tf.float32)\n",
        "tab = tf.Variable([[100.0, 100.0, 100.0], [100.0, 100.0, 100.0], [100.0, 100.0, 100.0]])\n",
        "A_prim.assign_sub(tab)\n",
        "print(A_prim.numpy())\n",
        "\n",
        "print(A_prim.dtype)\n",
        "print(tab.dtype)\n",
        "\n",
        "\n"
      ],
      "execution_count": null,
      "outputs": [
        {
          "output_type": "stream",
          "text": [
            "[[ -98. -103.  -99.]\n",
            " [ -96.  -95. -100.]\n",
            " [ -98. -101.  -97.]]\n",
            "<dtype: 'float32'>\n",
            "<dtype: 'float32'>\n"
          ],
          "name": "stdout"
        }
      ]
    },
    {
      "cell_type": "markdown",
      "metadata": {
        "id": "ad-J4zjWvdhg"
      },
      "source": [
        "**Tak, można dla tensora A z pierwszego zadania wykonać operację assign_sub, ale tylko wtedy, gdy jako jej argument podamy tensor o identycznych wymiarach jak tensor A (czyli w tym wypadku [3,3]).**\n",
        "\n",
        "**Muszą również zgadzać się typy tensorów, jednak gdy zadeklarujemy tensor tab bez podania typu, to domyślnie dla wartości zmiennoprzecinkowych będzie to float32, a więc w tym wypadku odpowiada on typowi macierzy A_prim**"
      ]
    },
    {
      "cell_type": "code",
      "metadata": {
        "id": "jzo24jX7xJWH"
      },
      "source": [
        ""
      ],
      "execution_count": null,
      "outputs": []
    }
  ]
}